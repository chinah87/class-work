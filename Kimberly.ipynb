{
 "cells": [
  {
   "cell_type": "code",
   "execution_count": 3,
   "metadata": {},
   "outputs": [
    {
     "name": "stdout",
     "output_type": "stream",
     "text": [
      "I can eat 5 chocolate bars a day.\n",
      "I can eat 5 chocolate bars a day.\n"
     ]
    }
   ],
   "source": [
    "print (\"I can eat 5 chocolate bars a day.\")\n",
    "print (\"I can eat\" + \" 5 chocolate bars \" + \"a day.\")\n",
    "       \n",
    "       "
   ]
  },
  {
   "cell_type": "code",
   "execution_count": 10,
   "metadata": {},
   "outputs": [
    {
     "name": "stdout",
     "output_type": "stream",
     "text": [
      "I can eat 5 chocolate bars a day.\n"
     ]
    }
   ],
   "source": [
    "dessert_types = 'chocolate bars'\n",
    "print (\"I can eat 5 \" + dessert_types + \" a day.\")\n"
   ]
  },
  {
   "cell_type": "code",
   "execution_count": 11,
   "metadata": {},
   "outputs": [
    {
     "name": "stdout",
     "output_type": "stream",
     "text": [
      "I can eat 5 CHOCOLATE BARS a day. \n"
     ]
    }
   ],
   "source": [
    "dessert_types = 'chocolate bars'\n",
    "print (\"I can eat 5 \" + dessert_types.upper() + \" a day. \")"
   ]
  },
  {
   "cell_type": "code",
   "execution_count": 13,
   "metadata": {},
   "outputs": [
    {
     "name": "stdout",
     "output_type": "stream",
     "text": [
      "I can eat 5 Chocolate Bars a day. \n"
     ]
    }
   ],
   "source": [
    "dessert_types = 'chocolate bars'\n",
    "amount = 5\n",
    "print(\"I can eat \" + str(amount) + \" \" + dessert_types.title() + \" a day. \")"
   ]
  },
  {
   "cell_type": "code",
   "execution_count": 15,
   "metadata": {},
   "outputs": [
    {
     "name": "stdout",
     "output_type": "stream",
     "text": [
      "I can eat 5 chocolate bars a day. But then I'd need 60 bottles of Bacardi too. \n"
     ]
    }
   ],
   "source": [
    "dessert_types = 'chocolate bars'\n",
    "alcohol = 'bacardi'\n",
    "dessert_amount = 5\n",
    "alcohol_amount = 60\n",
    "\n",
    "print(\"I can eat \" + str(dessert_amount) + \" \" + dessert_types +\n",
    "     \" a day. But then I'd need \" + str(alcohol_amount) + \n",
    "     \" bottles of \" + alcohol.title () + \" too. \")"
   ]
  },
  {
   "cell_type": "code",
   "execution_count": 17,
   "metadata": {},
   "outputs": [
    {
     "name": "stdout",
     "output_type": "stream",
     "text": [
      "Hello, my name is Kimberly. I'm 28 years old, and I live in Chicago. \n"
     ]
    }
   ],
   "source": [
    "name = 'Kimberly'\n",
    "age_amount = 28\n",
    "city = 'Chicago'\n",
    "\n",
    "print (\"Hello, my name is \" + name + \". \" +\n",
    "      \"I'm \" + str(age_amount) + \" years old, and I live in \" + \n",
    "      city + \". \")"
   ]
  },
  {
   "cell_type": "code",
   "execution_count": null,
   "metadata": {},
   "outputs": [],
   "source": []
  }
 ],
 "metadata": {
  "kernelspec": {
   "display_name": "Python 3",
   "language": "python",
   "name": "python3"
  },
  "language_info": {
   "codemirror_mode": {
    "name": "ipython",
    "version": 3
   },
   "file_extension": ".py",
   "mimetype": "text/x-python",
   "name": "python",
   "nbconvert_exporter": "python",
   "pygments_lexer": "ipython3",
   "version": "3.7.0"
  }
 },
 "nbformat": 4,
 "nbformat_minor": 2
}
