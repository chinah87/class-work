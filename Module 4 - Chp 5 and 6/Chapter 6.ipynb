{
 "cells": [
  {
   "cell_type": "markdown",
   "metadata": {},
   "source": [
    "# Introduction: Dictionaries"
   ]
  },
  {
   "cell_type": "code",
   "execution_count": 1,
   "metadata": {},
   "outputs": [
    {
     "name": "stdout",
     "output_type": "stream",
     "text": [
      "green\n",
      "5\n"
     ]
    }
   ],
   "source": [
    "alien_0 = {'color': 'green', 'points': 5}\n",
    "\n",
    "print(alien_0['color'])\n",
    "print(alien_0['points'])"
   ]
  },
  {
   "cell_type": "markdown",
   "metadata": {},
   "source": [
    "Dictionaries allow you to connect related pieces of information. They can store an almost limitless amount of information. You can loop through the data in dictionaries, nest dictionaries in lists, nest lists in dictionaries, and nest dictionaries in dictionaries. \n",
    "\n",
    "Here, we stored information about alien_0, accessed that information, and printed it out."
   ]
  },
  {
   "cell_type": "markdown",
   "metadata": {},
   "source": [
    "# Working with Dictionaries"
   ]
  },
  {
   "cell_type": "markdown",
   "metadata": {},
   "source": [
    "A dictionary is a collection of *key-value pairs*. Each *key* is connected to a *value*, and that *value* can be a number, string, list, or even another dictionary. A dictionary is wrapped in braces {}, with a series of key-value pairs in the braces. Each key is connected to its value by a colon, and key-value pairs are separated by commas. The smallest dictionary has one key-value pair."
   ]
  },
  {
   "cell_type": "markdown",
   "metadata": {},
   "source": [
    "## Accessing values in a dictionary"
   ]
  },
  {
   "cell_type": "code",
   "execution_count": 2,
   "metadata": {},
   "outputs": [
    {
     "name": "stdout",
     "output_type": "stream",
     "text": [
      "green\n"
     ]
    }
   ],
   "source": [
    "alien_0 = {'color': 'green'}\n",
    "\n",
    "print(alien_0['color'])"
   ]
  },
  {
   "cell_type": "code",
   "execution_count": 3,
   "metadata": {},
   "outputs": [
    {
     "name": "stdout",
     "output_type": "stream",
     "text": [
      "You just earned 5 points!\n"
     ]
    }
   ],
   "source": [
    "alien_0 = {'color': 'green', 'points': 5}\n",
    "\n",
    "new_points = alien_0['points']\n",
    "print(\"You just earned \" + str(new_points) + \" points!\")"
   ]
  },
  {
   "cell_type": "markdown",
   "metadata": {},
   "source": [
    "**Example 1** shows how you can access a value in a dictionary by giving the name of the dictionary and placing the key inside square brackets.\n",
    "\n",
    "**Example 2** shows how you can look up how many points you should earn by shooting down this alien. You can pull a value that is associated with a key from a dictionary, and store it in a new variable (\"new_points\"). If you run this code every time an alien is shot down, the alien's point value will be retrieved."
   ]
  },
  {
   "cell_type": "markdown",
   "metadata": {},
   "source": [
    "## Adding new key-value pairs"
   ]
  },
  {
   "cell_type": "code",
   "execution_count": 4,
   "metadata": {},
   "outputs": [
    {
     "name": "stdout",
     "output_type": "stream",
     "text": [
      "{'color': 'green', 'points': 5}\n",
      "{'color': 'green', 'points': 5, 'x_position': 0, 'y_position': 25}\n"
     ]
    }
   ],
   "source": [
    "alien_0 = {'color': 'green', 'points': 5}\n",
    "print(alien_0)\n",
    "\n",
    "alien_0['x_position'] = 0\n",
    "alien_0['y_position'] = 25\n",
    "print(alien_0)"
   ]
  },
  {
   "cell_type": "markdown",
   "metadata": {},
   "source": [
    "Here, we add two new pieces of information about alien_0: it's X and Y coordinates (where it will appear on the screen). Since we want to place the alien on the left edge of the screen, 25 pixels down from the top, and screen coordinates usually start at the top-left of the screen, the x-coordinate will be 0. The y-coordinate will be positive 25.\n",
    "\n",
    "Note: The order of key-value pairs does not match the order in which we added them. Python doesn't care about the order in which key-value pairs are added, it only cares about the connection between each key and its value."
   ]
  },
  {
   "cell_type": "markdown",
   "metadata": {},
   "source": [
    "## Starting with an empty dictionary"
   ]
  },
  {
   "cell_type": "code",
   "execution_count": 5,
   "metadata": {},
   "outputs": [
    {
     "name": "stdout",
     "output_type": "stream",
     "text": [
      "{'color': 'green', 'points': 5}\n"
     ]
    }
   ],
   "source": [
    "alien_0 = {}\n",
    "\n",
    "alien_0['color'] = 'green'\n",
    "alien_0['points'] = 5\n",
    "\n",
    "print(alien_0)"
   ]
  },
  {
   "cell_type": "markdown",
   "metadata": {},
   "source": [
    "You can start with an empty dictionary. This is sometimes more convenient, or even necessary. Then you can add items to it. Add each key-value pair on its own line."
   ]
  },
  {
   "cell_type": "markdown",
   "metadata": {},
   "source": [
    "## Modifying values in a dictionary"
   ]
  },
  {
   "cell_type": "code",
   "execution_count": 6,
   "metadata": {},
   "outputs": [
    {
     "name": "stdout",
     "output_type": "stream",
     "text": [
      "The alien is green.\n",
      "The alien is now yellow.\n"
     ]
    }
   ],
   "source": [
    "alien_0 = {'color': 'green'}\n",
    "print(\"The alien is \" + alien_0['color'] + \".\")\n",
    "\n",
    "alien_0['color'] = 'yellow'\n",
    "print(\"The alien is now \" + alien_0['color'] + \".\")"
   ]
  },
  {
   "cell_type": "markdown",
   "metadata": {},
   "source": [
    "To modify a value in a dictionary, give the name of the dictionary with the key in square brackets. Then write the new value that you want associated with that key."
   ]
  },
  {
   "cell_type": "code",
   "execution_count": 12,
   "metadata": {},
   "outputs": [
    {
     "name": "stdout",
     "output_type": "stream",
     "text": [
      "Original x-position: 0\n",
      "New x-position: 2\n"
     ]
    }
   ],
   "source": [
    "alien_0 = {'x_position': 0, 'y_position': 25, 'speed': 'medium'}\n",
    "print(\"Original x-position: \" + str(alien_0['x_position']))\n",
    "\n",
    "# Move the alien to the right.\n",
    "# Determine how far to move the alien based on its current speed.\n",
    "\n",
    "if alien_0['speed'] == 'slow':\n",
    "    x_increment = 1\n",
    "elif alien_0['speed'] == 'medium': \n",
    "    x_increment = 2\n",
    "else:\n",
    "    # This must be a fast alien.\n",
    "    x_increment = 3\n",
    "\n",
    "# The new position is the old position plus the increment.\n",
    "alien_0['x_position'] = alien_0['x_position'] + x_increment\n",
    "\n",
    "print(\"New x-position: \" + str(alien_0['x_position']))"
   ]
  },
  {
   "cell_type": "markdown",
   "metadata": {},
   "source": [
    "Here, we are tracking the position of an alien that can move at different speeds. We stored the value representing the alien's current speed, then used it to determine how far to the right the alien should move. \n",
    "\n",
    "We started by defining the alien's initial position (x and y) and initial speed. Then we use an **if-elif-else** chain to determine how far the alien should move to the right, and we store the value as the variable *x_increment*. Each integer represents how many units to the right the alien moves. The program goes through the **if-elif-else** chain to determine the x_increment, and adds that to the initial x_position. It is then stored as the new value of *x_position*. "
   ]
  },
  {
   "cell_type": "markdown",
   "metadata": {},
   "source": [
    "## Removing key-value pairs"
   ]
  },
  {
   "cell_type": "code",
   "execution_count": 13,
   "metadata": {},
   "outputs": [
    {
     "name": "stdout",
     "output_type": "stream",
     "text": [
      "{'color': 'green', 'points': 5}\n",
      "{'color': 'green'}\n"
     ]
    }
   ],
   "source": [
    "alien_0 = {'color': 'green', 'points': 5}\n",
    "print(alien_0)\n",
    "\n",
    "del alien_0['points']\n",
    "print(alien_0)"
   ]
  },
  {
   "cell_type": "markdown",
   "metadata": {},
   "source": [
    "You can use **del** to permanently remove key-value pairs from a dictionary."
   ]
  },
  {
   "cell_type": "markdown",
   "metadata": {},
   "source": [
    "## A dictionary of similar objects"
   ]
  },
  {
   "cell_type": "code",
   "execution_count": 16,
   "metadata": {},
   "outputs": [
    {
     "name": "stdout",
     "output_type": "stream",
     "text": [
      "Sarah's favorite language is C.\n"
     ]
    }
   ],
   "source": [
    "favorite_languages = {\n",
    "    'jen': 'python', \n",
    "    'sarah': 'c', \n",
    "    'edward': 'ruby', \n",
    "    'phil': 'python',\n",
    "    }\n",
    "\n",
    "print(\"Sarah's favorite language is \" + \n",
    "      favorite_languages['sarah'].title() + \n",
    "      \".\")"
   ]
  },
  {
   "cell_type": "markdown",
   "metadata": {},
   "source": [
    "The previous examples have been about dictionaries that store different kinds of information about one object. You can also use a dictionary to store one kind of information for many objects. \n",
    "\n",
    "Here, we polled different people about their favorite programming langauges, and stored their answers. We can break a larger dictionary up into several lines. If you need more than one line to define a dictionary, press ENTER after the opening brace. Indent the next line one level, write the first key-value pair, followed by a comma. Keep pressing ENTER and adding in key-value pairs with commas. It's a good practice to include a comma with the last key-value pair, so you are ready to add a new key-value pair on the next line. End with a closing brace, also indented one level.\n",
    "\n",
    "This example shows how you can break up a long **print** statement into several lines. Choose a good point to break up the statement, and add a *concatenation operator* ( + ) at the end of the first line. Press ENTER and then TAB to align all subsequent lines to be indented by one level. You can place the closing parenthesis on the last line of the statement."
   ]
  },
  {
   "cell_type": "markdown",
   "metadata": {},
   "source": [
    "# Try It Yourself!"
   ]
  },
  {
   "cell_type": "markdown",
   "metadata": {},
   "source": [
    "## 6-1: Person"
   ]
  },
  {
   "cell_type": "code",
   "execution_count": 17,
   "metadata": {},
   "outputs": [
    {
     "name": "stdout",
     "output_type": "stream",
     "text": [
      "Amanda\n",
      "Chin\n",
      "Seattle\n"
     ]
    }
   ],
   "source": [
    "personal_information = {\n",
    "    'first_name': 'amanda', \n",
    "    'last_name': 'chin', \n",
    "    'city': 'seattle'\n",
    "    }\n",
    "\n",
    "print(personal_information['first_name'].title())\n",
    "print(personal_information['last_name'].title())\n",
    "print(personal_information['city'].title())"
   ]
  },
  {
   "cell_type": "markdown",
   "metadata": {},
   "source": [
    "## 6-2: Favorite Numbers"
   ]
  },
  {
   "cell_type": "code",
   "execution_count": 19,
   "metadata": {},
   "outputs": [
    {
     "name": "stdout",
     "output_type": "stream",
     "text": [
      "Amanda's favorite number is 31.\n",
      "Tom's favorite number is 29.\n",
      "Kayla's favorite number is 26.\n",
      "Kim's favorite number is 27.\n",
      "Jeff's favorite number is 17.\n"
     ]
    }
   ],
   "source": [
    "favorite_numbers = {\n",
    "    'amanda': 31,\n",
    "    'tom': 29,\n",
    "    'kayla': 26,\n",
    "    'kim': 27, \n",
    "    'jeff': 17\n",
    "    }\n",
    "\n",
    "print(\"Amanda's favorite number is \" + \n",
    "      str(favorite_numbers['amanda']) + \".\")\n",
    "print(\"Tom's favorite number is \" + \n",
    "      str(favorite_numbers['tom']) + \".\")\n",
    "print(\"Kayla's favorite number is \" + \n",
    "      str(favorite_numbers['kayla']) + \".\")\n",
    "print(\"Kim's favorite number is \" + \n",
    "      str(favorite_numbers['kim']) + \".\")\n",
    "print(\"Jeff's favorite number is \" + \n",
    "      str(favorite_numbers['jeff']) + \".\")"
   ]
  },
  {
   "cell_type": "markdown",
   "metadata": {},
   "source": [
    "## 6-3: Glossary"
   ]
  },
  {
   "cell_type": "code",
   "execution_count": 20,
   "metadata": {},
   "outputs": [
    {
     "name": "stdout",
     "output_type": "stream",
     "text": [
      "STRING\n",
      "\n",
      "A series of characters. Anything inside single or double quotes.\n",
      "\n",
      "FLOAT\n",
      "\n",
      "Any number with a decimal point.\n",
      "\n",
      "LOOPING\n",
      "\n",
      "Taking the same action (or set of actions) with every item in a list.\n",
      "\n",
      "IMMUTABLE\n",
      "\n",
      "A value that cannot change.\n",
      "\n",
      "TUPLE\n",
      "\n",
      "An immutable list. Use parentheses instead of square brackets.\n"
     ]
    }
   ],
   "source": [
    "python_words = {\n",
    "    'string': 'A series of characters. Anything inside single or double quotes.',\n",
    "    'float': 'Any number with a decimal point.',\n",
    "    'looping': 'Taking the same action (or set of actions) with every item in a list.',\n",
    "    'immutable': 'A value that cannot change.',\n",
    "    'tuple': 'An immutable list. Use parentheses instead of square brackets.',\n",
    "    }\n",
    "\n",
    "print(\"STRING\")\n",
    "print(\"\\n\" + python_words['string'])\n",
    "print(\"\\nFLOAT\")\n",
    "print(\"\\n\" + python_words['float'])\n",
    "print(\"\\nLOOPING\")\n",
    "print(\"\\n\" + python_words['looping'])\n",
    "print(\"\\nIMMUTABLE\")\n",
    "print(\"\\n\" + python_words['immutable'])\n",
    "print(\"\\nTUPLE\")\n",
    "print(\"\\n\" + python_words['tuple'])"
   ]
  },
  {
   "cell_type": "markdown",
   "metadata": {},
   "source": [
    "# Looping Through a Dictionary"
   ]
  },
  {
   "cell_type": "markdown",
   "metadata": {},
   "source": [
    "## Looping through all key-value pairs"
   ]
  },
  {
   "cell_type": "code",
   "execution_count": 21,
   "metadata": {},
   "outputs": [
    {
     "name": "stdout",
     "output_type": "stream",
     "text": [
      "\n",
      "Key: username\n",
      "Value: efermi\n",
      "\n",
      "Key: first\n",
      "Value: enrico\n",
      "\n",
      "Key: last\n",
      "Value: fermi\n"
     ]
    }
   ],
   "source": [
    "user_0 = {\n",
    "    'username': 'efermi',\n",
    "    'first': 'enrico',\n",
    "    'last': 'fermi',\n",
    "    }\n",
    "\n",
    "for key, value in user_0.items():\n",
    "    print(\"\\nKey: \" + key)\n",
    "    print(\"Value: \" + value)"
   ]
  },
  {
   "cell_type": "markdown",
   "metadata": {},
   "source": [
    "Previously, we could access any single piece of information about user_0. Here, we can see everything stored in the dictionary by looping through it. \n",
    "\n",
    "To write a **for loop**, create names for the two variables that hold the key and value in each pair. Here, the variables are labeled *key* and *value*, but you could easily do abbreviations, such as \"for k, v in user_0.items()\". The second half of the **for** statement is the name of the dictionary followed by the method **items()**. This returns a list of key-value pairs.\n",
    "\n",
    "The **for loop** will then store each pair in the two variables provided. In this example, we used the variables to print each *key*, followed by each *value*. \n",
    "\n",
    "In the textbook, the key-value pairs did not print in the same order as they were listed in the dictionary. This may happen - it's because Python doesn't care about the order in which key-value pairs are stored. It only tracks the connections between keys and their values. "
   ]
  },
  {
   "cell_type": "code",
   "execution_count": 22,
   "metadata": {},
   "outputs": [
    {
     "name": "stdout",
     "output_type": "stream",
     "text": [
      "Jen's favorite language is Python.\n",
      "Sarah's favorite language is C.\n",
      "Edward's favorite language is Ruby.\n",
      "Phil's favorite language is Python.\n"
     ]
    }
   ],
   "source": [
    "favorite_languages = {\n",
    "    'jen': 'python',\n",
    "    'sarah': 'c',\n",
    "    'edward': 'ruby',\n",
    "    'phil': 'python',\n",
    "    }\n",
    "\n",
    "for name, language in favorite_languages.items():\n",
    "    print(name.title() + \"'s favorite language is \" +\n",
    "         language.title() + \".\")"
   ]
  },
  {
   "cell_type": "markdown",
   "metadata": {},
   "source": [
    "Here is another example, showing how you can change the names you give the *key* and *value* variables. This makes it easier to see what our code is doing."
   ]
  },
  {
   "cell_type": "markdown",
   "metadata": {},
   "source": [
    "# Looping through all the keys in a dictionary"
   ]
  },
  {
   "cell_type": "code",
   "execution_count": 23,
   "metadata": {},
   "outputs": [
    {
     "name": "stdout",
     "output_type": "stream",
     "text": [
      "Jen\n",
      "Sarah\n",
      "Edward\n",
      "Phil\n"
     ]
    }
   ],
   "source": [
    "favorite_languages = {\n",
    "    'jen': 'python',\n",
    "    'sarah': 'c',\n",
    "    'edward': 'ruby',\n",
    "    'phil': 'python',\n",
    "    }\n",
    "\n",
    "for name in favorite_languages.keys():\n",
    "    print(name.title())"
   ]
  },
  {
   "cell_type": "code",
   "execution_count": 24,
   "metadata": {},
   "outputs": [
    {
     "name": "stdout",
     "output_type": "stream",
     "text": [
      "Jen\n",
      "Sarah\n",
      "Edward\n",
      "Phil\n"
     ]
    }
   ],
   "source": [
    "favorite_languages = {\n",
    "    'jen': 'python',\n",
    "    'sarah': 'c',\n",
    "    'edward': 'ruby',\n",
    "    'phil': 'python',\n",
    "    }\n",
    "\n",
    "for name in favorite_languages:\n",
    "    print(name.title())"
   ]
  },
  {
   "cell_type": "code",
   "execution_count": 27,
   "metadata": {},
   "outputs": [
    {
     "name": "stdout",
     "output_type": "stream",
     "text": [
      "Jen\n",
      "Sarah\n",
      " Hi Sarah, I see your favorite language is C!\n",
      "Edward\n",
      "Phil\n",
      " Hi Phil, I see your favorite language is Python!\n"
     ]
    }
   ],
   "source": [
    "favorite_languages = {\n",
    "    'jen': 'python',\n",
    "    'sarah': 'c',\n",
    "    'edward': 'ruby',\n",
    "    'phil': 'python',\n",
    "    }\n",
    "\n",
    "friends = ['phil', 'sarah']\n",
    "\n",
    "for name in favorite_languages.keys():\n",
    "    print(name.title())\n",
    "    \n",
    "    if name in friends:\n",
    "        print(\" Hi \" + name.title() +\n",
    "        \", I see your favorite language is \" + \n",
    "        favorite_languages[name].title() + \"!\")"
   ]
  },
  {
   "cell_type": "code",
   "execution_count": 28,
   "metadata": {},
   "outputs": [
    {
     "name": "stdout",
     "output_type": "stream",
     "text": [
      "Erin, please take our poll!\n"
     ]
    }
   ],
   "source": [
    "favorite_languages = {\n",
    "    'jen': 'python',\n",
    "    'sarah': 'c',\n",
    "    'edward': 'ruby',\n",
    "    'phil': 'python',\n",
    "    }\n",
    "\n",
    "if 'erin' not in favorite_languages.keys():\n",
    "    print(\"Erin, please take our poll!\")"
   ]
  },
  {
   "cell_type": "markdown",
   "metadata": {},
   "source": [
    "If you don't need to work with all of the values in the dictionary, you can loop through keys with the **keys()** method. **Example 1** shows this. But, actually, looping through keys is Python's default, so you don't necessarily need the **keys()** method. **Example 2** shows this. You can choose to use **keys()** to make your code easier to read.\n",
    "\n",
    "You can access any value associated with any key inside a loop by using the current key. This is seen in **Example 3**. We can loop through all of the names, but when the name matches one of our friends, we can display a message. To access the value (favorite language) in the **print** statement, we use the name of the dictionary and the current value of *name* as the key. This is the \"favorite_languages[name].title()\" part.\n",
    "\n",
    "In **Example 4**, we can use **keys()** to check if a particular person was polled. Here, the **keys()** method isn't just for looping, it actually returns a list of all the keys and then checks if 'erin' is in the list. "
   ]
  },
  {
   "cell_type": "markdown",
   "metadata": {},
   "source": [
    "## Looping through a dictionary's keys in order"
   ]
  },
  {
   "cell_type": "code",
   "execution_count": 29,
   "metadata": {},
   "outputs": [
    {
     "name": "stdout",
     "output_type": "stream",
     "text": [
      "Edward, thank you for taking the poll.\n",
      "Jen, thank you for taking the poll.\n",
      "Phil, thank you for taking the poll.\n",
      "Sarah, thank you for taking the poll.\n"
     ]
    }
   ],
   "source": [
    "favorite_languages = {\n",
    "    'jen': 'python',\n",
    "    'sarah': 'c',\n",
    "    'edward': 'ruby',\n",
    "    'phil': 'python',\n",
    "    }\n",
    "\n",
    "for name in sorted(favorite_languages.keys()):\n",
    "    print(name.title() + \", thank you for taking the poll.\")"
   ]
  },
  {
   "cell_type": "markdown",
   "metadata": {},
   "source": [
    "Because Python doesn't care about the order in which key-values are listed in a dictionary, if you want to print in a specific order you need to use the **sorted()** function. Here, we wrap the **sorted()** function around the **dictionary.keys()** method. Python will list all keys in the dictionary and sort that list before looping through it."
   ]
  },
  {
   "cell_type": "markdown",
   "metadata": {},
   "source": [
    "## Looping through all values in a dictionary"
   ]
  },
  {
   "cell_type": "code",
   "execution_count": 31,
   "metadata": {},
   "outputs": [
    {
     "name": "stdout",
     "output_type": "stream",
     "text": [
      "The following languages have been mentioned:\n",
      "Python\n",
      "C\n",
      "Ruby\n",
      "Python\n"
     ]
    }
   ],
   "source": [
    "favorite_languages = {\n",
    "    'jen': 'python',\n",
    "    'sarah': 'c',\n",
    "    'edward': 'ruby',\n",
    "    'phil': 'python',\n",
    "    }\n",
    "\n",
    "print(\"The following languages have been mentioned:\")\n",
    "for language in favorite_languages.values():\n",
    "    print(language.title())"
   ]
  },
  {
   "cell_type": "code",
   "execution_count": 32,
   "metadata": {},
   "outputs": [
    {
     "name": "stdout",
     "output_type": "stream",
     "text": [
      "The following languages have been mentioned:\n",
      "Ruby\n",
      "C\n",
      "Python\n"
     ]
    }
   ],
   "source": [
    "favorite_languages = {\n",
    "    'jen': 'python',\n",
    "    'sarah': 'c',\n",
    "    'edward': 'ruby',\n",
    "    'phil': 'python',\n",
    "    }\n",
    "\n",
    "print(\"The following languages have been mentioned:\")\n",
    "for language in set(favorite_languages.values()):\n",
    "    print(language.title())"
   ]
  },
  {
   "cell_type": "markdown",
   "metadata": {},
   "source": [
    "You can use the **values()** method to return a list of values without any keys. This doesn't check for repeats. When you wrap **set()** around a list that contains duplicate items, Python identifies the unique items and builds a set from those items.  "
   ]
  },
  {
   "cell_type": "markdown",
   "metadata": {},
   "source": [
    "# Try It Yourself!"
   ]
  },
  {
   "cell_type": "markdown",
   "metadata": {},
   "source": [
    "## 6-4: Glossary 2"
   ]
  },
  {
   "cell_type": "code",
   "execution_count": 37,
   "metadata": {},
   "outputs": [
    {
     "name": "stdout",
     "output_type": "stream",
     "text": [
      "\n",
      "STRING\n",
      "\n",
      "A series of characters. Anything inside single or double quotes.\n",
      "\n",
      "FLOAT\n",
      "\n",
      "Any number with a decimal point.\n",
      "\n",
      "LOOPING\n",
      "\n",
      "Taking the same action (or set of actions) with every item in a list.\n",
      "\n",
      "IMMUTABLE\n",
      "\n",
      "A value that cannot change.\n",
      "\n",
      "TUPLE\n",
      "\n",
      "An immutable list. Use parentheses instead of square brackets.\n",
      "\n",
      "VARIABLE\n",
      "\n",
      "Something that holds a value (information associated with the variable).\n",
      "\n",
      "METHOD\n",
      "\n",
      "An action that Python can perform on a piece of data.\n",
      "\n",
      "LIST\n",
      "\n",
      "A collection of items in a particular order.\n",
      "\n",
      "INDEX\n",
      "\n",
      "The position of the item in the list.\n",
      "\n",
      "SLICE\n",
      "\n",
      "A specific group of items in a list.\n"
     ]
    }
   ],
   "source": [
    "python_words = {\n",
    "    'string': 'A series of characters. Anything inside single or double quotes.',\n",
    "    'float': 'Any number with a decimal point.',\n",
    "    'looping': 'Taking the same action (or set of actions) with every item in a list.',\n",
    "    'immutable': 'A value that cannot change.',\n",
    "    'tuple': 'An immutable list. Use parentheses instead of square brackets.',\n",
    "    'variable': 'Something that holds a value (information associated with the variable).',\n",
    "    'method': 'An action that Python can perform on a piece of data.',\n",
    "    'list': 'A collection of items in a particular order.',\n",
    "    'index': 'The position of the item in the list.', \n",
    "    'slice': 'A specific group of items in a list.',\n",
    "    }\n",
    "\n",
    "for word in python_words.keys():\n",
    "    print(\"\\n\" + word.upper())\n",
    "    print(\"\\n\" + python_words[word])"
   ]
  },
  {
   "cell_type": "markdown",
   "metadata": {},
   "source": [
    "## 6-5: Rivers"
   ]
  },
  {
   "cell_type": "code",
   "execution_count": 41,
   "metadata": {},
   "outputs": [
    {
     "name": "stdout",
     "output_type": "stream",
     "text": [
      "The Yangtze runs through China.\n",
      "The Ganges runs through India.\n",
      "The Mekong runs through Vietnam.\n",
      "\n",
      "The names of the rivers are:\n",
      "The Yangtze\n",
      "The Ganges\n",
      "The Mekong\n",
      "\n",
      "The countries these rivers are in are:\n",
      "China\n",
      "India\n",
      "Vietnam\n"
     ]
    }
   ],
   "source": [
    "rivers = {\n",
    "    'yangtze': 'china',\n",
    "    'ganges': 'india',\n",
    "    'mekong': 'vietnam',\n",
    "    }\n",
    "\n",
    "for river, country in rivers.items():\n",
    "    print(\"The \" + river.title() + \" runs through \" + \n",
    "         country.title() + \".\")\n",
    "\n",
    "print(\"\\nThe names of the rivers are:\")\n",
    "for river in rivers.keys():\n",
    "    print(\"The \" + river.title())\n",
    "    \n",
    "print(\"\\nThe countries these rivers are in are:\")\n",
    "for country in rivers.values():\n",
    "    print(country.title())"
   ]
  },
  {
   "cell_type": "markdown",
   "metadata": {},
   "source": [
    "## 6-6: Polling"
   ]
  },
  {
   "cell_type": "code",
   "execution_count": 46,
   "metadata": {},
   "outputs": [
    {
     "name": "stdout",
     "output_type": "stream",
     "text": [
      "Daniel, we still need to hear from you!\n",
      "Jen, thank you for taking the survey!\n",
      "Martha, we still need to hear from you!\n",
      "Becky, we still need to hear from you!\n",
      "Edward, thank you for taking the survey!\n",
      "George, we still need to hear from you!\n"
     ]
    }
   ],
   "source": [
    "favorite_languages = {\n",
    "    'jen': 'python',\n",
    "    'sarah': 'c',\n",
    "    'edward': 'ruby',\n",
    "    'phil': 'python',\n",
    "    }\n",
    "\n",
    "required_pollers = ['daniel', 'jen', 'martha', 'becky', 'edward', 'george']\n",
    "\n",
    "for poller in required_pollers:\n",
    "    if poller in favorite_languages.keys():\n",
    "        print(poller.title() + \", thank you for taking the survey!\")\n",
    "    else: \n",
    "        print(poller.title() + \", we still need to hear from you!\")"
   ]
  },
  {
   "cell_type": "markdown",
   "metadata": {},
   "source": [
    "# Nesting"
   ]
  },
  {
   "cell_type": "markdown",
   "metadata": {},
   "source": [
    "## A list of dictionaries"
   ]
  },
  {
   "cell_type": "code",
   "execution_count": 47,
   "metadata": {},
   "outputs": [
    {
     "name": "stdout",
     "output_type": "stream",
     "text": [
      "{'color': 'green', 'points': 5}\n",
      "{'color': 'yellow', 'points': 10}\n",
      "{'color': 'red', 'points': 15}\n"
     ]
    }
   ],
   "source": [
    "alien_0 = {'color': 'green', 'points': 5}\n",
    "alien_1 = {'color': 'yellow', 'points': 10}\n",
    "alien_2 = {'color': 'red', 'points': 15}\n",
    "\n",
    "aliens = [alien_0, alien_1, alien_2]\n",
    "\n",
    "for alien in aliens:\n",
    "    print(alien)"
   ]
  },
  {
   "cell_type": "markdown",
   "metadata": {},
   "source": [
    "You can store a set of dictionaries in a list. Here, alien_0 contains a variety of information about one alien, but you cannot store information about other aliens. You can create separate dictionaries for each alien, and make a list of aliens. \n",
    "\n",
    "Next is a more complex example. This is more realistic than the first example in that it does not simply have three aliens, but rather is a code that generates aliens. We use the **range()** function to create a fleet of 30 aliens. "
   ]
  },
  {
   "cell_type": "code",
   "execution_count": 108,
   "metadata": {},
   "outputs": [
    {
     "name": "stdout",
     "output_type": "stream",
     "text": [
      "{'color': 'green', 'points': 5, 'speed': 'slow'}\n",
      "{'color': 'green', 'points': 5, 'speed': 'slow'}\n",
      "{'color': 'green', 'points': 5, 'speed': 'slow'}\n",
      "{'color': 'green', 'points': 5, 'speed': 'slow'}\n",
      "{'color': 'green', 'points': 5, 'speed': 'slow'}\n",
      "...\n",
      "The total number of aliens: 30\n"
     ]
    }
   ],
   "source": [
    "# Make an empty list for storing aliens.\n",
    "aliens = []\n",
    "\n",
    "# Make 30 green aliens.\n",
    "for alien_number in range(30):\n",
    "    new_alien = {'color': 'green', 'points': 5, 'speed': 'slow'}\n",
    "    aliens.append(new_alien)\n",
    "    \n",
    "# Show the first 5 aliens.\n",
    "for alien in aliens[:5]:\n",
    "    print(alien)\n",
    "print(\"...\")\n",
    "\n",
    "# Show how many aliens have been created.\n",
    "print(\"The total number of aliens: \" + str(len(aliens)))"
   ]
  },
  {
   "cell_type": "markdown",
   "metadata": {},
   "source": [
    "First, we create an empty list that will hold all of the aliens that will be created. Then, **range()** is used to return a set of numbers and tell Python how many times it should repeat the loop. Each time the loop runs, it creates a new alien. Then it appends each new alien to the list of aliens. Next, we print the first five aliens with a **slice**. Finally, we use the **len()** function to print the length of the list.\n",
    "\n",
    "Though each alien in the list has the same characteristics, they are all separate objects. This is useful if you want to modify individual aliens.\n",
    "\n",
    "For instance, imagine the game has aliens changing color and moving faster as the game progresses. When it's time to change colors, we can use a **for loop** and an **if-staement** to change the color. "
   ]
  },
  {
   "cell_type": "code",
   "execution_count": 55,
   "metadata": {},
   "outputs": [
    {
     "name": "stdout",
     "output_type": "stream",
     "text": [
      "{'color': 'yellow', 'points': 10, 'speed': 'medium'}\n",
      "{'color': 'yellow', 'points': 10, 'speed': 'medium'}\n",
      "{'color': 'yellow', 'points': 10, 'speed': 'medium'}\n",
      "{'color': 'green', 'points': 5, 'speed': 'slow'}\n",
      "{'color': 'green', 'points': 5, 'speed': 'slow'}\n",
      "...\n",
      "The total number of aliens: 30\n"
     ]
    }
   ],
   "source": [
    "# Make an empty list for storing aliens.\n",
    "aliens = []\n",
    "\n",
    "# Make 30 green aliens.\n",
    "for alien_number in range(30):\n",
    "    new_alien = {'color': 'green', 'points': 5, 'speed': 'slow'}\n",
    "    aliens.append(new_alien)\n",
    "\n",
    "# Change the first 3 aliens to yellow, medium-speed aliens, worth 10 points.\n",
    "for alien in aliens[0:3]:\n",
    "    if alien['color'] == 'green':\n",
    "        alien['color'] = 'yellow'\n",
    "        alien['speed'] = 'medium'\n",
    "        alien['points'] = 10\n",
    "\n",
    "# Show the first 5 aliens.\n",
    "for alien in aliens[:5]:\n",
    "    print(alien)\n",
    "print(\"...\")\n",
    "\n",
    "# Show how many aliens have been created.\n",
    "print(\"The total number of aliens: \" + str(len(aliens)))"
   ]
  },
  {
   "cell_type": "markdown",
   "metadata": {},
   "source": [
    "Here, we want to change the color of the first three aliens. We create a loop for a slice of the first three. In this example, all of the aliens are green, but that won't always be the case. We write an **if-statement** to make sure we are only changing the green aliens. If the alien is green, we change it to yellow, medium-speed, and worth 10 points.\n",
    "\n",
    "You could also include an **elif** block to change yellow aliens to red, fast, and worth 15 points. For instance:\n",
    "\n",
    "elif alien['color'] == 'yellow':\n",
    "    alien['color'] = 'red'\n",
    "    alien['speed'] = 'fast'\n",
    "    alien['points'] = 15"
   ]
  },
  {
   "cell_type": "markdown",
   "metadata": {},
   "source": [
    "## A list in a dictionary"
   ]
  },
  {
   "cell_type": "markdown",
   "metadata": {},
   "source": [
    "Sometimes it's useful to put a list inside a dictionary. For instance, when describing a pizza that someone is ordering. If you only use a list, all you can do is store a list of the pizza toppings. With a dictionary, a list of toppings can be just one aspect of the pizza you're describing."
   ]
  },
  {
   "cell_type": "code",
   "execution_count": 57,
   "metadata": {},
   "outputs": [
    {
     "name": "stdout",
     "output_type": "stream",
     "text": [
      "You ordered a thick-crust pizza with the following toppings:\n",
      "\tmushrooms\n",
      "\textra cheese\n"
     ]
    }
   ],
   "source": [
    "# Store information about a pizza being ordered.\n",
    "pizza = {\n",
    "    'crust': 'thick',\n",
    "    'toppings': ['mushrooms', 'extra cheese'],\n",
    "    }\n",
    "\n",
    "# Summarize the order.\n",
    "print(\"You ordered a \" + pizza['crust'] + \"-crust pizza\" +\n",
    "     \" with the following toppings:\")\n",
    "\n",
    "for topping in pizza['toppings']:\n",
    "    print(\"\\t\" + topping)"
   ]
  },
  {
   "cell_type": "markdown",
   "metadata": {},
   "source": [
    "We first create a dictionary that has information about a pizza being ordered. The first key is 'crust', and the associated value is 'thick'. The next key is 'toppings', and the value is a list with all requested toppings. We print a statement to summarize the order. We use a **for loop** to print the toppings. Python can grab the list of toppings from the dictionary.\n",
    "\n",
    "You can nest a list inside a dictionary anytime you want more than one value to be associated with any single key. "
   ]
  },
  {
   "cell_type": "code",
   "execution_count": 58,
   "metadata": {},
   "outputs": [
    {
     "name": "stdout",
     "output_type": "stream",
     "text": [
      "\n",
      "Jen's favorite languages are:\n",
      "\tPython\n",
      "\tRuby\n",
      "\n",
      "Sarah's favorite languages are:\n",
      "\tC\n",
      "\n",
      "Edward's favorite languages are:\n",
      "\tRuby\n",
      "\tGo\n",
      "\n",
      "Phil's favorite languages are:\n",
      "\tPython\n",
      "\tHaskell\n"
     ]
    }
   ],
   "source": [
    "favorite_languages = {\n",
    "    'jen': ['python', 'ruby'],\n",
    "    'sarah': ['c'],\n",
    "    'edward': ['ruby', 'go'],\n",
    "    'phil': ['python', 'haskell'],\n",
    "    }\n",
    "\n",
    "for name, languages in favorite_languages.items():\n",
    "    print(\"\\n\" + name.title() + \"'s favorite languages are:\")\n",
    "    for language in languages:\n",
    "        print(\"\\t\" + language.title())"
   ]
  },
  {
   "cell_type": "markdown",
   "metadata": {},
   "source": [
    "You can refine this program even further by including an **if-statement** to see whether each person has more than one favorite language (checking the value of **len(languages)**):"
   ]
  },
  {
   "cell_type": "code",
   "execution_count": 61,
   "metadata": {},
   "outputs": [
    {
     "name": "stdout",
     "output_type": "stream",
     "text": [
      "\n",
      "Jen's favorite languages are:\n",
      "\tPython\n",
      "\tRuby\n",
      "\n",
      "Sarah's favorite language is:\n",
      "\tC\n",
      "\n",
      "Edward's favorite languages are:\n",
      "\tRuby\n",
      "\tGo\n",
      "\n",
      "Phil's favorite languages are:\n",
      "\tPython\n",
      "\tHaskell\n"
     ]
    }
   ],
   "source": [
    "favorite_languages = {\n",
    "    'jen': ['python', 'ruby'],\n",
    "    'sarah': ['c'],\n",
    "    'edward': ['ruby', 'go'],\n",
    "    'phil': ['python', 'haskell'],\n",
    "    }\n",
    "\n",
    "for name, languages in favorite_languages.items():\n",
    "    if len(languages) == 1:\n",
    "        print(\"\\n\" + name.title() + \"'s favorite language is:\")\n",
    "        for language in languages:\n",
    "            print(\"\\t\" + language.title())\n",
    "    else:\n",
    "        print(\"\\n\" + name.title() + \"'s favorite languages are:\")\n",
    "        for language in languages:\n",
    "            print(\"\\t\" + language.title())"
   ]
  },
  {
   "cell_type": "markdown",
   "metadata": {},
   "source": [
    "**Be careful**: Try not to nest lists and dictionaries too deeply! If you find yourself going too deep, there's probably a simpler way to solve the problem."
   ]
  },
  {
   "cell_type": "markdown",
   "metadata": {},
   "source": [
    "## A dictionary in a dictionary"
   ]
  },
  {
   "cell_type": "markdown",
   "metadata": {},
   "source": [
    "Your code can get messy with this, but you can nest a dictionary within a dictionary. \n",
    "\n",
    "For example, say you have a website with several users. You can use their usernames as keys in a dictionary, and store information for each user. The value of the username key is a dictionary with that information."
   ]
  },
  {
   "cell_type": "code",
   "execution_count": 62,
   "metadata": {},
   "outputs": [
    {
     "name": "stdout",
     "output_type": "stream",
     "text": [
      "\n",
      "Username: aeinstein\n",
      "\tFull name: Albert Einstein\n",
      "\tLocation: Princteon\n",
      "\n",
      "Username: mcurie\n",
      "\tFull name: Marie Curie\n",
      "\tLocation: Paris\n"
     ]
    }
   ],
   "source": [
    "users = {\n",
    "    'aeinstein': {\n",
    "        'first': 'albert',\n",
    "        'last': 'einstein',\n",
    "        'location': 'princteon',\n",
    "        },\n",
    "    'mcurie': {\n",
    "        'first': 'marie',\n",
    "        'last': 'curie',\n",
    "        'location': 'paris',\n",
    "        },\n",
    "    }\n",
    "\n",
    "for username, user_info in users.items():\n",
    "    print(\"\\nUsername: \" + username)\n",
    "    full_name = user_info['first'] + \" \" + user_info['last']\n",
    "    location = user_info['location']\n",
    "    \n",
    "    print(\"\\tFull name: \" + full_name.title())\n",
    "    print(\"\\tLocation: \" + location.title())\n",
    "\n"
   ]
  },
  {
   "cell_type": "markdown",
   "metadata": {},
   "source": [
    "Note that the structure of each user's dictionary is the same. You don't have to do this, but this structure makes nested dictionaries easier to work with. "
   ]
  },
  {
   "cell_type": "markdown",
   "metadata": {},
   "source": [
    "# Try It Yourself!"
   ]
  },
  {
   "cell_type": "markdown",
   "metadata": {},
   "source": [
    "## 6-7: People"
   ]
  },
  {
   "cell_type": "code",
   "execution_count": 99,
   "metadata": {},
   "outputs": [
    {
     "name": "stdout",
     "output_type": "stream",
     "text": [
      "\n",
      "Amanda Chin is from Tokyo.\n",
      "\n",
      "Tom Miesen is from Beaverton.\n",
      "\n",
      "Kayla Kuchta is from Ann Arbor.\n"
     ]
    }
   ],
   "source": [
    "person_1 = {\n",
    "    'first': 'amanda', \n",
    "    'last': 'chin', \n",
    "    'city': 'tokyo',\n",
    "    }\n",
    "\n",
    "person_2 = {\n",
    "    'first': 'tom',\n",
    "    'last': 'miesen',\n",
    "    'city': 'beaverton',\n",
    "    }\n",
    "\n",
    "person_3 = {\n",
    "    'first': 'kayla',\n",
    "    'last': 'kuchta',\n",
    "    'city': 'ann arbor'\n",
    "    }\n",
    "\n",
    "people = [person_1, person_2, person_3]\n",
    "\n",
    "for person in people:\n",
    "    name = person['first'].title() + \" \" + person['last'].title()\n",
    "    city = person['city'].title()\n",
    "    \n",
    "    print(\"\\n\" + name + \" is from \" + city + \".\")"
   ]
  },
  {
   "cell_type": "markdown",
   "metadata": {},
   "source": [
    "## 6-8: Pets"
   ]
  },
  {
   "cell_type": "code",
   "execution_count": 100,
   "metadata": {},
   "outputs": [
    {
     "name": "stdout",
     "output_type": "stream",
     "text": [
      "Ash's pokemon partner is pikachu which is an electric rat.\n",
      "Brock's pokemon partner is onyx which is a stone thing.\n",
      "Misty's pokemon partner is togepi which is an egg baby.\n"
     ]
    }
   ],
   "source": [
    "poke_1 = {\n",
    "    'name': 'pikachu',\n",
    "    'type': 'an electric rat', \n",
    "    'owner': 'ash',\n",
    "    }\n",
    "\n",
    "poke_2 = {\n",
    "    'name': 'onyx',\n",
    "    'type': 'a stone thing',\n",
    "    'owner': 'brock',\n",
    "    }\n",
    "\n",
    "poke_3 = {\n",
    "    'name': 'togepi',\n",
    "    'type': 'an egg baby',\n",
    "    'owner': 'misty'\n",
    "    }\n",
    "\n",
    "pokemon = [poke_1, poke_2, poke_3]\n",
    "\n",
    "for monster in pokemon:\n",
    "    print(monster['owner'].title() + \"'s pokemon partner is \" + \n",
    "          monster['name'] + \" which is \" + monster['type'] + \".\")"
   ]
  },
  {
   "cell_type": "markdown",
   "metadata": {},
   "source": [
    "The way presented in Solutions:"
   ]
  },
  {
   "cell_type": "code",
   "execution_count": 101,
   "metadata": {},
   "outputs": [
    {
     "name": "stdout",
     "output_type": "stream",
     "text": [
      "\n",
      "Here is what I know about Pikachu:\n",
      "\tName: Pikachu\n",
      "\tType: An Electric Rat\n",
      "\tOwner: Ash\n",
      "\n",
      "Here is what I know about Onyx:\n",
      "\tName: Onyx\n",
      "\tType: A Stone Thing\n",
      "\tOwner: Brock\n",
      "\n",
      "Here is what I know about Togepi:\n",
      "\tName: Togepi\n",
      "\tType: An Egg Baby\n",
      "\tOwner: Misty\n"
     ]
    }
   ],
   "source": [
    "poke_1 = {\n",
    "    'name': 'pikachu',\n",
    "    'type': 'an electric rat', \n",
    "    'owner': 'ash',\n",
    "    }\n",
    "\n",
    "poke_2 = {\n",
    "    'name': 'onyx',\n",
    "    'type': 'a stone thing',\n",
    "    'owner': 'brock',\n",
    "    }\n",
    "\n",
    "poke_3 = {\n",
    "    'name': 'togepi',\n",
    "    'type': 'an egg baby',\n",
    "    'owner': 'misty'\n",
    "    }\n",
    "\n",
    "pokemon = [poke_1, poke_2, poke_3]\n",
    "\n",
    "\n",
    "for monster in pokemon:\n",
    "    print(\"\\nHere is what I know about \" + \n",
    "          monster['name'].title() + \":\")\n",
    "    for key, value in monster.items():\n",
    "        print(\"\\t\" + key.title() + \": \" + value.title())\n",
    "    "
   ]
  },
  {
   "cell_type": "markdown",
   "metadata": {},
   "source": [
    "## 6-9: Favorite Places"
   ]
  },
  {
   "cell_type": "code",
   "execution_count": 102,
   "metadata": {},
   "outputs": [
    {
     "name": "stdout",
     "output_type": "stream",
     "text": [
      "\n",
      "Harry's favorite places are:\n",
      "\tThe Quidditch Pitch\n",
      "\tThe Weasley Home\n",
      "\tDumbledore'S Office\n",
      "\n",
      "Hermione's favorite places are:\n",
      "\tThe Library\n",
      "\tThe Classroom\n",
      "\tThe Gryffindor Common Room\n",
      "\n",
      "Ron's favorite places are:\n",
      "\tThe Great Hall\n",
      "\tThe Three Broomsticks\n",
      "\tThe Kitchens\n"
     ]
    }
   ],
   "source": [
    "favorite_places = {\n",
    "    'harry': [\"the quidditch pitch\", \"the weasley home\", \"dumbledore's office\"],\n",
    "    'hermione': [\"the library\", \"the classroom\", \"the gryffindor common room\"],\n",
    "    'ron': [\"the great hall\", \"the three broomsticks\", \"the kitchens\"]\n",
    "    }\n",
    "\n",
    "for name, places in favorite_places.items():\n",
    "    print(\"\\n\" + name.title() + \"'s favorite places are:\")\n",
    "    for place in places:\n",
    "        print(\"\\t\" + place.title())"
   ]
  },
  {
   "cell_type": "markdown",
   "metadata": {},
   "source": [
    "## 6-10: Favorite Numbers"
   ]
  },
  {
   "cell_type": "code",
   "execution_count": 103,
   "metadata": {},
   "outputs": [
    {
     "name": "stdout",
     "output_type": "stream",
     "text": [
      "\n",
      "Amanda's favorite numbers are:\n",
      "\t17\n",
      "\t20\n",
      "\t31\n",
      "\n",
      "Tom's favorite number is:\n",
      "\t29\n",
      "\n",
      "Kayla's favorite numbers are:\n",
      "\t12\n",
      "\t26\n",
      "\n",
      "Kim's favorite numbers are:\n",
      "\t6\n",
      "\t15\n",
      "\t27\n",
      "\n",
      "Jeff's favorite number is:\n",
      "\t17\n"
     ]
    }
   ],
   "source": [
    "favorite_numbers = {\n",
    "    'amanda': [17, 20, 31],\n",
    "    'tom': [29],\n",
    "    'kayla': [12, 26],\n",
    "    'kim': [6, 15, 27], \n",
    "    'jeff': [17],\n",
    "    }\n",
    "\n",
    "for name, numbers in favorite_numbers.items():\n",
    "    if len(numbers) == 1:\n",
    "        print(\"\\n\" + name.title() + \"'s favorite number is:\")\n",
    "        for number in numbers:\n",
    "            print(\"\\t\" + str(number))\n",
    "    else:\n",
    "        print(\"\\n\" + name.title() + \"'s favorite numbers are:\")\n",
    "        for number in numbers:\n",
    "            print(\"\\t\" + str(number))"
   ]
  },
  {
   "cell_type": "markdown",
   "metadata": {},
   "source": [
    "## 6-11: Cities"
   ]
  },
  {
   "cell_type": "code",
   "execution_count": 104,
   "metadata": {},
   "outputs": [
    {
     "name": "stdout",
     "output_type": "stream",
     "text": [
      "\n",
      "Here is some information about Seattle:\n",
      "\tCountry: United States\n",
      "\tPopulation: 724,745\n",
      "\tFact: Starbucks was born here.\n",
      "\n",
      "Here is some information about Tokyo:\n",
      "\tCountry: Japan\n",
      "\tPopulation: 9,273,000\n",
      "\tFact: Everyone speaks Japanese.\n",
      "\n",
      "Here is some information about Honolulu:\n",
      "\tCountry: United States\n",
      "\tPopulation: 351,792\n",
      "\tFact: People do not wear coconut bras.\n"
     ]
    }
   ],
   "source": [
    "cities = {\n",
    "    'seattle': {\n",
    "        'country': 'united states',\n",
    "        'population': '724,745',\n",
    "        'fact': 'Starbucks was born here.',\n",
    "        },\n",
    "    'tokyo': {\n",
    "        'country': 'japan',\n",
    "        'population': '9,273,000',\n",
    "        'fact': 'Everyone speaks Japanese.',\n",
    "        },\n",
    "    'honolulu': {\n",
    "        'country': 'united states',\n",
    "        'population': '351,792',\n",
    "        'fact': 'People do not wear coconut bras.'\n",
    "        },\n",
    "    }\n",
    "\n",
    "for city, information in cities.items():\n",
    "    print(\"\\nHere is some information about \" + city.title() + \":\")\n",
    "    for category, text in information.items():\n",
    "        if category == 'population':\n",
    "            print(\"\\t\" + category.title() + \": \" + str(text))\n",
    "        elif category == 'country': \n",
    "            print(\"\\t\" + category.title() + \": \" + text.title())\n",
    "        else:\n",
    "            print(\"\\t\" + category.title() + \": \" + text)"
   ]
  },
  {
   "cell_type": "code",
   "execution_count": null,
   "metadata": {},
   "outputs": [],
   "source": []
  }
 ],
 "metadata": {
  "kernelspec": {
   "display_name": "Python 3",
   "language": "python",
   "name": "python3"
  },
  "language_info": {
   "codemirror_mode": {
    "name": "ipython",
    "version": 3
   },
   "file_extension": ".py",
   "mimetype": "text/x-python",
   "name": "python",
   "nbconvert_exporter": "python",
   "pygments_lexer": "ipython3",
   "version": "3.7.0"
  }
 },
 "nbformat": 4,
 "nbformat_minor": 2
}
