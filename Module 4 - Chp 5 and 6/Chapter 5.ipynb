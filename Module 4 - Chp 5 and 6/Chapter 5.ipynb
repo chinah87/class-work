{
 "cells": [
  {
   "cell_type": "markdown",
   "metadata": {},
   "source": [
    "# Introduction: A Simple Example\n",
    "*If statements* let you respond to specific situations."
   ]
  },
  {
   "cell_type": "code",
   "execution_count": 1,
   "metadata": {},
   "outputs": [
    {
     "name": "stdout",
     "output_type": "stream",
     "text": [
      "Audi\n",
      "BMW\n",
      "Subaru\n",
      "Toyota\n"
     ]
    }
   ],
   "source": [
    "cars = ['audi', 'bmw', 'subaru', 'toyota']\n",
    "\n",
    "for car in cars:\n",
    "    if car == 'bmw':\n",
    "        print(car.upper())\n",
    "    else:\n",
    "        print(car.title())"
   ]
  },
  {
   "cell_type": "markdown",
   "metadata": {},
   "source": [
    "Here, I created a *for loop* to print all items in the cars list as a title (beginning with an uppercase letter), except for BMW, which I wanted to have printed as all uppercase."
   ]
  },
  {
   "cell_type": "markdown",
   "metadata": {},
   "source": [
    "# Conditional Tests\n",
    "Every if statement is essentially a True/False evaluation that can be called a ***conditional test***. Python uses the values \"True\" and \"False\" to decide if an if statement code should be executed or not. Python executes the code if the conditional test evaluates to \"True\", but won't execute the code if the conditional test evaluates to \"False\"."
   ]
  },
  {
   "cell_type": "markdown",
   "metadata": {},
   "source": [
    "## Checking for Equality\n",
    "The simplest conditional test checks if the value of a variable is equal to the value of interest."
   ]
  },
  {
   "cell_type": "code",
   "execution_count": 2,
   "metadata": {},
   "outputs": [
    {
     "data": {
      "text/plain": [
       "True"
      ]
     },
     "execution_count": 2,
     "metadata": {},
     "output_type": "execute_result"
    }
   ],
   "source": [
    "car = 'bmw'\n",
    "car == 'bmw'"
   ]
  },
  {
   "cell_type": "code",
   "execution_count": 3,
   "metadata": {},
   "outputs": [
    {
     "data": {
      "text/plain": [
       "False"
      ]
     },
     "execution_count": 3,
     "metadata": {},
     "output_type": "execute_result"
    }
   ],
   "source": [
    "car = 'audi'\n",
    "car == 'bmw'"
   ]
  },
  {
   "cell_type": "markdown",
   "metadata": {},
   "source": [
    "One equal sign (=) essentially means 'Set the value of *car* equal to *xxx*'. A double equal sign (==) means 'Is the value of *car* equal to *xxx*?. The double equal sign is called an ***equality operator***. "
   ]
  },
  {
   "cell_type": "markdown",
   "metadata": {},
   "source": [
    "## Ignoring Case When Checking for Equality\n",
    "Testing for equality is case sensitive."
   ]
  },
  {
   "cell_type": "code",
   "execution_count": 4,
   "metadata": {},
   "outputs": [
    {
     "data": {
      "text/plain": [
       "False"
      ]
     },
     "execution_count": 4,
     "metadata": {},
     "output_type": "execute_result"
    }
   ],
   "source": [
    "car = 'Audi'\n",
    "car == 'audi'"
   ]
  },
  {
   "cell_type": "code",
   "execution_count": 5,
   "metadata": {},
   "outputs": [
    {
     "data": {
      "text/plain": [
       "True"
      ]
     },
     "execution_count": 5,
     "metadata": {},
     "output_type": "execute_result"
    }
   ],
   "source": [
    "car = 'Audi'\n",
    "car.lower() == 'audi'"
   ]
  },
  {
   "cell_type": "code",
   "execution_count": 6,
   "metadata": {},
   "outputs": [
    {
     "data": {
      "text/plain": [
       "'Audi'"
      ]
     },
     "execution_count": 6,
     "metadata": {},
     "output_type": "execute_result"
    }
   ],
   "source": [
    "car"
   ]
  },
  {
   "cell_type": "markdown",
   "metadata": {},
   "source": [
    "**Example 1** shows how the test is case sensitive. This aspect is great if the case matters. However, if case doesn't matter, and you just want to test the value of the variable, then convert the value to lowercase before doing the test, as in **Example 2**. **Example 3** shows how converting to lowercase doesn't change the value that was originally stored, so you can do the test without affecting the original variable. "
   ]
  },
  {
   "cell_type": "markdown",
   "metadata": {},
   "source": [
    "This is useful, for instance, if you have a website and you want to make sure everyone has a unique username. When someone submits a new username, you can convert that to lowercase and compare it to all other lowercase versions of existing usernames. That way, a username like 'John' will be rejected if any variation of 'john' exists."
   ]
  },
  {
   "cell_type": "markdown",
   "metadata": {},
   "source": [
    "## Checking for Inequality\n",
    "If you want to check that two values are not equal, you can use the eclamation point and equal sign combo **(!=)**. The exclamation point means 'not'. This is an ***inequality operator***. "
   ]
  },
  {
   "cell_type": "code",
   "execution_count": 7,
   "metadata": {},
   "outputs": [
    {
     "name": "stdout",
     "output_type": "stream",
     "text": [
      "Hold the anchovies!\n"
     ]
    }
   ],
   "source": [
    "requested_topping = 'mushrooms'\n",
    "\n",
    "if requested_topping != 'anchovies':\n",
    "    print(\"Hold the anchovies!\")"
   ]
  },
  {
   "cell_type": "markdown",
   "metadata": {},
   "source": [
    "This evaluates the requested_topping value with the value of 'anchovies'. If the two don't match, Python evaluates the *if statement* as \"True\" and executes the following code. Otherwise, Python evaluates the statement as \"False\" and does not. Most of the time you will be testing for equality, but sometimes testing for inequality is more efficient."
   ]
  },
  {
   "cell_type": "markdown",
   "metadata": {},
   "source": [
    "## Numerical Comparisons"
   ]
  },
  {
   "cell_type": "code",
   "execution_count": 8,
   "metadata": {},
   "outputs": [
    {
     "data": {
      "text/plain": [
       "True"
      ]
     },
     "execution_count": 8,
     "metadata": {},
     "output_type": "execute_result"
    }
   ],
   "source": [
    "age = 18\n",
    "age == 18"
   ]
  },
  {
   "cell_type": "code",
   "execution_count": 9,
   "metadata": {},
   "outputs": [
    {
     "name": "stdout",
     "output_type": "stream",
     "text": [
      "That is not the correct answer. Please try again!\n"
     ]
    }
   ],
   "source": [
    "answer = 17\n",
    "\n",
    "if answer != 42:\n",
    "    print(\"That is not the correct answer. Please try again!\")"
   ]
  },
  {
   "cell_type": "code",
   "execution_count": 10,
   "metadata": {},
   "outputs": [
    {
     "data": {
      "text/plain": [
       "True"
      ]
     },
     "execution_count": 10,
     "metadata": {},
     "output_type": "execute_result"
    }
   ],
   "source": [
    "age = 19\n",
    "age < 21"
   ]
  },
  {
   "cell_type": "code",
   "execution_count": 11,
   "metadata": {},
   "outputs": [
    {
     "data": {
      "text/plain": [
       "True"
      ]
     },
     "execution_count": 11,
     "metadata": {},
     "output_type": "execute_result"
    }
   ],
   "source": [
    "age <= 21"
   ]
  },
  {
   "cell_type": "code",
   "execution_count": 12,
   "metadata": {},
   "outputs": [
    {
     "data": {
      "text/plain": [
       "False"
      ]
     },
     "execution_count": 12,
     "metadata": {},
     "output_type": "execute_result"
    }
   ],
   "source": [
    "age > 21"
   ]
  },
  {
   "cell_type": "code",
   "execution_count": 13,
   "metadata": {},
   "outputs": [
    {
     "data": {
      "text/plain": [
       "False"
      ]
     },
     "execution_count": 13,
     "metadata": {},
     "output_type": "execute_result"
    }
   ],
   "source": [
    "age >= 21"
   ]
  },
  {
   "cell_type": "markdown",
   "metadata": {},
   "source": [
    "**Example 1** shows that equality tests can work with numerical values as well. **Example 2** shows an inequality test. **Examples 3-6** shows other mathematical comparisons: less than, less than or equal to, greater than, and greater than or equal to."
   ]
  },
  {
   "cell_type": "markdown",
   "metadata": {},
   "source": [
    "## Checking Multiple Conditions"
   ]
  },
  {
   "cell_type": "markdown",
   "metadata": {},
   "source": [
    "### Use *and* to check if two conditions are both true simultaneously."
   ]
  },
  {
   "cell_type": "code",
   "execution_count": 1,
   "metadata": {},
   "outputs": [
    {
     "data": {
      "text/plain": [
       "False"
      ]
     },
     "execution_count": 1,
     "metadata": {},
     "output_type": "execute_result"
    }
   ],
   "source": [
    "age_0 = 22\n",
    "age_1 = 18\n",
    "age_0 >= 21 and age_1 >= 21"
   ]
  },
  {
   "cell_type": "code",
   "execution_count": 2,
   "metadata": {},
   "outputs": [
    {
     "data": {
      "text/plain": [
       "True"
      ]
     },
     "execution_count": 2,
     "metadata": {},
     "output_type": "execute_result"
    }
   ],
   "source": [
    "age_1 = 22\n",
    "age_0 >= 21 and age_1 >= 21"
   ]
  },
  {
   "cell_type": "code",
   "execution_count": 3,
   "metadata": {},
   "outputs": [
    {
     "data": {
      "text/plain": [
       "True"
      ]
     },
     "execution_count": 3,
     "metadata": {},
     "output_type": "execute_result"
    }
   ],
   "source": [
    "(age_0 >= 21) and (age_1 >= 21)"
   ]
  },
  {
   "cell_type": "markdown",
   "metadata": {},
   "source": [
    "**Examples 1 and 2** show how to use **and** to check that two conditions are true at the same time. Example 3 shows that you can improve readability by using parenthesis around individual tests, but this is not required. "
   ]
  },
  {
   "cell_type": "markdown",
   "metadata": {},
   "source": [
    "### Use *or* to check if either or both of the individual tests are true."
   ]
  },
  {
   "cell_type": "code",
   "execution_count": 4,
   "metadata": {},
   "outputs": [
    {
     "data": {
      "text/plain": [
       "True"
      ]
     },
     "execution_count": 4,
     "metadata": {},
     "output_type": "execute_result"
    }
   ],
   "source": [
    "age_0 = 22\n",
    "age_1 = 18\n",
    "age_0 >= 21 or age_1 >= 21"
   ]
  },
  {
   "cell_type": "code",
   "execution_count": 5,
   "metadata": {},
   "outputs": [
    {
     "data": {
      "text/plain": [
       "False"
      ]
     },
     "execution_count": 5,
     "metadata": {},
     "output_type": "execute_result"
    }
   ],
   "source": [
    "age_0 = 18\n",
    "age_0 >= 21 or age_1 >= 21"
   ]
  },
  {
   "cell_type": "markdown",
   "metadata": {},
   "source": [
    "These **examples** show that you only need one individual test to pass for the entire expression to be true."
   ]
  },
  {
   "cell_type": "markdown",
   "metadata": {},
   "source": [
    "## Checking Whether a Value is or isn't in a List"
   ]
  },
  {
   "cell_type": "code",
   "execution_count": 7,
   "metadata": {},
   "outputs": [
    {
     "data": {
      "text/plain": [
       "True"
      ]
     },
     "execution_count": 7,
     "metadata": {},
     "output_type": "execute_result"
    }
   ],
   "source": [
    "requested_toppings = ['mushrooms', 'onions', 'pineapple']\n",
    "'mushrooms' in requested_toppings"
   ]
  },
  {
   "cell_type": "code",
   "execution_count": 8,
   "metadata": {},
   "outputs": [
    {
     "data": {
      "text/plain": [
       "False"
      ]
     },
     "execution_count": 8,
     "metadata": {},
     "output_type": "execute_result"
    }
   ],
   "source": [
    "'pepperoni' in requested_toppings"
   ]
  },
  {
   "cell_type": "markdown",
   "metadata": {},
   "source": [
    "The keyword **in** can be used to check for whether a value is in a list. So, if you have a list of essential values, you can easily check whether the value you're testing matches one of the values in the list."
   ]
  },
  {
   "cell_type": "code",
   "execution_count": 9,
   "metadata": {},
   "outputs": [
    {
     "name": "stdout",
     "output_type": "stream",
     "text": [
      "Marie, you can post a response if you wish.\n"
     ]
    }
   ],
   "source": [
    "banned_users = ['andrew', 'carolina', 'david']\n",
    "user = 'marie'\n",
    "\n",
    "if user not in banned_users:\n",
    "    print(user.title() + \", you can post a response if you wish.\")"
   ]
  },
  {
   "cell_type": "markdown",
   "metadata": {},
   "source": [
    "Use the keyword **not** to check if a value does not appear in a list. "
   ]
  },
  {
   "cell_type": "markdown",
   "metadata": {},
   "source": [
    "# Try It Yourself!"
   ]
  },
  {
   "cell_type": "markdown",
   "metadata": {},
   "source": [
    "## 5-1: Conditional Tests"
   ]
  },
  {
   "cell_type": "code",
   "execution_count": 11,
   "metadata": {},
   "outputs": [
    {
     "name": "stdout",
     "output_type": "stream",
     "text": [
      "Is car == 'subaru'? I predict True.\n",
      "True\n",
      "\n",
      "Is car == 'audi'? I predict False.\n",
      "False\n"
     ]
    }
   ],
   "source": [
    "car = 'subaru'\n",
    "print(\"Is car == 'subaru'? I predict True.\")\n",
    "print(car == 'subaru')\n",
    "\n",
    "print(\"\\nIs car == 'audi'? I predict False.\")\n",
    "print(car == 'audi')"
   ]
  },
  {
   "cell_type": "code",
   "execution_count": 15,
   "metadata": {},
   "outputs": [
    {
     "name": "stdout",
     "output_type": "stream",
     "text": [
      "Is Jeff older than Amanda? I don't think so.\n"
     ]
    },
    {
     "data": {
      "text/plain": [
       "False"
      ]
     },
     "execution_count": 15,
     "metadata": {},
     "output_type": "execute_result"
    }
   ],
   "source": [
    "amanda = 31\n",
    "kim = 27\n",
    "jeff = 17\n",
    "lana = 58\n",
    "dewey = 62\n",
    "\n",
    "print(\"Is Jeff older than Amanda? I don't think so.\")\n",
    "jeff > amanda"
   ]
  },
  {
   "cell_type": "code",
   "execution_count": 17,
   "metadata": {},
   "outputs": [
    {
     "name": "stdout",
     "output_type": "stream",
     "text": [
      "Is Kim older than Amanda? I don't think so.\n"
     ]
    },
    {
     "data": {
      "text/plain": [
       "False"
      ]
     },
     "execution_count": 17,
     "metadata": {},
     "output_type": "execute_result"
    }
   ],
   "source": [
    "print(\"Is Kim older than Amanda? I don't think so.\")\n",
    "kim > amanda"
   ]
  },
  {
   "cell_type": "code",
   "execution_count": 18,
   "metadata": {},
   "outputs": [
    {
     "name": "stdout",
     "output_type": "stream",
     "text": [
      "Is Amanda older than both her siblings? Yes, definitely.\n"
     ]
    },
    {
     "data": {
      "text/plain": [
       "True"
      ]
     },
     "execution_count": 18,
     "metadata": {},
     "output_type": "execute_result"
    }
   ],
   "source": [
    "print(\"Is Amanda older than both her siblings? Yes, definitely.\")\n",
    "amanda > jeff and amanda > kim"
   ]
  },
  {
   "cell_type": "code",
   "execution_count": 19,
   "metadata": {},
   "outputs": [
    {
     "name": "stdout",
     "output_type": "stream",
     "text": [
      "And is Amanda younger than her parents? I should hope so.\n"
     ]
    },
    {
     "data": {
      "text/plain": [
       "True"
      ]
     },
     "execution_count": 19,
     "metadata": {},
     "output_type": "execute_result"
    }
   ],
   "source": [
    "print(\"And is Amanda younger than her parents? I should hope so.\")\n",
    "amanda < lana and amanda < dewey"
   ]
  },
  {
   "cell_type": "markdown",
   "metadata": {},
   "source": [
    "## 5-2: More Conditional Tests"
   ]
  },
  {
   "cell_type": "markdown",
   "metadata": {},
   "source": [
    "* Tests for equality and inequality with strings\n",
    "* Tests using the lower() function\n",
    "* Numberical tests involving equality and inequality, greater than and less than, greater than or equal to, and less than or equal to\n",
    "* Tests using the **and** keyword and the **or** keyword\n",
    "* Test whether an item is in a list\n",
    "* Test whether an item is not in a list"
   ]
  },
  {
   "cell_type": "code",
   "execution_count": 30,
   "metadata": {},
   "outputs": [
    {
     "name": "stdout",
     "output_type": "stream",
     "text": [
      "Japanese bands such as ONE OK ROCK are great!\n",
      "Japanese bands such as Alexandros are great!\n",
      "Japanese bands such as The Pillows are great!\n",
      "Japanese bands such as RADWIMPS are great!\n",
      "Japanese bands such as Asian Kung-Fu Fighters are great!\n"
     ]
    }
   ],
   "source": [
    "bands = ['one ok rock', 'alexandros', 'the pillows', 'radwimps', 'asian kung-fu fighters']\n",
    "\n",
    "for band in bands:\n",
    "    if band == 'one ok rock' or band == 'radwimps':\n",
    "        print(\"Japanese bands such as \" + band.upper() + \" are great!\")\n",
    "    else: \n",
    "        print(\"Japanese bands such as \" + band.title() + \" are great!\")"
   ]
  },
  {
   "cell_type": "code",
   "execution_count": 31,
   "metadata": {},
   "outputs": [
    {
     "name": "stdout",
     "output_type": "stream",
     "text": [
      "American bands such as Imagine Dragons are fantastic.\n",
      "American bands such as twenty one pilots are fantastic.\n",
      "American bands such as Fitz And The Tantrums are fantastic.\n",
      "American bands such as Fall Out Boy are fantastic.\n"
     ]
    }
   ],
   "source": [
    "american_bands = ['Imagine Dragons', 'Twenty One Pilots', 'Fitz and the Tantrums', 'Fall Out Boy']\n",
    "\n",
    "for band in american_bands:\n",
    "    if band == 'Twenty One Pilots':\n",
    "        print(\"American bands such as \" + band.lower() + \" are fantastic.\")\n",
    "    else: \n",
    "        print(\"American bands such as \" + band.title() + \" are fantastic.\")"
   ]
  },
  {
   "cell_type": "code",
   "execution_count": 32,
   "metadata": {},
   "outputs": [
    {
     "name": "stdout",
     "output_type": "stream",
     "text": [
      "Sorry Uraraka, better train for the next sports festival.\n",
      "Sorry Midoriya, better train for the next sports festival.\n",
      "Bakugo, you are the champion!\n",
      "Sorry Kirishima, better train for the next sports festival.\n"
     ]
    }
   ],
   "source": [
    "students = ['uraraka', 'midoriya', 'bakugo', 'kirishima']\n",
    "\n",
    "for student in students:\n",
    "    if student == 'bakugo':\n",
    "        print(student.title() + \", you are the champion!\")\n",
    "    if student != 'bakugo':\n",
    "        print(\"Sorry \" + student.title() + \", better train for the next sports festival.\")"
   ]
  },
  {
   "cell_type": "code",
   "execution_count": 41,
   "metadata": {},
   "outputs": [
    {
     "name": "stdout",
     "output_type": "stream",
     "text": [
      "Some MLIS students are residential, and some are online:\n",
      "\n",
      "\n",
      "Amanda is a residential student.\n",
      "Kate is an online student.\n",
      "Riko is a residential student.\n",
      "Conor is a residential student.\n",
      "Magenta is an online student.\n",
      "Fatima is a residential student.\n",
      "Charlene is a residential student.\n",
      "\n",
      "Only online students may register for LIS 568 during Period 1. So:\n",
      "\n",
      "\n",
      "Amanda, you need to wait till Period 2 to register for LIS 568.\n",
      "Kate, you may register for LIS 568 in Period 1.\n",
      "Riko, you need to wait till Period 2 to register for LIS 568.\n",
      "Conor, you need to wait till Period 2 to register for LIS 568.\n",
      "Magenta, you may register for LIS 568 in Period 1.\n",
      "Fatima, you need to wait till Period 2 to register for LIS 568.\n",
      "Charlene, you need to wait till Period 2 to register for LIS 568.\n",
      "\n",
      "Amanda wrote a letter to Doc Martin to complain.\n",
      "\n",
      "Fatima wrote a letter to Doc Martin to complain.\n"
     ]
    }
   ],
   "source": [
    "students = ['amanda', 'kate', 'riko', 'conor', 'magenta', 'fatima', 'charlene']\n",
    "online_students = ['kate', 'magenta']\n",
    "\n",
    "print(\"Some MLIS students are residential, and some are online:\")\n",
    "print(\"\\n\")\n",
    "\n",
    "for student in students:\n",
    "    if (student in students) != (student in online_students):\n",
    "        print(student.title() + \" is a residential student.\")\n",
    "    else: \n",
    "        print(student.title() + \" is an online student.\")\n",
    "\n",
    "print(\"\\nOnly online students may register for LIS 568 during Period 1. So:\")\n",
    "print(\"\\n\")\n",
    "\n",
    "for student in students:\n",
    "    if (student in students) and (student in online_students):\n",
    "        print(student.title() + \", you may register for LIS 568 in Period 1.\")\n",
    "    if student in students and student not in online_students:\n",
    "        print(student.title() + \", you need to wait till Period 2 to register for LIS 568.\")\n",
    "\n",
    "for student in students:\n",
    "    if student == 'amanda' or student == 'fatima':\n",
    "        print(\"\\n\" + student.title() + \" wrote a letter to Doc Martin to complain.\")"
   ]
  },
  {
   "cell_type": "markdown",
   "metadata": {},
   "source": [
    "# if-statements and if-else"
   ]
  },
  {
   "cell_type": "code",
   "execution_count": 42,
   "metadata": {},
   "outputs": [
    {
     "name": "stdout",
     "output_type": "stream",
     "text": [
      "You are old enough to vote!\n",
      "Have you registered to vote yet?\n"
     ]
    }
   ],
   "source": [
    "age = 19\n",
    "if age >= 18:\n",
    "    print(\"You are old enough to vote!\")\n",
    "    print(\"Have you registered to vote yet?\")"
   ]
  },
  {
   "cell_type": "code",
   "execution_count": 43,
   "metadata": {},
   "outputs": [
    {
     "name": "stdout",
     "output_type": "stream",
     "text": [
      "Sorry, you are too young to vote.\n",
      "Please register to vote as soon as you turn 18!\n"
     ]
    }
   ],
   "source": [
    "age = 17\n",
    "if age >= 18:\n",
    "    print(\"You are old enough to vote!\")\n",
    "    print(\"Have you registered to vote yet?\")\n",
    "else:\n",
    "    print(\"Sorry, you are too young to vote.\")\n",
    "    print(\"Please register to vote as soon as you turn 18!\")"
   ]
  },
  {
   "cell_type": "markdown",
   "metadata": {},
   "source": [
    "# if-elif-else"
   ]
  },
  {
   "cell_type": "markdown",
   "metadata": {},
   "source": [
    "This first example is about an amusement park that charges different prices for different age groups:\n",
    "\n",
    "* Admission for anyone under age 4 is free.\n",
    "* Admission for anyone between the ages of 4 and 18 is 5 dollars.\n",
    "* Admission for anyone older than 18 is 10 dollars."
   ]
  },
  {
   "cell_type": "code",
   "execution_count": 44,
   "metadata": {},
   "outputs": [
    {
     "name": "stdout",
     "output_type": "stream",
     "text": [
      "Your admission cost is $5.\n"
     ]
    }
   ],
   "source": [
    "age = 12\n",
    "\n",
    "if age < 4:\n",
    "    print(\"Your admission cost is $0.\")\n",
    "elif age < 18:\n",
    "    print(\"Your admission cost is $5.\")\n",
    "else:\n",
    "    print(\"Your admission cost is $10.\")"
   ]
  },
  {
   "cell_type": "markdown",
   "metadata": {},
   "source": [
    "The **elif** line basically is another **if** test, but it runs only if the first test fails. Then, if both the **elif** and **if** tests fail, the **else** line is run."
   ]
  },
  {
   "cell_type": "code",
   "execution_count": 45,
   "metadata": {},
   "outputs": [
    {
     "name": "stdout",
     "output_type": "stream",
     "text": [
      "Your admission cost is $5.\n"
     ]
    }
   ],
   "source": [
    "age = 12\n",
    "\n",
    "if age < 4:\n",
    "    price = 0\n",
    "elif age < 18:\n",
    "    price = 5\n",
    "else:\n",
    "    price = 10\n",
    "\n",
    "print(\"Your admission cost is $\" + str(price) + \".\")"
   ]
  },
  {
   "cell_type": "markdown",
   "metadata": {},
   "source": [
    "This is a more concise way of writing the code. The purpose of the **if-elif-else** chain is narrower. It simply determined the admission price, rather than determining price and displaying a message. It is also an easier code to modify. You would only need to change one print statement, rather than all three."
   ]
  },
  {
   "cell_type": "code",
   "execution_count": 46,
   "metadata": {},
   "outputs": [
    {
     "name": "stdout",
     "output_type": "stream",
     "text": [
      "Your admission cost is $5.\n"
     ]
    }
   ],
   "source": [
    "age = 12\n",
    "\n",
    "if age < 4:\n",
    "    price = 0\n",
    "elif age < 18:\n",
    "    price = 5\n",
    "elif age < 65:\n",
    "    price = 10\n",
    "else:\n",
    "    price = 5\n",
    "\n",
    "print(\"Your admission cost is $\" + str(price) + \".\")"
   ]
  },
  {
   "cell_type": "markdown",
   "metadata": {},
   "source": [
    "You can add as many **elif** lines as you'd like."
   ]
  },
  {
   "cell_type": "code",
   "execution_count": 47,
   "metadata": {},
   "outputs": [
    {
     "name": "stdout",
     "output_type": "stream",
     "text": [
      "Your admission cost is $5.\n"
     ]
    }
   ],
   "source": [
    "age = 12\n",
    "\n",
    "if age < 4:\n",
    "    price = 0\n",
    "elif age < 18:\n",
    "    price = 5\n",
    "elif age < 65:\n",
    "    price = 10\n",
    "elif age >= 65:\n",
    "    price = 5\n",
    "\n",
    "print(\"Your admission cost is $\" + str(price) + \".\")"
   ]
  },
  {
   "cell_type": "markdown",
   "metadata": {},
   "source": [
    "You can omit the **else** block, and instead use an **elif** block. Here, the **elif** block assigns a price of 5 dollars when the person is 65 or older, which is clearer than a general **else** block. With this change, every block of code must pass a specific test in order to be executed."
   ]
  },
  {
   "cell_type": "markdown",
   "metadata": {},
   "source": [
    "Sometimes, a general catchall **else** block can include invalid or malicious data. Better to use an **elif** block if you have a specific, final condition to test for. "
   ]
  },
  {
   "cell_type": "markdown",
   "metadata": {},
   "source": [
    "# Testing Multiple Conditions (No elif or else)"
   ]
  },
  {
   "cell_type": "code",
   "execution_count": 48,
   "metadata": {},
   "outputs": [
    {
     "name": "stdout",
     "output_type": "stream",
     "text": [
      "Adding mushrooms.\n",
      "Adding extra cheese.\n",
      "\n",
      "Finished making your pizza!\n"
     ]
    }
   ],
   "source": [
    "requested_toppings = ['mushrooms', 'extra cheese']\n",
    "\n",
    "if 'mushrooms' in requested_toppings:\n",
    "    print(\"Adding mushrooms.\")\n",
    "if 'pepperoni' in requested_toppings:\n",
    "    print(\"Adding pepperoni.\")\n",
    "if 'extra cheese' in requested_toppings:\n",
    "    print(\"Adding extra cheese.\")\n",
    "\n",
    "print(\"\\nFinished making your pizza!\")"
   ]
  },
  {
   "cell_type": "markdown",
   "metadata": {},
   "source": [
    "An **if-elif-else** chain is only useful if you just need one test to pass. As soon as one test passes, Python skips the rest. But, what if you want to check all of the conditions listed? Using a series of **if-statements** makes more sense when more than one condition could be **True**, and you want to act on every condition that is **True**.\n",
    "\n",
    "Here, each **if-statement** is run, regardless if the previous test passed or not. These three independent tests are executed every time the program runs. The test wouldn't run properly is an **if-elif-else** statement were written. The program would stop after printing the 'mushrooms' statement because that was the first test to pass and Python won't run any more tests past the first one that passes."
   ]
  },
  {
   "cell_type": "markdown",
   "metadata": {},
   "source": [
    "# Try It Yourself!"
   ]
  },
  {
   "cell_type": "markdown",
   "metadata": {},
   "source": [
    "## 5-3: Alien Colors #1"
   ]
  },
  {
   "cell_type": "code",
   "execution_count": 50,
   "metadata": {},
   "outputs": [
    {
     "name": "stdout",
     "output_type": "stream",
     "text": [
      "You've received 5 points!\n"
     ]
    }
   ],
   "source": [
    "alien_color = 'green'\n",
    "\n",
    "if alien_color == 'green':\n",
    "    print(\"You've received 5 points!\")"
   ]
  },
  {
   "cell_type": "code",
   "execution_count": 51,
   "metadata": {},
   "outputs": [],
   "source": [
    "alien_color = 'yellow'\n",
    "\n",
    "if alien_color == 'green':\n",
    "    print(\"You've received 5 points!\")"
   ]
  },
  {
   "cell_type": "markdown",
   "metadata": {},
   "source": [
    "## 5-4: Alien Colors #2"
   ]
  },
  {
   "cell_type": "code",
   "execution_count": 52,
   "metadata": {},
   "outputs": [
    {
     "name": "stdout",
     "output_type": "stream",
     "text": [
      "You've received 5 points!\n"
     ]
    }
   ],
   "source": [
    "alien_color = 'green'\n",
    "\n",
    "if alien_color == 'green':\n",
    "    print(\"You've received 5 points!\")\n",
    "else:\n",
    "    print(\"You've received 10 points!\")"
   ]
  },
  {
   "cell_type": "code",
   "execution_count": 53,
   "metadata": {},
   "outputs": [
    {
     "name": "stdout",
     "output_type": "stream",
     "text": [
      "You've received 10 points!\n"
     ]
    }
   ],
   "source": [
    "alien_color = 'yellow'\n",
    "\n",
    "if alien_color == 'green':\n",
    "    print(\"You've received 5 points!\")\n",
    "else:\n",
    "    print(\"You've received 10 points!\")"
   ]
  },
  {
   "cell_type": "markdown",
   "metadata": {},
   "source": [
    "## Alien Colors #3"
   ]
  },
  {
   "cell_type": "code",
   "execution_count": 55,
   "metadata": {},
   "outputs": [
    {
     "name": "stdout",
     "output_type": "stream",
     "text": [
      "You've received 5 points!\n"
     ]
    }
   ],
   "source": [
    "alien_color = 'green'\n",
    "\n",
    "if alien_color == 'green':\n",
    "    print(\"You've received 5 points!\")\n",
    "elif alien_color == 'yellow':\n",
    "    print(\"You've received 10 points!\")\n",
    "else:\n",
    "    print(\"You've received 15 points!\")"
   ]
  },
  {
   "cell_type": "code",
   "execution_count": 56,
   "metadata": {},
   "outputs": [
    {
     "name": "stdout",
     "output_type": "stream",
     "text": [
      "You've received 10 points!\n"
     ]
    }
   ],
   "source": [
    "alien_color = 'yellow'\n",
    "\n",
    "if alien_color == 'green':\n",
    "    points = 5\n",
    "elif alien_color == 'yellow':\n",
    "    points = 10\n",
    "else:\n",
    "    points = 15\n",
    "\n",
    "print(\"You've received \" + str(points) + \" points!\")"
   ]
  },
  {
   "cell_type": "code",
   "execution_count": 57,
   "metadata": {},
   "outputs": [
    {
     "name": "stdout",
     "output_type": "stream",
     "text": [
      "You've received 15 points!\n"
     ]
    }
   ],
   "source": [
    "alien_color = 'red'\n",
    "\n",
    "if alien_color == 'green':\n",
    "    points = 5\n",
    "elif alien_color == 'yellow':\n",
    "    points = 10\n",
    "elif alien_color != 'green' and alien_color != 'yellow':\n",
    "    points = 15\n",
    "\n",
    "print(\"You've received \" + str(points) + \" points!\")"
   ]
  },
  {
   "cell_type": "markdown",
   "metadata": {},
   "source": [
    "## 5-6: Stages of Life"
   ]
  },
  {
   "cell_type": "code",
   "execution_count": 60,
   "metadata": {},
   "outputs": [
    {
     "name": "stdout",
     "output_type": "stream",
     "text": [
      "What is your age? 31\n",
      "You are an adult.\n"
     ]
    }
   ],
   "source": [
    "age = float(input(\"What is your age? \"))\n",
    "\n",
    "if age < 2:\n",
    "    stage = 'a baby'\n",
    "if age < 4:\n",
    "    stage = 'a toddler'\n",
    "if age < 13:\n",
    "    stage = 'a kid'\n",
    "if age < 20: \n",
    "    stage = 'a teenager'\n",
    "if age < 65:\n",
    "    stage = 'an adult'\n",
    "if age >= 65:\n",
    "    stage = 'an elder'\n",
    "\n",
    "print(\"You are \" + stage + \".\")"
   ]
  },
  {
   "cell_type": "markdown",
   "metadata": {},
   "source": [
    "## 5-7: Favorite Fruit"
   ]
  },
  {
   "cell_type": "code",
   "execution_count": 61,
   "metadata": {},
   "outputs": [
    {
     "name": "stdout",
     "output_type": "stream",
     "text": [
      "Apples are one of your favorite fruits!\n",
      "Grapes are one of your favorite fruits!\n",
      "Watermelon is one of your favorite fruits!\n"
     ]
    }
   ],
   "source": [
    "favorite_fruits = ['apples','grapes', 'watermelon']\n",
    "\n",
    "if 'apples' in favorite_fruits:\n",
    "    print(\"Apples are one of your favorite fruits!\")\n",
    "if 'bananas' in favorite_fruits:\n",
    "    print(\"Bananas are one of your favorite fruits!\")\n",
    "if 'oranges' in favorite_fruits:\n",
    "    print(\"Oranges are one of your favorite fruits!\")\n",
    "if 'grapes' in favorite_fruits:\n",
    "    print(\"Grapes are one of your favorite fruits!\")\n",
    "if 'watermelon' in favorite_fruits:\n",
    "    print(\"Watermelon is one of your favorite fruits!\")"
   ]
  },
  {
   "cell_type": "markdown",
   "metadata": {},
   "source": [
    "# Using if-statements with lists"
   ]
  },
  {
   "cell_type": "markdown",
   "metadata": {},
   "source": [
    "## Checking for special items"
   ]
  },
  {
   "cell_type": "code",
   "execution_count": 63,
   "metadata": {},
   "outputs": [
    {
     "name": "stdout",
     "output_type": "stream",
     "text": [
      "Adding mushrooms.\n",
      "Adding green peppers.\n",
      "Adding extra cheese.\n",
      "\n",
      "Finished making your pizza!\n"
     ]
    }
   ],
   "source": [
    "requested_toppings = ['mushrooms', 'green peppers', 'extra cheese']\n",
    "\n",
    "for requested_topping in requested_toppings:\n",
    "    print(\"Adding \" + requested_topping + \".\")\n",
    "\n",
    "print(\"\\nFinished making your pizza!\")"
   ]
  },
  {
   "cell_type": "code",
   "execution_count": 65,
   "metadata": {},
   "outputs": [
    {
     "name": "stdout",
     "output_type": "stream",
     "text": [
      "Adding mushrooms.\n",
      "Sorry, we are out of green peppers right now.\n",
      "Adding extra cheese.\n",
      "\n",
      "Finished making your pizza!\n"
     ]
    }
   ],
   "source": [
    "requested_toppings = ['mushrooms', 'green peppers', 'extra cheese']\n",
    "\n",
    "for requested_topping in requested_toppings:\n",
    "    if requested_topping == 'green peppers':\n",
    "        print(\"Sorry, we are out of green peppers right now.\")\n",
    "    else:\n",
    "        print(\"Adding \" + requested_topping + \".\")\n",
    "\n",
    "print(\"\\nFinished making your pizza!\")"
   ]
  },
  {
   "cell_type": "markdown",
   "metadata": {},
   "source": [
    "**Example 1** shows printing a message with a basic for-loop. **Example 2** shows what happens if you run about of green peppers, and need the program to check a special item while printing those messages."
   ]
  },
  {
   "cell_type": "markdown",
   "metadata": {},
   "source": [
    "## Checking that a list isn't empty"
   ]
  },
  {
   "cell_type": "code",
   "execution_count": 66,
   "metadata": {},
   "outputs": [
    {
     "name": "stdout",
     "output_type": "stream",
     "text": [
      "Are you sure you want a plain pizza?\n"
     ]
    }
   ],
   "source": [
    "requested_toppings = []\n",
    "\n",
    "if requested_toppings:\n",
    "    for requested_topping in requested_toppings:\n",
    "        print(\"Adding \" + requested_topping + \".\")\n",
    "    print(\"\\nFinished making your pizza!\")\n",
    "else: \n",
    "    print(\"Are you sure you want a plain pizza?\")"
   ]
  },
  {
   "cell_type": "markdown",
   "metadata": {},
   "source": [
    "Some programs will have users input their own information that's stored in a list, and we can't assume that there will be items in the list each time the loop is run. So, in this situation, it's useful to check if the list if empty before running the for-loop.\n",
    "\n",
    "Here, before we jump into the for-loop, we check the list. If the name of the list is used in an if-statement, then Python returns **True** if the list contains at least one item. It returns **False** if the list is empty. So, if the requested_toppings passed the conditional test, then the for-loop is run. Otherwise, it fails and the **else** message is printed. "
   ]
  },
  {
   "cell_type": "markdown",
   "metadata": {},
   "source": [
    "## Using multiple lists"
   ]
  },
  {
   "cell_type": "code",
   "execution_count": 68,
   "metadata": {},
   "outputs": [
    {
     "name": "stdout",
     "output_type": "stream",
     "text": [
      "Adding mushrooms.\n",
      "Sorry, we don't have french fries.\n",
      "Adding extra cheese.\n",
      "\n",
      "Finished making your pizza!\n"
     ]
    }
   ],
   "source": [
    "available_toppings = ['mushrooms', 'olives', 'green peppers', 'pepperoni', 'pineapple', 'extra cheese']\n",
    "\n",
    "requested_toppings = ['mushrooms', 'french fries', 'extra cheese']\n",
    "\n",
    "for requested_topping in requested_toppings:\n",
    "    if requested_topping in available_toppings:\n",
    "        print(\"Adding \" + requested_topping + \".\")\n",
    "    else:\n",
    "        print(\"Sorry, we don't have \" + requested_topping + \".\")\n",
    "\n",
    "print(\"\\nFinished making your pizza!\")"
   ]
  },
  {
   "cell_type": "markdown",
   "metadata": {},
   "source": [
    "We can check one list against another. If we have a list of toppings available at a pizzeria, and a customer orders a topping not on that list, we can check that.\n",
    "\n",
    "Note: If the available toppings are a set menu at the pizzeria, this could be a **tuple**. "
   ]
  },
  {
   "cell_type": "markdown",
   "metadata": {},
   "source": [
    "# Try It Yourself!"
   ]
  },
  {
   "cell_type": "markdown",
   "metadata": {},
   "source": [
    "## 5-8: Hello Admin"
   ]
  },
  {
   "cell_type": "code",
   "execution_count": 69,
   "metadata": {},
   "outputs": [
    {
     "name": "stdout",
     "output_type": "stream",
     "text": [
      "Welcome back Amanda, thank you for logging in again!\n",
      "Welcome back Conor, thank you for logging in again!\n",
      "Hello admin, would you like to see the status report?\n",
      "Welcome back Riko, thank you for logging in again!\n",
      "Welcome back Carol, thank you for logging in again!\n",
      "Welcome back Kate, thank you for logging in again!\n"
     ]
    }
   ],
   "source": [
    "users = ['amanda', 'conor', 'admin', 'riko', 'carol', 'kate']\n",
    "\n",
    "for user in users:\n",
    "    if user == 'admin':\n",
    "        print(\"Hello \" + user.lower() + \", would you like to see the status report?\")\n",
    "    else:\n",
    "        print(\"Welcome back \" + user.title() + \", thank you for logging in again!\")"
   ]
  },
  {
   "cell_type": "markdown",
   "metadata": {},
   "source": [
    "## 5-9: No Users"
   ]
  },
  {
   "cell_type": "code",
   "execution_count": 70,
   "metadata": {},
   "outputs": [
    {
     "name": "stdout",
     "output_type": "stream",
     "text": [
      "We need to find some users!\n"
     ]
    }
   ],
   "source": [
    "users = []\n",
    "\n",
    "if users:\n",
    "    for user in users:\n",
    "        if user == 'admin':\n",
    "            print(\"Hello \" + user.lower() + \", would you like to see the status report?\")\n",
    "        else:\n",
    "            print(\"Welcome back \" + user.title() + \", thank you for logging in again!\")\n",
    "else:\n",
    "    print(\"We need to find some users!\")"
   ]
  },
  {
   "cell_type": "markdown",
   "metadata": {},
   "source": [
    "## 5-10: Checking usernames"
   ]
  },
  {
   "cell_type": "code",
   "execution_count": 72,
   "metadata": {},
   "outputs": [
    {
     "name": "stdout",
     "output_type": "stream",
     "text": [
      "Sorry user, that name is taken. Please choose a new name.\n",
      "That name is available. Welcome Dovi!\n",
      "Sorry user, that name is taken. Please choose a new name.\n",
      "That name is available. Welcome Claire!\n"
     ]
    }
   ],
   "source": [
    "current_users = ['bethany', 'diane', 'amanda', 'kelly']\n",
    "new_users = ['Diane', 'Dovi', 'AMANDA', 'Claire']\n",
    "\n",
    "for new_user in new_users:\n",
    "    if new_user.lower() in current_users:\n",
    "        print(\"Sorry user, that name is taken. Please choose a new name.\")\n",
    "    else:\n",
    "        print(\"That name is available. Welcome \" + new_user + \"!\")"
   ]
  },
  {
   "cell_type": "markdown",
   "metadata": {},
   "source": [
    "## 5-11: Ordinal Numbers"
   ]
  },
  {
   "cell_type": "code",
   "execution_count": 79,
   "metadata": {},
   "outputs": [
    {
     "name": "stdout",
     "output_type": "stream",
     "text": [
      "1st\n",
      "2nd\n",
      "3rd\n",
      "4th\n",
      "5th\n",
      "6th\n",
      "7th\n",
      "8th\n",
      "9th\n"
     ]
    }
   ],
   "source": [
    "numbers = [1, 2, 3, 4, 5, 6, 7, 8, 9]\n",
    "\n",
    "for number in numbers:\n",
    "    if number == 1:\n",
    "        print(\"1st\")\n",
    "    elif number == 2:\n",
    "        print(\"2nd\")\n",
    "    elif number == 3:\n",
    "        print(\"3rd\")\n",
    "    else:\n",
    "        print(str(number) + \"th\")"
   ]
  },
  {
   "cell_type": "code",
   "execution_count": null,
   "metadata": {},
   "outputs": [],
   "source": []
  }
 ],
 "metadata": {
  "kernelspec": {
   "display_name": "Python 3",
   "language": "python",
   "name": "python3"
  },
  "language_info": {
   "codemirror_mode": {
    "name": "ipython",
    "version": 3
   },
   "file_extension": ".py",
   "mimetype": "text/x-python",
   "name": "python",
   "nbconvert_exporter": "python",
   "pygments_lexer": "ipython3",
   "version": "3.7.0"
  }
 },
 "nbformat": 4,
 "nbformat_minor": 2
}
