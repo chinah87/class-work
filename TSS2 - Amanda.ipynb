{
 "cells": [
  {
   "cell_type": "code",
   "execution_count": 1,
   "metadata": {},
   "outputs": [
    {
     "name": "stdout",
     "output_type": "stream",
     "text": [
      "Hello, my name is Amanda. I'm 31 years old, and I live in Seattle.\n"
     ]
    }
   ],
   "source": [
    "print(\"Hello, my name is Amanda. I'm 31 years old, and I live in Seattle.\")"
   ]
  },
  {
   "cell_type": "code",
   "execution_count": 4,
   "metadata": {},
   "outputs": [
    {
     "name": "stdout",
     "output_type": "stream",
     "text": [
      "Hello, my name is Amanda\n"
     ]
    }
   ],
   "source": [
    "name = 'amanda'\n",
    "\n",
    "print(\"Hello, my name is \" + name.title())"
   ]
  },
  {
   "cell_type": "code",
   "execution_count": 5,
   "metadata": {},
   "outputs": [
    {
     "name": "stdout",
     "output_type": "stream",
     "text": [
      "I'm 31 years old.\n"
     ]
    }
   ],
   "source": [
    "age = 31\n",
    "\n",
    "print(\"I'm \" + str(age) + \" years old.\")"
   ]
  },
  {
   "cell_type": "code",
   "execution_count": 7,
   "metadata": {},
   "outputs": [
    {
     "name": "stdout",
     "output_type": "stream",
     "text": [
      "I live in Seattle.\n"
     ]
    }
   ],
   "source": [
    "city = 'Seattle'\n",
    "\n",
    "print(\"I live in Seattle.\")"
   ]
  },
  {
   "cell_type": "code",
   "execution_count": 10,
   "metadata": {},
   "outputs": [
    {
     "name": "stdout",
     "output_type": "stream",
     "text": [
      "Hello, my name is Amanda. I'm 31 years old, and I live in Seattle.\n"
     ]
    }
   ],
   "source": [
    "name = 'amanda'\n",
    "age = 31\n",
    "city = 'Seattle'\n",
    "\n",
    "print(\"Hello, my name is \" + name.title() + \". I'm \" + str(age) + \n",
    "      \" years old, and I live in \" + city.title() + \".\")"
   ]
  },
  {
   "cell_type": "code",
   "execution_count": 1,
   "metadata": {},
   "outputs": [
    {
     "name": "stdout",
     "output_type": "stream",
     "text": [
      "I can eat 40 donuts a day.\n"
     ]
    }
   ],
   "source": [
    "print(\"I can eat 40 donuts a day.\")"
   ]
  },
  {
   "cell_type": "code",
   "execution_count": 5,
   "metadata": {},
   "outputs": [
    {
     "name": "stdout",
     "output_type": "stream",
     "text": [
      "I can eat 40 donuts a day.\n"
     ]
    }
   ],
   "source": [
    "print(\"I can eat\" + \" 40 donuts \" + \"a day.\")"
   ]
  },
  {
   "cell_type": "code",
   "execution_count": 8,
   "metadata": {},
   "outputs": [
    {
     "name": "stdout",
     "output_type": "stream",
     "text": [
      "I can eat 40 donuts a day.\n"
     ]
    }
   ],
   "source": [
    "favorite_food = 'donuts'\n",
    "\n",
    "print(\"I can eat 40 \" + favorite_food + \" a day.\" )"
   ]
  },
  {
   "cell_type": "code",
   "execution_count": 9,
   "metadata": {},
   "outputs": [
    {
     "name": "stdout",
     "output_type": "stream",
     "text": [
      "Donuts\n",
      "DONUTS\n",
      "donuts\n"
     ]
    }
   ],
   "source": [
    "favorite_food = 'donuts'\n",
    "\n",
    "print(favorite_food.title())\n",
    "print(favorite_food.upper())\n",
    "print(favorite_food.lower())"
   ]
  },
  {
   "cell_type": "code",
   "execution_count": 10,
   "metadata": {},
   "outputs": [
    {
     "name": "stdout",
     "output_type": "stream",
     "text": [
      "I can eat 40 DONUTS a day.\n"
     ]
    }
   ],
   "source": [
    "favorite_food = 'donuts'\n",
    "\n",
    "print(\"I can eat 40 \" + favorite_food.upper() + \" a day.\")"
   ]
  },
  {
   "cell_type": "code",
   "execution_count": 12,
   "metadata": {},
   "outputs": [
    {
     "name": "stdout",
     "output_type": "stream",
     "text": [
      "I can eat 40 donuts a day.\n"
     ]
    }
   ],
   "source": [
    "favorite_food = 'donuts'\n",
    "amount = 40\n",
    "\n",
    "print(\"I can eat \" + str(amount) + \" \" + favorite_food + \" a day.\")"
   ]
  },
  {
   "cell_type": "code",
   "execution_count": 15,
   "metadata": {},
   "outputs": [
    {
     "name": "stdout",
     "output_type": "stream",
     "text": [
      "I can eat 40 donuts a day. But then I'd need 20 cups of coffee too.\n"
     ]
    }
   ],
   "source": [
    "food = 'donuts'\n",
    "drink = 'coffee'\n",
    "food_amount = 40\n",
    "drink_amount = 20\n",
    "\n",
    "print(\"I can eat \" + str(food_amount) + \" \" + food + \n",
    "      \" a day. But then I'd need \" + str(drink_amount) + \n",
    "      \" cups of \" + drink + \" too.\")"
   ]
  },
  {
   "cell_type": "code",
   "execution_count": null,
   "metadata": {},
   "outputs": [],
   "source": []
  }
 ],
 "metadata": {
  "kernelspec": {
   "display_name": "Python 3",
   "language": "python",
   "name": "python3"
  },
  "language_info": {
   "codemirror_mode": {
    "name": "ipython",
    "version": 3
   },
   "file_extension": ".py",
   "mimetype": "text/x-python",
   "name": "python",
   "nbconvert_exporter": "python",
   "pygments_lexer": "ipython3",
   "version": "3.7.0"
  }
 },
 "nbformat": 4,
 "nbformat_minor": 2
}
