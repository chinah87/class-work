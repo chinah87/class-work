{
 "cells": [
  {
   "cell_type": "code",
   "execution_count": 3,
   "metadata": {},
   "outputs": [
    {
     "name": "stdout",
     "output_type": "stream",
     "text": [
      "I can eat 5 chocolate bars a day.\n",
      "I can eat 5 chocolate bars a day.\n"
     ]
    }
   ],
   "source": [
    "print (\"I can eat 5 chocolate bars a day.\")\n",
    "print (\"I can eat\" + \" 5 chocolate bars \" + \"a day.\")\n",
    "       \n",
    "       "
   ]
  },
  {
   "cell_type": "code",
   "execution_count": 10,
   "metadata": {},
   "outputs": [
    {
     "name": "stdout",
     "output_type": "stream",
     "text": [
      "I can eat 5 chocolate bars a day.\n"
     ]
    }
   ],
   "source": [
    "dessert_types = 'chocolate bars'\n",
    "print (\"I can eat 5 \" + dessert_types + \" a day.\")\n"
   ]
  },
  {
   "cell_type": "code",
   "execution_count": null,
   "metadata": {},
   "outputs": [],
   "source": []
  }
 ],
 "metadata": {
  "kernelspec": {
   "display_name": "Python 3",
   "language": "python",
   "name": "python3"
  },
  "language_info": {
   "codemirror_mode": {
    "name": "ipython",
    "version": 3
   },
   "file_extension": ".py",
   "mimetype": "text/x-python",
   "name": "python",
   "nbconvert_exporter": "python",
   "pygments_lexer": "ipython3",
   "version": "3.7.0"
  }
 },
 "nbformat": 4,
 "nbformat_minor": 2
}
