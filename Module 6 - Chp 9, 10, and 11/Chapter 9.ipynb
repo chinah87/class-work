{
 "cells": [
  {
   "cell_type": "markdown",
   "metadata": {},
   "source": [
    "# Classes"
   ]
  },
  {
   "cell_type": "markdown",
   "metadata": {},
   "source": [
    "*Object-oriented programming* - Write *classes* that represent real-world  things and situations, and create *objects* ased on these classes. One of the most effective approaches to writing software.\n",
    "\n",
    "Writing *classes* - Define the general behavior that a whole category of *objects* can have. \n",
    "\n",
    "Creating *objects* - Each *object* is automatically equipped with the general behavior of a *class*. Then you can give each *object* whatever unique traits you want. \n",
    "\n",
    "*Instantation* - The act of making an *object* from a *class*. You work with *instances* of a class. "
   ]
  },
  {
   "cell_type": "markdown",
   "metadata": {},
   "source": [
    "# Creating and Using a Class"
   ]
  },
  {
   "cell_type": "markdown",
   "metadata": {},
   "source": [
    "You can model almost anything using classes. Here, we'll create a simple class, **Dog**. We know that most dogs have a name and age. We also know that they sit and roll over. These two pieces of information (name and age) and two behaviors (sit and roll over) will go in our **Dog** class. This class will tell Python how to make an object representing a dog. After the class is written, we'll use it to make individual instances. "
   ]
  },
  {
   "cell_type": "markdown",
   "metadata": {},
   "source": [
    "## Example: Dog Class"
   ]
  },
  {
   "cell_type": "code",
   "execution_count": 11,
   "metadata": {},
   "outputs": [
    {
     "name": "stdout",
     "output_type": "stream",
     "text": [
      "My dog's name is Willie.\n",
      "My dog is 6 years old.\n",
      "Willie is now sitting.\n",
      "Willie rolled over!\n",
      "\n",
      "Your dog's name is Lucy.\n",
      "Your dog is 3 years old.\n",
      "Lucy is now sitting.\n",
      "Lucy rolled over!\n"
     ]
    }
   ],
   "source": [
    "class Dog():\n",
    "    \"\"\"A simple attempt to model a dog.\"\"\"\n",
    "    \n",
    "    def __init__(self, name, age):\n",
    "        \"\"\"Initialize name and age attributes.\"\"\"\n",
    "        self.name = name\n",
    "        self.age = age\n",
    "        \n",
    "    def sit(self):\n",
    "        \"\"\"Simulate a dog sitting in response to a command.\"\"\"\n",
    "        print(self.name.title() + \" is now sitting.\")\n",
    "        \n",
    "    def roll_over(self):\n",
    "        \"\"\"Simulate rolling over in response to a command.\"\"\"\n",
    "        print(self.name.title() + \" rolled over!\")\n",
    "\n",
    "my_dog = Dog('willie', 6)\n",
    "your_dog = Dog('lucy', 3)\n",
    "\n",
    "print(\"My dog's name is \" + my_dog.name.title() + \".\")\n",
    "print(\"My dog is \" + str(my_dog.age) + \" years old.\")\n",
    "my_dog.sit()\n",
    "my_dog.roll_over()\n",
    "\n",
    "print(\"\\nYour dog's name is \" + your_dog.name.title() + \".\")\n",
    "print(\"Your dog is \" + str(your_dog.age) + \" years old.\")\n",
    "your_dog.sit()\n",
    "your_dog.roll_over()"
   ]
  },
  {
   "cell_type": "markdown",
   "metadata": {},
   "source": [
    "## Creating a class\n",
    "\n",
    "Each instance created from the **Dog** class will store a name and age. We'll give each dog the ability to **sit()** and **roll_over()**. \n",
    "\n",
    "First, we define the class as **Dog**. We capitalize this to mark it as a class. The parenthesis are empty becuase we are making this class from scratch.\n",
    "\n",
    "Next, we write a **docstring** to describe what the class does.\n",
    "\n",
    "Then, we define a *method*. A *method* is a function that is part of a class. It is the same as a function, except for the way we call it. \n",
    "\n",
    "The **__init__()** method is a special method that Python runs automatically whenever we create a new instance in the **Dog** class. This method needs two leading underscores and two trailing underscores. This avoids Python confusing your method names with default method names. \n",
    "\n",
    "Here, the **__init__()** method has three parameters: self, name, and age. The first parameter in the method is absolutely required, and is used to pass the following parameters along. The first parameter is essentially referring to the instance itself. It gives the individual instance access to the attributes and methods in the class. \n",
    "\n",
    "Within the **__init__()** method we have two *attributes* - **self.name** and **self.age**. Here, we are basically taking the **value** \"name\" and storing it in the **variable** \"name\", and then attaching that variable to the **instance** \"self\". These attributes are available to any method in the class. These attributes are also available to any instance created from the class. \n",
    "\n",
    "Finally, the **Dog** class has two other methods - **sit()** and **roll_over()**. In each one, we don't need additional information like the name or age, so we just use the parameter \"self\". So, the instances we create later will have access to these methods now. \n",
    "\n",
    "For now, we aren't doing much with these methods...just printing that a dog is sitting or rolling over. But, if this class were part of a computer game, these methods could contain code that make an animated dog sit and roll over. If this class were written for a robot, the methods could direct movements that cause a dog robot to sit or roll over."
   ]
  },
  {
   "cell_type": "markdown",
   "metadata": {},
   "source": [
    "## Making an instance\n",
    "\n",
    "After defining the class, we can make an instance of it. Think of a class as a set of instructions for how to make an instance.\n",
    "\n",
    "Here, we are storing our instance in the variable **my_dog**. We tell Python to create a dog whose name is 'willie' and age is 6. When Python reads this, it calls the **__init__()** method with these arguments 'willie' and 6. The method creates an instance representing this dog, and sets the attributes for name and age. Though the **__init__()** method has no explicit return statement, Python will automatically return an instance representing this dog. "
   ]
  },
  {
   "cell_type": "markdown",
   "metadata": {},
   "source": [
    "## Accessing attributes\n",
    "\n",
    "We can access attributes of an instance with dot notation. For instance, we can access the value of **my_dog**'s attribute **name** by writing: **my_dog.name**. This is the same attribute referred to as **self.name** in the **Dog** class. "
   ]
  },
  {
   "cell_type": "markdown",
   "metadata": {},
   "source": [
    "## Calling methods\n",
    "\n",
    "After we create an instance from the **Dog** class, we can use dot notation to call any method defined in **Dog**. In the example, we used **my_dog.sit()** and **my_dog.roll_over()**. "
   ]
  },
  {
   "cell_type": "markdown",
   "metadata": {},
   "source": [
    "## Creating multiple instances\n",
    "\n",
    "We can create many instances from a class. In the example, we created **my_dog** (Willie) and **your_dog** (Lucy). Each dog is a separate instance with its own set of attributes, capable of the same set of actions. \n",
    "\n",
    "Even if we used the same name and age for the second dog, Python would still create a separate instance from the **Dog** class. You can make as many instances from one class as you need, as long as you give each instance a unique variable name, or it occupies a unique spot in a list or dictionary."
   ]
  },
  {
   "cell_type": "markdown",
   "metadata": {},
   "source": [
    "# Try It Yourself!"
   ]
  },
  {
   "cell_type": "markdown",
   "metadata": {},
   "source": [
    "## 9-1: Restaurant"
   ]
  },
  {
   "cell_type": "code",
   "execution_count": 4,
   "metadata": {},
   "outputs": [
    {
     "name": "stdout",
     "output_type": "stream",
     "text": [
      "Nabezo is in Tokyo.\n",
      "I used to go to Nabezo for Japanese hot pot.\n",
      "Nabezo is a lovely restaurant that serves Japanese hot pot.\n",
      "Nabezo is now open!\n"
     ]
    }
   ],
   "source": [
    "class Restaurant():\n",
    "    \"\"\"A simple model of a restaurant.\"\"\"\n",
    "    \n",
    "    def __init__(self, name, cuisine_type):\n",
    "        \"\"\"Initialize restaurant name and cuisine attributes.\"\"\"\n",
    "        self.name = name.title()\n",
    "        self.cuisine_type = cuisine_type\n",
    "    \n",
    "    def describe_restaurant(self):\n",
    "        \"\"\"Prints information about the restaurant.\"\"\"\n",
    "        print(self.name + \" is a lovely restaurant that serves \" +\n",
    "             self.cuisine_type + \".\")\n",
    "    \n",
    "    def open_restaurant(self):\n",
    "        \"\"\"Simulate opening a restaurant.\"\"\"\n",
    "        print(self.name + \" is now open!\")\n",
    "\n",
    "restaurant = Restaurant('nabezo', 'Japanese hot pot')\n",
    "\n",
    "print(restaurant.name + \" is in Tokyo.\")\n",
    "print(\"I used to go to \" + restaurant.name + \" for \" + \n",
    "      restaurant.cuisine_type + \".\")\n",
    "\n",
    "restaurant.describe_restaurant()\n",
    "restaurant.open_restaurant()"
   ]
  },
  {
   "cell_type": "markdown",
   "metadata": {},
   "source": [
    "## 9-2: Three Restaurants"
   ]
  },
  {
   "cell_type": "code",
   "execution_count": 5,
   "metadata": {},
   "outputs": [
    {
     "name": "stdout",
     "output_type": "stream",
     "text": [
      "Some highly-recommended restaurants in Seattle:\n",
      "Boiling Pot is a lovely restaurant that serves Asian-style hot pot.\n",
      "Dough Zone is a lovely restaurant that serves Chinese soup dumplings.\n",
      "Pollos A La Brasa San Fernando is a lovely restaurant that serves Peruvian chicken.\n"
     ]
    }
   ],
   "source": [
    "class Restaurant():\n",
    "    \"\"\"A simple model of a restaurant.\"\"\"\n",
    "    \n",
    "    def __init__(self, name, cuisine_type):\n",
    "        \"\"\"Initialize restaurant name and cuisine attributes.\"\"\"\n",
    "        self.name = name.title()\n",
    "        self.cuisine_type = cuisine_type\n",
    "    \n",
    "    def describe_restaurant(self):\n",
    "        \"\"\"Prints information about the restaurant.\"\"\"\n",
    "        print(self.name + \" is a lovely restaurant that serves \" +\n",
    "             self.cuisine_type + \".\")\n",
    "    \n",
    "    def open_restaurant(self):\n",
    "        \"\"\"Simulate opening a restaurant.\"\"\"\n",
    "        print(self.name + \" is now open!\")\n",
    "\n",
    "restaurant_one = Restaurant('boiling pot', 'Asian-style hot pot')\n",
    "restaurant_two = Restaurant('dough zone', 'Chinese soup dumplings')\n",
    "restaurant_three = Restaurant('pollos a la brasa san fernando', \n",
    "                              'Peruvian chicken')\n",
    "\n",
    "print(\"Some highly-recommended restaurants in Seattle:\")\n",
    "restaurant_one.describe_restaurant()\n",
    "restaurant_two.describe_restaurant()\n",
    "restaurant_three.describe_restaurant()"
   ]
  },
  {
   "cell_type": "markdown",
   "metadata": {},
   "source": [
    "## 9-3: Users"
   ]
  },
  {
   "cell_type": "code",
   "execution_count": 8,
   "metadata": {},
   "outputs": [
    {
     "name": "stdout",
     "output_type": "stream",
     "text": [
      "\n",
      "Comic Sans\n",
      "- Username: BONEHEAD\n",
      "- Age: 100\n",
      "- City: Grillby\n",
      "\n",
      "Welcome back, BONEHEAD!\n",
      "\n",
      "Asriel Dreamurr\n",
      "- Username: ralsei\n",
      "- Age: 10\n",
      "- City: Deltarune\n",
      "\n",
      "Welcome back, ralsei!\n",
      "\n",
      "W D Gaster\n",
      "- Username: WingDings\n",
      "- Age: ?\n",
      "- City: Everywhere\n",
      "\n",
      "Welcome back, WingDings!\n"
     ]
    }
   ],
   "source": [
    "class User():\n",
    "    \"\"\"A model of a user.\"\"\"\n",
    "    \n",
    "    def __init__(self, first_name, last_name, username, age, city):\n",
    "        \"\"\"Initalize attributes.\"\"\"\n",
    "        self.first_name = first_name.title()\n",
    "        self.last_name = last_name.title()\n",
    "        self.username = username\n",
    "        self.age = age\n",
    "        self.city = city.title()\n",
    "    \n",
    "    def describe_user(self):\n",
    "        \"\"\"Print a summary of the user.\"\"\"\n",
    "        print(\"\\n\" + self.first_name + \" \" + self.last_name)\n",
    "        print(\"- Username: \" + self.username)\n",
    "        print(\"- Age: \" + str(self.age))\n",
    "        print(\"- City: \" + self.city)\n",
    "        \n",
    "    def greet_user(self):\n",
    "        \"\"\"Print a personalized greeting.\"\"\"\n",
    "        print(\"\\nWelcome back, \" + self.username + \"!\")\n",
    "\n",
    "sans = User('comic', 'sans', 'BONEHEAD', 100, 'grillby')\n",
    "asriel = User('asriel', 'dreamurr', 'ralsei', 10, 'deltarune')\n",
    "gaster = User('w d', 'gaster', 'WingDings', '?', 'everywhere')\n",
    "\n",
    "sans.describe_user()\n",
    "sans.greet_user()\n",
    "asriel.describe_user()\n",
    "asriel.greet_user()\n",
    "gaster.describe_user()\n",
    "gaster.greet_user()"
   ]
  },
  {
   "cell_type": "markdown",
   "metadata": {},
   "source": [
    "# Working with Classes and Instances"
   ]
  },
  {
   "cell_type": "code",
   "execution_count": 12,
   "metadata": {},
   "outputs": [
    {
     "name": "stdout",
     "output_type": "stream",
     "text": [
      "2016 Audi A4\n",
      "This car has 0 miles on it.\n"
     ]
    }
   ],
   "source": [
    "class Car(): \n",
    "    \"\"\"A simple attempt to represent a car.\"\"\"\n",
    "    \n",
    "    def __init__(self, make, model, year):\n",
    "        \"\"\"Initialize attributes to describe a car.\"\"\"\n",
    "        self.make = make\n",
    "        self.model = model\n",
    "        self.year = year\n",
    "        self.odometer_reading = 0\n",
    "        \n",
    "    def get_descriptive_name(self):\n",
    "        \"\"\"Return a neatly formatted descriptive name.\"\"\"\n",
    "        long_name = str(self.year) + ' ' + self.make + ' ' + self.model\n",
    "        return long_name.title()\n",
    "    \n",
    "    def read_odometer(self):\n",
    "        \"\"\"Print a statement showing the car's mileage.\"\"\"\n",
    "        print(\"This car has \" + str(self.odometer_reading) + \n",
    "             \" miles on it.\")\n",
    "    \n",
    "my_new_car = Car('audi', 'a4', 2016)\n",
    "print(my_new_car.get_descriptive_name())\n",
    "my_new_car.read_odometer()"
   ]
  },
  {
   "cell_type": "markdown",
   "metadata": {},
   "source": [
    "This is the **Car** class with four attributes: make, model, year, and odometer reading. The **odometer reading** attribute in particular has a default value of 0, and does not need to be included as a parameter. We specify this intial value in the body of the method itself to set the default. \n",
    "\n",
    "Not many cars are sold with exactly 0 mlies on the odometer. This attribute's value also changes over time. So we need a way to change the value of this attribute. \n",
    "\n",
    "There are three ways to modify an attribute's value. "
   ]
  },
  {
   "cell_type": "markdown",
   "metadata": {},
   "source": [
    "## Modifying attribute values 1 - modifying directly"
   ]
  },
  {
   "cell_type": "code",
   "execution_count": 13,
   "metadata": {},
   "outputs": [
    {
     "name": "stdout",
     "output_type": "stream",
     "text": [
      "2016 Audi A4\n",
      "This car has 23 miles on it.\n"
     ]
    }
   ],
   "source": [
    "class Car(): \n",
    "    \"\"\"A simple attempt to represent a car.\"\"\"\n",
    "    \n",
    "    def __init__(self, make, model, year):\n",
    "        \"\"\"Initialize attributes to describe a car.\"\"\"\n",
    "        self.make = make\n",
    "        self.model = model\n",
    "        self.year = year\n",
    "        self.odometer_reading = 0\n",
    "        \n",
    "    def get_descriptive_name(self):\n",
    "        \"\"\"Return a neatly formatted descriptive name.\"\"\"\n",
    "        long_name = str(self.year) + ' ' + self.make + ' ' + self.model\n",
    "        return long_name.title()\n",
    "    \n",
    "    def read_odometer(self):\n",
    "        \"\"\"Print a statement showing the car's mileage.\"\"\"\n",
    "        print(\"This car has \" + str(self.odometer_reading) + \n",
    "             \" miles on it.\")\n",
    "    \n",
    "my_new_car = Car('audi', 'a4', 2016)\n",
    "print(my_new_car.get_descriptive_name())\n",
    "\n",
    "my_new_car.odometer_reading = 23\n",
    "my_new_car.read_odometer()"
   ]
  },
  {
   "cell_type": "markdown",
   "metadata": {},
   "source": [
    "The simplest way to modify a value of an attribute is just to access the attribute directly through an instance. Sometimes you'll want to access attributes directly like this, and other times you'll want to write a method that updates the value for you."
   ]
  },
  {
   "cell_type": "markdown",
   "metadata": {},
   "source": [
    "## Modifying attribute values 2 - through a method"
   ]
  },
  {
   "cell_type": "code",
   "execution_count": 15,
   "metadata": {},
   "outputs": [
    {
     "name": "stdout",
     "output_type": "stream",
     "text": [
      "2016 Audi A4\n",
      "This car has 23 miles on it.\n"
     ]
    }
   ],
   "source": [
    "class Car(): \n",
    "    \"\"\"A simple attempt to represent a car.\"\"\"\n",
    "    \n",
    "    def __init__(self, make, model, year):\n",
    "        \"\"\"Initialize attributes to describe a car.\"\"\"\n",
    "        self.make = make\n",
    "        self.model = model\n",
    "        self.year = year\n",
    "        self.odometer_reading = 0\n",
    "        \n",
    "    def get_descriptive_name(self):\n",
    "        \"\"\"Return a neatly formatted descriptive name.\"\"\"\n",
    "        long_name = str(self.year) + ' ' + self.make + ' ' + self.model\n",
    "        return long_name.title()\n",
    "    \n",
    "    def read_odometer(self):\n",
    "        \"\"\"Print a statement showing the car's mileage.\"\"\"\n",
    "        print(\"This car has \" + str(self.odometer_reading) + \n",
    "             \" miles on it.\")\n",
    "    \n",
    "    def update_odometer(self, mileage):\n",
    "        \"\"\"\n",
    "        Set the odometer reading to the given value.\n",
    "        Reject the change if it attempts to roll the odometer back.\n",
    "        \"\"\"\n",
    "        if mileage >= self.odometer_reading:\n",
    "            self.odometer_reading = mileage\n",
    "        else:\n",
    "            print(\"You can't roll back an odometer!\")\n",
    "    \n",
    "my_new_car = Car('audi', 'a4', 2016)\n",
    "print(my_new_car.get_descriptive_name())\n",
    "\n",
    "my_new_car.update_odometer(23)\n",
    "my_new_car.read_odometer()"
   ]
  },
  {
   "cell_type": "markdown",
   "metadata": {},
   "source": [
    "Instead of accessing an attribute directly, you can pass a new value to a method that handles the updating internally. Here, we set up a new method in **Car** that updates the odometer. In our main program, we pass the argument '23' to the **update_odometer** method, and it gets read as the parameter 'mileage'. \n",
    "\n",
    "Also, we can add a little logic to make sure no one tries to roll back the odometer reading. So **update_odometer** will check if the new reading makes sense before modifing the attribute. "
   ]
  },
  {
   "cell_type": "markdown",
   "metadata": {},
   "source": [
    "## Modifying attribute values 3 - incrementing values"
   ]
  },
  {
   "cell_type": "code",
   "execution_count": 18,
   "metadata": {},
   "outputs": [
    {
     "name": "stdout",
     "output_type": "stream",
     "text": [
      "2013 Subaru Outback\n",
      "This car has 23500 miles on it.\n",
      "This car has 23600 miles on it.\n"
     ]
    }
   ],
   "source": [
    "class Car(): \n",
    "    \"\"\"A simple attempt to represent a car.\"\"\"\n",
    "    \n",
    "    def __init__(self, make, model, year):\n",
    "        \"\"\"Initialize attributes to describe a car.\"\"\"\n",
    "        self.make = make\n",
    "        self.model = model\n",
    "        self.year = year\n",
    "        self.odometer_reading = 0\n",
    "        \n",
    "    def get_descriptive_name(self):\n",
    "        \"\"\"Return a neatly formatted descriptive name.\"\"\"\n",
    "        long_name = str(self.year) + ' ' + self.make + ' ' + self.model\n",
    "        return long_name.title()\n",
    "    \n",
    "    def read_odometer(self):\n",
    "        \"\"\"Print a statement showing the car's mileage.\"\"\"\n",
    "        print(\"This car has \" + str(self.odometer_reading) + \n",
    "             \" miles on it.\")\n",
    "    \n",
    "    def update_odometer(self, mileage):\n",
    "        \"\"\"\n",
    "        Set the odometer reading to the given value.\n",
    "        Reject the change if it attempts to roll the odometer back.\n",
    "        \"\"\"\n",
    "        if mileage >= self.odometer_reading:\n",
    "            self.odometer_reading = mileage\n",
    "        else:\n",
    "            print(\"You can't roll back an odometer!\")\n",
    "    \n",
    "    def increment_odometer(self, miles):\n",
    "        \"\"\"Add the given amount to the odometer reading.\"\"\"\n",
    "        self.odometer_reading += miles\n",
    "    \n",
    "my_used_car = Car('subaru', 'outback', 2013)\n",
    "print(my_used_car.get_descriptive_name())\n",
    "\n",
    "my_used_car.update_odometer(23500)\n",
    "my_used_car.read_odometer()\n",
    "\n",
    "my_used_car.increment_odometer(100)\n",
    "my_used_car.read_odometer()"
   ]
  },
  {
   "cell_type": "markdown",
   "metadata": {},
   "source": [
    "Sometimes you want to increment an attribute's value by a certain amount rather than set an entirely new value. Here, we bought a used car and put 100 miles on it between the time we bought it and the time we register it. The new method, **increment_odometer()** takes in a number of miles, and adds this value to **self.odometer_reading**. \n",
    "\n",
    "In the instance, we set the odometer to 23,500 miles by calling **update_odometer()** and passing it 23500. Then we call **increment_odometer()** and pass it 100 to add the 100 miles we drove between buying the car and registering it."
   ]
  },
  {
   "cell_type": "markdown",
   "metadata": {},
   "source": [
    "# Try It Yourself!"
   ]
  },
  {
   "cell_type": "markdown",
   "metadata": {},
   "source": [
    "# 9-4: Number Served"
   ]
  },
  {
   "cell_type": "code",
   "execution_count": 23,
   "metadata": {},
   "outputs": [
    {
     "name": "stdout",
     "output_type": "stream",
     "text": [
      "Taco Bell has served 0 customers so far.\n",
      "Taco Bell has served 5 customers so far.\n",
      "Taco Bell has served 10 customers so far.\n",
      "After a full business day, Taco Bell has served 1510 customers.\n"
     ]
    }
   ],
   "source": [
    "class Restaurant():\n",
    "    \"\"\"A simple model of a restaurant.\"\"\"\n",
    "    \n",
    "    def __init__(self, name, cuisine_type):\n",
    "        \"\"\"Initialize restaurant name and cuisine attributes.\"\"\"\n",
    "        self.name = name.title()\n",
    "        self.cuisine_type = cuisine_type\n",
    "        self.number_served = 0\n",
    "    \n",
    "    def describe_restaurant(self):\n",
    "        \"\"\"Prints information about the restaurant.\"\"\"\n",
    "        print(self.name + \" is a lovely restaurant that serves \" +\n",
    "             self.cuisine_type + \".\")\n",
    "    \n",
    "    def open_restaurant(self):\n",
    "        \"\"\"Simulate opening a restaurant.\"\"\"\n",
    "        print(self.name + \" is now open!\")\n",
    "    \n",
    "    def set_number_served(self, number):\n",
    "        \"\"\"Set the number of customers served.\"\"\"\n",
    "        self.number_served = number\n",
    "    \n",
    "    def increment_number_served(self, amount):\n",
    "        \"\"\"Add the given amount to the number of customers.\"\"\"\n",
    "        self.number_served += amount\n",
    "\n",
    "restaurant = Restaurant('taco bell', 'kind of Mexican')\n",
    "print(restaurant.name + \" has served \" + str(restaurant.number_served) + \n",
    "      \" customers so far.\")\n",
    "\n",
    "restaurant.number_served = 5\n",
    "print(restaurant.name + \" has served \" + str(restaurant.number_served) + \n",
    "      \" customers so far.\")\n",
    "\n",
    "restaurant.set_number_served(10)\n",
    "print(restaurant.name + \" has served \" + str(restaurant.number_served) + \n",
    "      \" customers so far.\")\n",
    "\n",
    "restaurant.increment_number_served(1500)\n",
    "print(\"After a full business day, \" + restaurant.name + \" has served \" + \n",
    "     str(restaurant.number_served) + \" customers.\")"
   ]
  },
  {
   "cell_type": "markdown",
   "metadata": {},
   "source": [
    "## 9-5: Login Attempts"
   ]
  },
  {
   "cell_type": "code",
   "execution_count": 29,
   "metadata": {},
   "outputs": [
    {
     "name": "stdout",
     "output_type": "stream",
     "text": [
      "\n",
      "Welcome back, toto!\n",
      "You have logged in 1 times.\n",
      "\n",
      "Welcome back, toto!\n",
      "You have logged in 2 times.\n",
      "\n",
      "Welcome back, toto!\n",
      "You have logged in 3 times.\n",
      "\n",
      "Welcome back, toto!\n",
      "You have logged in 4 times.\n",
      "\n",
      "Welcome back, toto!\n",
      "Your login attempts have been reset back to 0.\n"
     ]
    }
   ],
   "source": [
    "class User():\n",
    "    \"\"\"A model of a user.\"\"\"\n",
    "    \n",
    "    def __init__(self, first_name, last_name, username, age):\n",
    "        \"\"\"Initalize attributes.\"\"\"\n",
    "        self.first_name = first_name.title()\n",
    "        self.last_name = last_name.title()\n",
    "        self.username = username\n",
    "        self.age = age\n",
    "        self.login_attempts = 0\n",
    "    \n",
    "    def describe_user(self):\n",
    "        \"\"\"Print a summary of the user.\"\"\"\n",
    "        print(\"\\n\" + self.first_name + \" \" + self.last_name)\n",
    "        print(\"- Username: \" + self.username)\n",
    "        print(\"- Age: \" + str(self.age))\n",
    "        print(\"- City: \" + self.city)\n",
    "        \n",
    "    def greet_user(self):\n",
    "        \"\"\"Print a personalized greeting.\"\"\"\n",
    "        print(\"\\nWelcome back, \" + self.username + \"!\")\n",
    "    \n",
    "    def increment_login_attempts(self):\n",
    "        \"\"\"Add login attempts by increments of 1.\"\"\"\n",
    "        self.login_attempts += 1\n",
    "        print(\"You have logged in \" + str(self.login_attempts) \n",
    "              + \" times.\")\n",
    "    \n",
    "    def reset_login_attempts(self):\n",
    "        \"\"\"Reset the login attempts back to 0.\"\"\"\n",
    "        self.login_attempts = 0\n",
    "        print(\"Your login attempts have been reset back to \" \n",
    "              + str(self.login_attempts) + \".\")\n",
    "\n",
    "frisk = User('frisk', 'isnotonfire', 'toto', 10)\n",
    "frisk.greet_user()\n",
    "frisk.increment_login_attempts()\n",
    "frisk.greet_user()\n",
    "frisk.increment_login_attempts()\n",
    "frisk.greet_user()\n",
    "frisk.increment_login_attempts()\n",
    "frisk.greet_user()\n",
    "frisk.increment_login_attempts()\n",
    "frisk.greet_user()\n",
    "frisk.reset_login_attempts()"
   ]
  },
  {
   "cell_type": "markdown",
   "metadata": {},
   "source": [
    "# Inheritance"
   ]
  },
  {
   "cell_type": "code",
   "execution_count": 30,
   "metadata": {},
   "outputs": [
    {
     "name": "stdout",
     "output_type": "stream",
     "text": [
      "2016 Tesla Model S\n",
      "This car has a 70-kwh battery.\n"
     ]
    }
   ],
   "source": [
    "class Car(): \n",
    "    \"\"\"A simple attempt to represent a car.\"\"\"\n",
    "    \n",
    "    def __init__(self, make, model, year):\n",
    "        \"\"\"Initialize attributes to describe a car.\"\"\"\n",
    "        self.make = make\n",
    "        self.model = model\n",
    "        self.year = year\n",
    "        self.odometer_reading = 0\n",
    "        \n",
    "    def get_descriptive_name(self):\n",
    "        \"\"\"Return a neatly formatted descriptive name.\"\"\"\n",
    "        long_name = str(self.year) + ' ' + self.make + ' ' + self.model\n",
    "        return long_name.title()\n",
    "    \n",
    "    def read_odometer(self):\n",
    "        \"\"\"Print a statement showing the car's mileage.\"\"\"\n",
    "        print(\"This car has \" + str(self.odometer_reading) + \n",
    "             \" miles on it.\")\n",
    "    \n",
    "    def update_odometer(self, mileage):\n",
    "        \"\"\"\n",
    "        Set the odometer reading to the given value.\n",
    "        Reject the change if it attempts to roll the odometer back.\n",
    "        \"\"\"\n",
    "        if mileage >= self.odometer_reading:\n",
    "            self.odometer_reading = mileage\n",
    "        else:\n",
    "            print(\"You can't roll back an odometer!\")\n",
    "    \n",
    "    def increment_odometer(self, miles):\n",
    "        \"\"\"Add the given amount to the odometer reading.\"\"\"\n",
    "        self.odometer_reading += miles\n",
    "        \n",
    "class ElectricCar(Car):\n",
    "    \"\"\"Represent aspects of a car, specific to electric vehicles.\"\"\"\n",
    "    \n",
    "    def __init__(self, make, model, year):\n",
    "        \"\"\"\n",
    "        Initialize attributes of the parent class.\n",
    "        Then initialize attributes specific to an electric car.\"\"\"\n",
    "        super().__init__(make, model, year)\n",
    "        self.battery_size = 70\n",
    "    \n",
    "    def describe_battery(self):\n",
    "        \"\"\"Print a statement describing the battery size.\"\"\"\n",
    "        print(\"This car has a \" + str(self.battery_size) + \"-kwh battery.\")\n",
    "    \n",
    "    def fill_gas_tank(self):\n",
    "        \"\"\"Electric cars don't have gas tanks.\"\"\"\n",
    "        print(\"This car doesn't need a gas tank!\")\n",
    "\n",
    "my_tesla = ElectricCar('tesla', 'model s', 2016)\n",
    "print(my_tesla.get_descriptive_name())\n",
    "my_tesla.describe_battery()"
   ]
  },
  {
   "cell_type": "markdown",
   "metadata": {},
   "source": [
    "If the class you're writing is a specialized version of another class you wrote, you can use *inheritance*. This means that the specialized, *child* class automatically *inherits* the attributes and methods from the first, *parent* class. \n",
    "\n",
    "Here, we model an electric car, which is just a specific kind of car. We start with the **Car** class because the parent class must be part of the current file and must appear before the child class in the file. When we define the child class, **ElectricCar**, the name of the parent class, **Car**, must be included in the paranthesis in the child class's definition. \n",
    "\n",
    "The **__init__()** method takes in the information required to make a **Car** instance. The **super()** function is a special function that helps Python make connections between the parent and child class. This line tells Python to call the **__init__()** method from **ElectricCar's** parent class, which gives an **ElectricCar** instance all the attributes of its parent class. \n",
    "\n",
    "We can add new attributes and methods to differentiate the child class from the parent class. This is seen in the **self.battery_size** attribute and **describe_battery** method. There's no limit to how much you can specialize a child class. \n",
    "\n",
    "We can also override methods from the parent class that don't fit what we're trying to model with the child class. To do this, you define a method in the child class with the same name as the method you want to override in the parent class. Python will disregard the parent class method and only pay attention to the method you define \n",
    "\n",
    "The **fill_gas_tank()** method is a theoretical example, if the **Car** class had the same method. But electric cars don't have gas tanks. So, by overwriting the method and adding new code, Python will run this code instead."
   ]
  },
  {
   "cell_type": "markdown",
   "metadata": {},
   "source": [
    "## Instances as attributes"
   ]
  },
  {
   "cell_type": "code",
   "execution_count": 52,
   "metadata": {},
   "outputs": [
    {
     "name": "stdout",
     "output_type": "stream",
     "text": [
      "2016 Tesla Model S\n",
      "This car has a 70-kwh battery.\n",
      "This car can go approximately 240 miles on a full charge.\n"
     ]
    }
   ],
   "source": [
    "class Car(): \n",
    "    \"\"\"A simple attempt to represent a car.\"\"\"\n",
    "    \n",
    "    def __init__(self, make, model, year):\n",
    "        \"\"\"Initialize attributes to describe a car.\"\"\"\n",
    "        self.make = make\n",
    "        self.model = model\n",
    "        self.year = year\n",
    "        self.odometer_reading = 0\n",
    "        \n",
    "    def get_descriptive_name(self):\n",
    "        \"\"\"Return a neatly formatted descriptive name.\"\"\"\n",
    "        long_name = str(self.year) + ' ' + self.make + ' ' + self.model\n",
    "        return long_name.title()\n",
    "    \n",
    "    def read_odometer(self):\n",
    "        \"\"\"Print a statement showing the car's mileage.\"\"\"\n",
    "        print(\"This car has \" + str(self.odometer_reading) + \n",
    "             \" miles on it.\")\n",
    "    \n",
    "    def update_odometer(self, mileage):\n",
    "        \"\"\"\n",
    "        Set the odometer reading to the given value.\n",
    "        Reject the change if it attempts to roll the odometer back.\n",
    "        \"\"\"\n",
    "        if mileage >= self.odometer_reading:\n",
    "            self.odometer_reading = mileage\n",
    "        else:\n",
    "            print(\"You can't roll back an odometer!\")\n",
    "    \n",
    "    def increment_odometer(self, miles):\n",
    "        \"\"\"Add the given amount to the odometer reading.\"\"\"\n",
    "        self.odometer_reading += miles\n",
    "        \n",
    "class Battery():\n",
    "    \"\"\"A simple attempt to model a battery for an electric car.\"\"\"\n",
    "    \n",
    "    def __init__(self, battery_size=70):\n",
    "        \"\"\"Initialize the battery's attributes.\"\"\"\n",
    "        self.battery_size = battery_size\n",
    "    \n",
    "    def describe_battery(self):\n",
    "        \"\"\"Print a statement describing the battery size.\"\"\"\n",
    "        print(\"This car has a \" + str(self.battery_size) + \"-kwh battery.\")\n",
    "    \n",
    "    def get_range(self):\n",
    "        \"\"\"Print a statement about the range this battery provides.\"\"\"\n",
    "        if self.battery_size == 70:\n",
    "            range = 240\n",
    "        elif self.battery_size == 85:\n",
    "            range = 270\n",
    "        \n",
    "        message = \"This car can go approximately \" + str(range)\n",
    "        message += \" miles on a full charge.\"\n",
    "        print(message)\n",
    "\n",
    "class ElectricCar(Car):\n",
    "    \"\"\"Represent aspects of a car, specific to electric vehicles.\"\"\"\n",
    "    \n",
    "    def __init__(self, make, model, year):\n",
    "        \"\"\"\n",
    "        Initialize attributes of the parent class.\n",
    "        Then initialize attributes specific to an electric car.\"\"\"\n",
    "        super().__init__(make, model, year)\n",
    "        self.battery = Battery()\n",
    "    \n",
    "    def fill_gas_tank(self):\n",
    "        \"\"\"Electric cars don't have gas tanks.\"\"\"\n",
    "        print(\"This car doesn't need a gas tank!\")\n",
    "\n",
    "my_tesla = ElectricCar('tesla', 'model s', 2016)\n",
    "print(my_tesla.get_descriptive_name())\n",
    "\n",
    "my_tesla.battery.describe_battery()\n",
    "my_tesla.battery.get_range()"
   ]
  },
  {
   "cell_type": "markdown",
   "metadata": {},
   "source": [
    "When you find that you're adding more and more detail to a class, you might consider breaking the large class into smaller classes that work together. \n",
    "\n",
    "Here, we can break off the detail about **ElectricCar's** battery into a separate class we'll name **Battery**. We define this new **Battery** class that doesn't inherit from any other class. We'll move the **describe_battery()** method into this class. \n",
    "\n",
    "Now, we can also add more detail to the battery, such as adding the **get_range()** method. This reports the range of the car based on its battery size. \n",
    "\n",
    "The **get_range()** method poses an interesting question - is the range of an electric car the propoerty of the battery or of the car? If we're only describing one car, then it's fine to associate **get_range()** with **Battery**. However, if we're describing a manufacturer's entire line of cars, we probably want to move **get_range()** to **ElectricCar**. The method would still check the battery size before determining range, but it would report a range specific to the kind of car it's associated with. Or, we could keep the method in **Battery**, but pass it a parameter such as **car_model**. The method would then report a range based on the battery size and the car model. \n",
    "\n",
    "So now, as your programming, begin thinking of the higher-logical level questions, rather than the syntax-level. There are no right or wrong approaches - you'll just figure out more efficient ways of doing things with experience. "
   ]
  },
  {
   "cell_type": "markdown",
   "metadata": {},
   "source": [
    "# Try It Yourself!"
   ]
  },
  {
   "cell_type": "markdown",
   "metadata": {},
   "source": [
    "## 9-6: Ice Cream Stand"
   ]
  },
  {
   "cell_type": "code",
   "execution_count": 47,
   "metadata": {},
   "outputs": [
    {
     "name": "stdout",
     "output_type": "stream",
     "text": [
      "Salt & Straw is a lovely restaurant that serves ice cream.\n",
      "\n",
      "Salt & Straw sells the following flavors:\n",
      " -Pb & J With Sake\n",
      " -Honey & Cheese\n",
      " -Lavendar & Pickle\n"
     ]
    }
   ],
   "source": [
    "class Restaurant():\n",
    "    \"\"\"A simple model of a restaurant.\"\"\"\n",
    "    \n",
    "    def __init__(self, name, cuisine_type):\n",
    "        \"\"\"Initialize restaurant name and cuisine attributes.\"\"\"\n",
    "        self.name = name.title()\n",
    "        self.cuisine_type = cuisine_type\n",
    "        self.number_served = 0\n",
    "    \n",
    "    def describe_restaurant(self):\n",
    "        \"\"\"Prints information about the restaurant.\"\"\"\n",
    "        print(self.name + \" is a lovely restaurant that serves \" +\n",
    "             self.cuisine_type + \".\")\n",
    "    \n",
    "    def open_restaurant(self):\n",
    "        \"\"\"Simulate opening a restaurant.\"\"\"\n",
    "        print(self.name + \" is now open!\")\n",
    "    \n",
    "    def set_number_served(self, number):\n",
    "        \"\"\"Set the number of customers served.\"\"\"\n",
    "        self.number_served = number\n",
    "    \n",
    "    def increment_number_served(self, amount):\n",
    "        \"\"\"Add the given amount to the number of customers.\"\"\"\n",
    "        self.number_served += amount\n",
    "\n",
    "class IceCreamStand(Restaurant):\n",
    "    \"\"\"Represent aspects of a restaurant, specific to ice cream stands.\"\"\"\n",
    "    \n",
    "    def __init__(self, name, cuisine_type='ice cream'):\n",
    "        \"\"\"\n",
    "        Initialize attributes of the parent class.\n",
    "        Then initialize attributes specific to ice cream stands.\n",
    "        \"\"\"\n",
    "        super().__init__(name, cuisine_type)\n",
    "        self.flavors = []\n",
    "    \n",
    "    def display_flavors(self):\n",
    "        \"\"\"Print a list of ice cream flavors.\"\"\"\n",
    "        print(\"\\n\" + self.name + \" sells the following flavors:\")\n",
    "        for flavor in self.flavors:\n",
    "            print(\" -\" + flavor.title())\n",
    "\n",
    "salt_and_straw = IceCreamStand('salt & straw')\n",
    "salt_and_straw.flavors = ['pb & j with sake', 'honey & cheese', 'lavendar & pickle']\n",
    "\n",
    "salt_and_straw.describe_restaurant()\n",
    "salt_and_straw.display_flavors()"
   ]
  },
  {
   "cell_type": "markdown",
   "metadata": {},
   "source": [
    "## 9-7: Admin"
   ]
  },
  {
   "cell_type": "code",
   "execution_count": 46,
   "metadata": {},
   "outputs": [
    {
     "name": "stdout",
     "output_type": "stream",
     "text": [
      "\n",
      "Amanda Chin\n",
      "- Username: THE ALMIGHTY\n",
      "- Age: 31\n",
      "\n",
      "Those who are admin have the following privileges:\n",
      " -can accept users\n",
      " -can ban users\n",
      " -can shut down discussion boards\n"
     ]
    }
   ],
   "source": [
    "class User():\n",
    "    \"\"\"A model of a user.\"\"\"\n",
    "    \n",
    "    def __init__(self, first_name, last_name, username, age):\n",
    "        \"\"\"Initalize attributes.\"\"\"\n",
    "        self.first_name = first_name.title()\n",
    "        self.last_name = last_name.title()\n",
    "        self.username = username\n",
    "        self.age = age\n",
    "        self.login_attempts = 0\n",
    "    \n",
    "    def describe_user(self):\n",
    "        \"\"\"Print a summary of the user.\"\"\"\n",
    "        print(\"\\n\" + self.first_name + \" \" + self.last_name)\n",
    "        print(\"- Username: \" + self.username)\n",
    "        print(\"- Age: \" + str(self.age))\n",
    "        \n",
    "    def greet_user(self):\n",
    "        \"\"\"Print a personalized greeting.\"\"\"\n",
    "        print(\"\\nWelcome back, \" + self.username + \"!\")\n",
    "    \n",
    "    def increment_login_attempts(self):\n",
    "        \"\"\"Add login attempts by increments of 1.\"\"\"\n",
    "        self.login_attempts += 1\n",
    "        print(\"You have logged in \" + str(self.login_attempts) \n",
    "              + \" times.\")\n",
    "    \n",
    "    def reset_login_attempts(self):\n",
    "        \"\"\"Reset the login attempts back to 0.\"\"\"\n",
    "        self.login_attempts = 0\n",
    "        print(\"Your login attempts have been reset back to \" \n",
    "              + str(self.login_attempts) + \".\")\n",
    "\n",
    "class Admin(User):\n",
    "    \"\"\"Represents aspects of a user, specific to admin.\"\"\"\n",
    "    \n",
    "    def __init__(self, first_name, last_name, username, age):\n",
    "        \"\"\"\n",
    "        Initialize attributes from parent class.\n",
    "        Then initialize attributes specific to admin.\n",
    "        \"\"\"\n",
    "        super().__init__(first_name, last_name, username, age)\n",
    "        self.privileges = []\n",
    "        \n",
    "    def show_privileges(self):\n",
    "        \"\"\"List the privileges of an admin.\"\"\"\n",
    "        print(\"\\nThose who are admin have the following privileges:\")\n",
    "        for privilege in self.privileges:\n",
    "            print(\" -\" + privilege)\n",
    "\n",
    "admin = Admin('amanda', 'chin', 'THE ALMIGHTY', 31)\n",
    "admin.privileges = ['can accept users', 'can ban users', 'can shut down discussion boards']\n",
    "\n",
    "admin.describe_user()\n",
    "admin.show_privileges()"
   ]
  },
  {
   "cell_type": "markdown",
   "metadata": {},
   "source": [
    "## 9-8: Privileges"
   ]
  },
  {
   "cell_type": "code",
   "execution_count": 57,
   "metadata": {},
   "outputs": [
    {
     "name": "stdout",
     "output_type": "stream",
     "text": [
      "\n",
      "Amanda Chin\n",
      "- Username: THE ALMIGHTY\n",
      "- Age: 31\n",
      "\n",
      "Those who are admin have the following privileges:\n",
      " -can accept users\n",
      " -can ban users\n",
      " -can shut down discussion boards\n"
     ]
    }
   ],
   "source": [
    "class User():\n",
    "    \"\"\"A model of a user.\"\"\"\n",
    "    \n",
    "    def __init__(self, first_name, last_name, username, age):\n",
    "        \"\"\"Initalize attributes.\"\"\"\n",
    "        self.first_name = first_name.title()\n",
    "        self.last_name = last_name.title()\n",
    "        self.username = username\n",
    "        self.age = age\n",
    "        self.login_attempts = 0\n",
    "    \n",
    "    def describe_user(self):\n",
    "        \"\"\"Print a summary of the user.\"\"\"\n",
    "        print(\"\\n\" + self.first_name + \" \" + self.last_name)\n",
    "        print(\"- Username: \" + self.username)\n",
    "        print(\"- Age: \" + str(self.age))\n",
    "        \n",
    "    def greet_user(self):\n",
    "        \"\"\"Print a personalized greeting.\"\"\"\n",
    "        print(\"\\nWelcome back, \" + self.username + \"!\")\n",
    "    \n",
    "    def increment_login_attempts(self):\n",
    "        \"\"\"Add login attempts by increments of 1.\"\"\"\n",
    "        self.login_attempts += 1\n",
    "        print(\"You have logged in \" + str(self.login_attempts) \n",
    "              + \" times.\")\n",
    "    \n",
    "    def reset_login_attempts(self):\n",
    "        \"\"\"Reset the login attempts back to 0.\"\"\"\n",
    "        self.login_attempts = 0\n",
    "        print(\"Your login attempts have been reset back to \" \n",
    "              + str(self.login_attempts) + \".\")\n",
    "\n",
    "class Privileges():\n",
    "    \"\"\"Models the privileges assigned to an admin.\"\"\"\n",
    "    \n",
    "    def __init__(self):\n",
    "        \"\"\"Initialize attributes.\"\"\"\n",
    "        self.privileges = ['can accept users', 'can ban users', \n",
    "                           'can shut down discussion boards']\n",
    "    \n",
    "    def show_privileges(self):\n",
    "        \"\"\"List the privileges of an admin.\"\"\"\n",
    "        print(\"\\nThose who are admin have the following privileges:\")\n",
    "        for privilege in self.privileges:\n",
    "            print(\" -\" + privilege)\n",
    "\n",
    "class Admin(User):\n",
    "    \"\"\"Represents aspects of a user, specific to admin.\"\"\"\n",
    "    \n",
    "    def __init__(self, first_name, last_name, username, age):\n",
    "        \"\"\"\n",
    "        Initialize attributes from parent class.\n",
    "        Then initialize attributes specific to admin.\n",
    "        \"\"\"\n",
    "        super().__init__(first_name, last_name, username, age)\n",
    "        self.privileges = Privileges()\n",
    "\n",
    "admin = Admin('amanda', 'chin', 'THE ALMIGHTY', 31)\n",
    "\n",
    "admin.describe_user()\n",
    "admin.privileges.show_privileges()"
   ]
  },
  {
   "cell_type": "markdown",
   "metadata": {},
   "source": [
    "## 9-9: Battery Upgrade"
   ]
  },
  {
   "cell_type": "code",
   "execution_count": 56,
   "metadata": {},
   "outputs": [
    {
     "name": "stdout",
     "output_type": "stream",
     "text": [
      "2016 Tesla Model S\n",
      "This car has a 70-kwh battery.\n",
      "This car can go approximately 240 miles on a full charge.\n",
      "\n",
      "Upgraded to a 85-kwh battery.\n",
      "This car can go approximately 270 miles on a full charge.\n"
     ]
    }
   ],
   "source": [
    "class Car(): \n",
    "    \"\"\"A simple attempt to represent a car.\"\"\"\n",
    "    \n",
    "    def __init__(self, make, model, year):\n",
    "        \"\"\"Initialize attributes to describe a car.\"\"\"\n",
    "        self.make = make\n",
    "        self.model = model\n",
    "        self.year = year\n",
    "        self.odometer_reading = 0\n",
    "        \n",
    "    def get_descriptive_name(self):\n",
    "        \"\"\"Return a neatly formatted descriptive name.\"\"\"\n",
    "        long_name = str(self.year) + ' ' + self.make + ' ' + self.model\n",
    "        return long_name.title()\n",
    "    \n",
    "    def read_odometer(self):\n",
    "        \"\"\"Print a statement showing the car's mileage.\"\"\"\n",
    "        print(\"This car has \" + str(self.odometer_reading) + \n",
    "             \" miles on it.\")\n",
    "    \n",
    "    def update_odometer(self, mileage):\n",
    "        \"\"\"\n",
    "        Set the odometer reading to the given value.\n",
    "        Reject the change if it attempts to roll the odometer back.\n",
    "        \"\"\"\n",
    "        if mileage >= self.odometer_reading:\n",
    "            self.odometer_reading = mileage\n",
    "        else:\n",
    "            print(\"You can't roll back an odometer!\")\n",
    "    \n",
    "    def increment_odometer(self, miles):\n",
    "        \"\"\"Add the given amount to the odometer reading.\"\"\"\n",
    "        self.odometer_reading += miles\n",
    "        \n",
    "class Battery():\n",
    "    \"\"\"A simple attempt to model a battery for an electric car.\"\"\"\n",
    "    \n",
    "    def __init__(self, battery_size=70):\n",
    "        \"\"\"Initialize the battery's attributes.\"\"\"\n",
    "        self.battery_size = battery_size\n",
    "    \n",
    "    def describe_battery(self):\n",
    "        \"\"\"Print a statement describing the battery size.\"\"\"\n",
    "        print(\"This car has a \" + str(self.battery_size) + \"-kwh battery.\")\n",
    "    \n",
    "    def get_range(self):\n",
    "        \"\"\"Print a statement about the range this battery provides.\"\"\"\n",
    "        if self.battery_size == 70:\n",
    "            range = 240\n",
    "        elif self.battery_size == 85:\n",
    "            range = 270\n",
    "        \n",
    "        message = \"This car can go approximately \" + str(range)\n",
    "        message += \" miles on a full charge.\"\n",
    "        print(message)\n",
    "    \n",
    "    def upgrade_battery(self):\n",
    "        if self.battery_size <= 85:\n",
    "            self.battery_size = 85\n",
    "            print(\"\\nUpgraded to a \" + str(self.battery_size) + \"-kwh battery.\")\n",
    "\n",
    "class ElectricCar(Car):\n",
    "    \"\"\"Represent aspects of a car, specific to electric vehicles.\"\"\"\n",
    "    \n",
    "    def __init__(self, make, model, year):\n",
    "        \"\"\"\n",
    "        Initialize attributes of the parent class.\n",
    "        Then initialize attributes specific to an electric car.\"\"\"\n",
    "        super().__init__(make, model, year)\n",
    "        self.battery = Battery()\n",
    "    \n",
    "    def fill_gas_tank(self):\n",
    "        \"\"\"Electric cars don't have gas tanks.\"\"\"\n",
    "        print(\"This car doesn't need a gas tank!\")\n",
    "\n",
    "my_tesla = ElectricCar('tesla', 'model s', 2016)\n",
    "print(my_tesla.get_descriptive_name())\n",
    "\n",
    "my_tesla.battery.describe_battery()\n",
    "my_tesla.battery.get_range()\n",
    "\n",
    "my_tesla.battery.upgrade_battery()\n",
    "my_tesla.battery.get_range()"
   ]
  },
  {
   "cell_type": "markdown",
   "metadata": {},
   "source": [
    "# Importing classes"
   ]
  },
  {
   "cell_type": "markdown",
   "metadata": {},
   "source": [
    "## Importing a class from a module"
   ]
  },
  {
   "cell_type": "code",
   "execution_count": 59,
   "metadata": {},
   "outputs": [
    {
     "name": "stdout",
     "output_type": "stream",
     "text": [
      "2016 Audi A4\n",
      "This car has 23 miles on it.\n"
     ]
    }
   ],
   "source": [
    "from car import Car\n",
    "\n",
    "my_new_car = Car('audi', 'a4', 2016)\n",
    "print(my_new_car.get_descriptive_name())\n",
    "\n",
    "my_new_car.odometer_reading = 23\n",
    "my_new_car.read_odometer()"
   ]
  },
  {
   "cell_type": "markdown",
   "metadata": {},
   "source": [
    "You can create a module containing a class. Here, we created a module for the **Car** class, and labeled it **car.py**. Make sure it's in the same file pathway. If you look at the module file, you'll note the docstring at the top that describes the contents of the module. \n",
    "\n",
    "Importing classes allows you to get the same functionality, but keep your main program file clean and easy to read. You can also store most of the logic in separate files, and focus on the higher-level logic of your main program."
   ]
  },
  {
   "cell_type": "markdown",
   "metadata": {},
   "source": [
    "## Storing and importing multiple classes from a module"
   ]
  },
  {
   "cell_type": "code",
   "execution_count": 61,
   "metadata": {},
   "outputs": [
    {
     "name": "stdout",
     "output_type": "stream",
     "text": [
      "2016 Tesla Model S\n",
      "This car has a 70-kwh battery.\n",
      "This car can go approximately 240 miles on a full charge.\n"
     ]
    }
   ],
   "source": [
    "from all_car_classes import ElectricCar\n",
    "\n",
    "my_tesla = ElectricCar('tesla', 'model s', 2016)\n",
    "\n",
    "print(my_tesla.get_descriptive_name())\n",
    "my_tesla.battery.describe_battery()\n",
    "my_tesla.battery.get_range()"
   ]
  },
  {
   "cell_type": "code",
   "execution_count": 62,
   "metadata": {},
   "outputs": [
    {
     "name": "stdout",
     "output_type": "stream",
     "text": [
      "2016 Volkswagen Beetle\n",
      "2016 Tesla Roadster\n"
     ]
    }
   ],
   "source": [
    "from all_car_classes import Car, ElectricCar\n",
    "\n",
    "my_beetle = Car('volkswagen', 'beetle', 2016)\n",
    "print(my_beetle.get_descriptive_name())\n",
    "\n",
    "my_tesla = ElectricCar('tesla', 'roadster', 2016)\n",
    "print(my_tesla.get_descriptive_name())"
   ]
  },
  {
   "cell_type": "markdown",
   "metadata": {},
   "source": [
    "We can store as many classes as we want in a single module. Here, the **Car**, **Battery**, and **ElectricCar** classes are stored in the module **all_car_classes.py**. We can now import one class from the module, such as in **Example 1**, or multiple classes, such as in **Example 2**. When importing multiple classes, don't forget the comma in-between."
   ]
  },
  {
   "cell_type": "markdown",
   "metadata": {},
   "source": [
    "## Importing entire modules"
   ]
  },
  {
   "cell_type": "code",
   "execution_count": 64,
   "metadata": {},
   "outputs": [
    {
     "name": "stdout",
     "output_type": "stream",
     "text": [
      "2016 Volkswagen Beetle\n",
      "2016 Tesla Roadster\n"
     ]
    }
   ],
   "source": [
    "import all_car_classes\n",
    "\n",
    "my_beetle = all_car_classes.Car('volkswagen', 'beetle', 2016)\n",
    "print(my_beetle.get_descriptive_name())\n",
    "\n",
    "my_tesla = all_car_classes.ElectricCar('tesla', 'roadster', 2016)\n",
    "print(my_tesla.get_descriptive_name())"
   ]
  },
  {
   "cell_type": "code",
   "execution_count": 65,
   "metadata": {},
   "outputs": [
    {
     "name": "stdout",
     "output_type": "stream",
     "text": [
      "2016 Volkswagen Beetle\n",
      "2016 Tesla Roadster\n"
     ]
    }
   ],
   "source": [
    "from all_car_classes import *\n",
    "\n",
    "my_beetle = Car('volkswagen', 'beetle', 2016)\n",
    "print(my_beetle.get_descriptive_name())\n",
    "\n",
    "my_tesla = ElectricCar('tesla', 'roadster', 2016)\n",
    "print(my_tesla.get_descriptive_name())"
   ]
  },
  {
   "cell_type": "markdown",
   "metadata": {},
   "source": [
    "You can import an entire module and access all the classes. In **Example 1**, we access the individual classes with dot notation. In **Example 2**, we import all classes with the asterisk operator. However, **Example 2** is **not** recommended. This is because when you don't make it clear in the main program what classes you are accessing (with dot notation you can see the different classes you're using). This approach can also lead to confusion in name files. "
   ]
  },
  {
   "cell_type": "markdown",
   "metadata": {},
   "source": [
    "## Importing a module into a module"
   ]
  },
  {
   "cell_type": "code",
   "execution_count": 66,
   "metadata": {},
   "outputs": [
    {
     "name": "stdout",
     "output_type": "stream",
     "text": [
      "2016 Volkswagen Beetle\n",
      "2016 Tesla Roadster\n"
     ]
    }
   ],
   "source": [
    "from car import Car\n",
    "from electric_car import ElectricCar\n",
    "\n",
    "my_beetle = Car('volkswagen', 'beetle', 2016)\n",
    "print(my_beetle.get_descriptive_name())\n",
    "\n",
    "my_tesla = ElectricCar('tesla', 'roadster', 2016)\n",
    "print(my_tesla.get_descriptive_name())"
   ]
  },
  {
   "cell_type": "markdown",
   "metadata": {},
   "source": [
    "Here, rather than have all the clases be in one module (**all_car_classes.py**), I split the classes into two modules - **car.py** (with the **Car** class only in it) and **electric_car.py** (which has the **Battery** and **ElectricCar** classes). If you open up the **electric_car.py** module file, you'll see that I needed to import the **car.py** module into it at the top of the file, because I needed to access the **Car** class to initiate those attributes in **ElectricCar**. \n",
    "\n",
    "Then, in this main program, I can access both modules (**car.py** and **electric_car.py**). The resultes are the same.\n",
    "\n",
    "Basically, all of this variation gives you options in how you want to structure any programming projects. It is important for you to think about how you want to organize your projects, and understand how other people organize theirs. "
   ]
  },
  {
   "cell_type": "markdown",
   "metadata": {},
   "source": [
    "# Try It Yourself!"
   ]
  },
  {
   "cell_type": "markdown",
   "metadata": {},
   "source": [
    "## 9-10: Imported Restaurant"
   ]
  },
  {
   "cell_type": "code",
   "execution_count": 67,
   "metadata": {},
   "outputs": [
    {
     "name": "stdout",
     "output_type": "stream",
     "text": [
      "Dough Zone is a lovely restaurant that serves Chinese soup dumplings.\n"
     ]
    }
   ],
   "source": [
    "from restaurant import Restaurant\n",
    "\n",
    "dough_zone = Restaurant('dough zone', 'Chinese soup dumplings')\n",
    "\n",
    "dough_zone.describe_restaurant()"
   ]
  },
  {
   "cell_type": "markdown",
   "metadata": {},
   "source": [
    "## 9-11: Imported Admin"
   ]
  },
  {
   "cell_type": "code",
   "execution_count": 72,
   "metadata": {},
   "outputs": [
    {
     "name": "stdout",
     "output_type": "stream",
     "text": [
      "\n",
      "Amanda Chin\n",
      "- Username: THE ALMIGHTY\n",
      "- Age: 31\n",
      "\n",
      "Those who are admin have the following privileges:\n",
      " -can accept users\n",
      " -can ban users\n",
      " -can shut down discussion boards\n"
     ]
    }
   ],
   "source": [
    "from all_users import Admin\n",
    "\n",
    "amanda = Admin('amanda', 'chin', 'THE ALMIGHTY', 31)\n",
    "\n",
    "amanda.describe_user()\n",
    "amanda.privileges.show_privileges()"
   ]
  },
  {
   "cell_type": "markdown",
   "metadata": {},
   "source": [
    "## 9-12: Multiple Modules"
   ]
  },
  {
   "cell_type": "code",
   "execution_count": 73,
   "metadata": {},
   "outputs": [
    {
     "name": "stdout",
     "output_type": "stream",
     "text": [
      "\n",
      "Amanda Chin\n",
      "- Username: THE ALMIGHTY\n",
      "- Age: 31\n",
      "\n",
      "Those who are admin have the following privileges:\n",
      " -can accept users\n",
      " -can ban users\n",
      " -can shut down discussion boards\n"
     ]
    }
   ],
   "source": [
    "from admin_privileges import Admin\n",
    "\n",
    "amanda = Admin('amanda', 'chin', 'THE ALMIGHTY', 31)\n",
    "\n",
    "amanda.describe_user()\n",
    "amanda.privileges.show_privileges()"
   ]
  },
  {
   "cell_type": "markdown",
   "metadata": {},
   "source": [
    "# The Python Standard Library"
   ]
  },
  {
   "cell_type": "code",
   "execution_count": 80,
   "metadata": {},
   "outputs": [
    {
     "name": "stdout",
     "output_type": "stream",
     "text": [
      "Jen's favorite language is Python.\n",
      "Sarah's favorite language is C.\n",
      "Edward's favorite language is Ruby.\n",
      "Phil's favorite language is Python.\n"
     ]
    }
   ],
   "source": [
    "from collections import OrderedDict\n",
    "\n",
    "favorite_languages = OrderedDict()\n",
    "\n",
    "favorite_languages['jen'] = 'python'\n",
    "favorite_languages['sarah'] = 'c'\n",
    "favorite_languages['edward'] = 'ruby'\n",
    "favorite_languages['phil'] = 'python'\n",
    "\n",
    "for name, language in favorite_languages.items():\n",
    "    print(name.title() + \"'s favorite language is \" + \n",
    "          language.title() + \".\")"
   ]
  },
  {
   "cell_type": "markdown",
   "metadata": {},
   "source": [
    "The *Python standard library* is a set of modules included with every Python installation. Here is one example - the **OrderedDict** class from the module **collections**. Dictionaries allow you to connect pieces of information, but they don't keep track of the order in which you add the key-value pairs. The **OrderedDict** class behaves like dictionaries, but they keep track of the order. \n",
    "\n",
    "Here, we import the **OrderedDict** class, and create the **favorite_languages** instance. There are no curly brackets because calling **OrderedDict** means creating an empty ordered dictionary and storing it in **favorite_languages**. Then we add each name and language to **favorite_languages**, one at a time. \n",
    "\n",
    "This is a great class because it combines the benefits of lists (retaining original order) and dictionaries (connecting pieces of information). "
   ]
  },
  {
   "cell_type": "markdown",
   "metadata": {},
   "source": [
    "# Try It Yourself!"
   ]
  },
  {
   "cell_type": "markdown",
   "metadata": {},
   "source": [
    "## 9-13: OrderedDict Rewrite"
   ]
  },
  {
   "cell_type": "code",
   "execution_count": 89,
   "metadata": {},
   "outputs": [
    {
     "name": "stdout",
     "output_type": "stream",
     "text": [
      "\n",
      "STRING\n",
      "\n",
      "A series of characters. Anything inside single or double quotes.\n",
      "\n",
      "FLOAT\n",
      "\n",
      "Any number with a decimal point.\n",
      "\n",
      "LOOPING\n",
      "\n",
      "Taking the same action (or set of actions) with every item in a list.\n",
      "\n",
      "IMMUTABLE\n",
      "\n",
      "A value that cannot change.\n",
      "\n",
      "TUPLE\n",
      "\n",
      "An immutable list. Use parentheses instead of square brackets.\n",
      "\n",
      "VARIABLE\n",
      "\n",
      "Something that holds a value (information associated with the variable).\n",
      "\n",
      "METHOD\n",
      "\n",
      "An action that Python can perform on a piece of data.\n",
      "\n",
      "LIST\n",
      "\n",
      "A collection of items in a particular order.\n",
      "\n",
      "INDEX\n",
      "\n",
      "The position of the item in the list.\n",
      "\n",
      "SLICE\n",
      "\n",
      "A specific group of items in a list.\n"
     ]
    }
   ],
   "source": [
    "from collections import OrderedDict\n",
    "\n",
    "python_words = OrderedDict()\n",
    "\n",
    "python_words['string'] = 'A series of characters. Anything inside single or double quotes.'\n",
    "python_words['float'] = 'Any number with a decimal point.'\n",
    "python_words['looping'] = 'Taking the same action (or set of actions) with every item in a list.'\n",
    "python_words['immutable'] = 'A value that cannot change.'\n",
    "python_words['tuple'] = 'An immutable list. Use parentheses instead of square brackets.'\n",
    "python_words['variable'] = 'Something that holds a value (information associated with the variable).'\n",
    "python_words['method'] = 'An action that Python can perform on a piece of data.'\n",
    "python_words['list'] = 'A collection of items in a particular order.'\n",
    "python_words['index'] = 'The position of the item in the list.'\n",
    "python_words['slice'] = 'A specific group of items in a list.'\n",
    "\n",
    "for word, definition in python_words.items():\n",
    "    print(\"\\n\" + word.upper())\n",
    "    print(\"\\n\" + definition)"
   ]
  },
  {
   "cell_type": "markdown",
   "metadata": {},
   "source": [
    "## 9-14: Dice"
   ]
  },
  {
   "cell_type": "code",
   "execution_count": 100,
   "metadata": {},
   "outputs": [
    {
     "name": "stdout",
     "output_type": "stream",
     "text": [
      "You rolled a 5!\n",
      "You rolled a 6!\n",
      "You rolled a 1!\n",
      "You rolled a 4!\n",
      "You rolled a 4!\n",
      "You rolled a 6!\n",
      "You rolled a 1!\n",
      "You rolled a 2!\n",
      "You rolled a 5!\n",
      "You rolled a 2!\n"
     ]
    }
   ],
   "source": [
    "from random import randint\n",
    "x = randint(1, 6)\n",
    "\n",
    "class Die():\n",
    "    \"\"\"Models a die.\"\"\"\n",
    "    \n",
    "    def __init__(self, sides=6):\n",
    "        \"\"\"Initialize attributes.\"\"\"\n",
    "        self.sides = sides\n",
    "    \n",
    "    def roll_die(self):\n",
    "        \"\"\"Represents rolling a die.\"\"\"\n",
    "        print(\"You rolled a \" + str(randint(1, 6)) + \"!\")\n",
    "        \n",
    "six_die = Die()\n",
    "six_die.roll_die()\n",
    "six_die.roll_die()\n",
    "six_die.roll_die()\n",
    "six_die.roll_die()\n",
    "six_die.roll_die()\n",
    "six_die.roll_die()\n",
    "six_die.roll_die()\n",
    "six_die.roll_die()\n",
    "six_die.roll_die()\n",
    "six_die.roll_die()"
   ]
  },
  {
   "cell_type": "code",
   "execution_count": 113,
   "metadata": {},
   "outputs": [
    {
     "name": "stdout",
     "output_type": "stream",
     "text": [
      "You rolled the six-sided die 10 times and got:\n",
      "[5, 6, 3, 3, 3, 5, 6, 3, 1, 2]\n",
      "\n",
      "You rolled the ten-sided die 10 times and got:\n",
      "[9, 7, 3, 3, 8, 9, 8, 5, 7, 8]\n",
      "\n",
      "You rolled the twenty-sided die 10 times and got:\n",
      "[14, 7, 18, 4, 11, 9, 17, 4, 1, 14]\n"
     ]
    }
   ],
   "source": [
    "from random import randint\n",
    "x = randint(1, 6)\n",
    "\n",
    "class Die():\n",
    "    \"\"\"Models a die.\"\"\"\n",
    "    \n",
    "    def __init__(self, sides=6):\n",
    "        \"\"\"Initialize attributes.\"\"\"\n",
    "        self.sides = sides\n",
    "    \n",
    "    def roll_die(self):\n",
    "        \"\"\"Represents rolling a die.\"\"\"\n",
    "        return randint(1, self.sides)\n",
    "\n",
    "six_die = Die()\n",
    "ten_die = Die(10)\n",
    "twenty_die = Die(20)\n",
    "\n",
    "six_results = []\n",
    "for roll_number in range(10):\n",
    "    result = six_die.roll_die()\n",
    "    six_results.append(result)\n",
    "\n",
    "print(\"You rolled the six-sided die 10 times and got:\")\n",
    "print(six_results)\n",
    "\n",
    "ten_results = []\n",
    "for roll_number in range(10):\n",
    "    result = ten_die.roll_die()\n",
    "    ten_results.append(result)\n",
    "\n",
    "print(\"\\nYou rolled the ten-sided die 10 times and got:\")\n",
    "print(ten_results)\n",
    "\n",
    "twenty_results = []\n",
    "for roll_number in range(10):\n",
    "    result = twenty_die.roll_die()\n",
    "    twenty_results.append(result)\n",
    "\n",
    "print(\"\\nYou rolled the twenty-sided die 10 times and got:\")\n",
    "print(twenty_results)"
   ]
  }
 ],
 "metadata": {
  "kernelspec": {
   "display_name": "Python 3",
   "language": "python",
   "name": "python3"
  },
  "language_info": {
   "codemirror_mode": {
    "name": "ipython",
    "version": 3
   },
   "file_extension": ".py",
   "mimetype": "text/x-python",
   "name": "python",
   "nbconvert_exporter": "python",
   "pygments_lexer": "ipython3",
   "version": "3.7.0"
  }
 },
 "nbformat": 4,
 "nbformat_minor": 2
}
