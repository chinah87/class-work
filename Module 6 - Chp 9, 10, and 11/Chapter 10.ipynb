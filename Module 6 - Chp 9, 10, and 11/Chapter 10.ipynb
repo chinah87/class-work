{
 "cells": [
  {
   "cell_type": "markdown",
   "metadata": {},
   "source": [
    "# Reading Files"
   ]
  },
  {
   "cell_type": "markdown",
   "metadata": {},
   "source": [
    "Text files can store a ton of data. Python can read these files, which is useful for data analysis or modification. For instance, you can write a program that reads the contents of a text file and rewrites the file with formatting that allows a browser to display it.\n",
    "\n",
    "When you want to work with information in a text file, the first step is reading the files into memory. You can read the entire contents of a file, or work with the file one line at a time. "
   ]
  },
  {
   "cell_type": "markdown",
   "metadata": {},
   "source": [
    "## Reading an entire file"
   ]
  },
  {
   "cell_type": "code",
   "execution_count": 4,
   "metadata": {},
   "outputs": [
    {
     "name": "stdout",
     "output_type": "stream",
     "text": [
      "3.1415926535\n",
      "  8979323846\n",
      "  2643383279\n"
     ]
    }
   ],
   "source": [
    "with open('pi_digits.txt') as file_object:\n",
    "    contents = file_object.read()\n",
    "    print(contents)"
   ]
  },
  {
   "cell_type": "markdown",
   "metadata": {},
   "source": [
    "First, you need a text file. We created a text file called **pi_digits.txt** in the same file pathway.\n",
    "\n",
    "**Example 1** shows a program that opens the file, reads it, and prints the contents of the file to the scrren. To do anything with a file, you need to open it first with the **open()** function. The only argument needed is the name of the file. Python looks for this file in the same directory as the program is stored. The **open()** function returns an object representing the file, and Python stores it in **file_object**. \n",
    "\n",
    "The keyword **with** closes the file once access to it is no longer needed. You can also use the **close()** function to close the file, but problems could arise with that way...if a bug prevents your **close()** function from executing, the file may never close. Improperly closed files can cause data to be lost or corrupted. If you call **close()** too early, you might find yourself trying to work with a *closed* file (a file you can't access), which leads to more errors. Using **with** guarantees that Python will automatically close a file once it's no longer needed. \n",
    "\n",
    "The **read()** method will read the entire file and store the contents as one long string in **contents**. When we print **contents**, we get the entire text file back."
   ]
  },
  {
   "cell_type": "code",
   "execution_count": 6,
   "metadata": {},
   "outputs": [
    {
     "name": "stdout",
     "output_type": "stream",
     "text": [
      "3.1415926535\n",
      "  8979323846\n",
      "  2643383279\n"
     ]
    }
   ],
   "source": [
    "with open ('pi_digits.txt') as file_object:\n",
    "    contents = file_object.read()\n",
    "    print(contents.rstrip())"
   ]
  },
  {
   "cell_type": "markdown",
   "metadata": {},
   "source": [
    "The only difference between the text file and the program output is the extra blank line at the end of the output. This line appears because **read()** returns an empty string when it reaches the end of the file. This emptry string shows up as a blank line. If you want to remove the blank line, you can use **rstrip()**. "
   ]
  },
  {
   "cell_type": "markdown",
   "metadata": {},
   "source": [
    "## File paths"
   ]
  },
  {
   "cell_type": "code",
   "execution_count": 12,
   "metadata": {},
   "outputs": [
    {
     "name": "stdout",
     "output_type": "stream",
     "text": [
      "3.1415926535\n",
      "  8979323846\n",
      "  2643383279\n"
     ]
    }
   ],
   "source": [
    "with open('Text Files/copy_pi_digits.txt') as file_object:\n",
    "    contents = file_object.read()\n",
    "    print(contents.rstrip())"
   ]
  },
  {
   "cell_type": "markdown",
   "metadata": {},
   "source": [
    "When you pass a filename to the **open()** function, Python simply looks in the directly where the program that's currently running is stored. \n",
    "\n",
    "So say you have your program files in a folder called \"Python Programs\", but within that folder you have a sub-folder called \"Text Files\" where you put all the text files in. You can use a relative path to open the file, as seen in the above example. "
   ]
  },
  {
   "cell_type": "code",
   "execution_count": 16,
   "metadata": {},
   "outputs": [
    {
     "name": "stdout",
     "output_type": "stream",
     "text": [
      "3.1415926535\n",
      "  8979323846\n",
      "  2643383279\n"
     ]
    }
   ],
   "source": [
    "file_path = 'C:/Users/amand/OneDrive/Documents/Python/Module 6 - Chp 9, 10, and 11/Text Files/copy_pi_digits.txt'\n",
    "with open(file_path) as file_object:\n",
    "    contents = file_object.read()\n",
    "    print(contents.rstrip())"
   ]
  },
  {
   "cell_type": "markdown",
   "metadata": {},
   "source": [
    "Or, you could use the absolute path, as in this example. This would be useful if your text file is somewhere completely different in your directory. \n",
    "\n",
    "Because absolute paths are usually longer than relative paths, it's helpful to store them in a variable and then pass that variable to the **open()** function.\n",
    "\n",
    "**Note**: Windows uses backslash (\\) and not a forward slash (/) when displaying file paths, but use forward slashes in your code. If you use backslahes, you'll get an error because the backslash is used to escape characters in strings."
   ]
  },
  {
   "cell_type": "markdown",
   "metadata": {},
   "source": [
    "## Reading line by line"
   ]
  },
  {
   "cell_type": "code",
   "execution_count": null,
   "metadata": {},
   "outputs": [],
   "source": []
  }
 ],
 "metadata": {
  "kernelspec": {
   "display_name": "Python 3",
   "language": "python",
   "name": "python3"
  },
  "language_info": {
   "codemirror_mode": {
    "name": "ipython",
    "version": 3
   },
   "file_extension": ".py",
   "mimetype": "text/x-python",
   "name": "python",
   "nbconvert_exporter": "python",
   "pygments_lexer": "ipython3",
   "version": "3.7.0"
  }
 },
 "nbformat": 4,
 "nbformat_minor": 2
}
