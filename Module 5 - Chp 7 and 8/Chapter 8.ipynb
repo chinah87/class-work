{
 "cells": [
  {
   "cell_type": "markdown",
   "metadata": {},
   "source": [
    "# Functions"
   ]
  },
  {
   "cell_type": "markdown",
   "metadata": {},
   "source": [
    "**Functions** are blocks of code that are designed to do one specific job. When you want to perform a particular task that you've defined in a function, you can *call* the name of the function responsible for it. This makes programs easier to write, read, test, and fix."
   ]
  },
  {
   "cell_type": "markdown",
   "metadata": {},
   "source": [
    "# Defining a Function"
   ]
  },
  {
   "cell_type": "code",
   "execution_count": 1,
   "metadata": {},
   "outputs": [
    {
     "name": "stdout",
     "output_type": "stream",
     "text": [
      "Hello!\n"
     ]
    }
   ],
   "source": [
    "def greet_user():\n",
    "    \"\"\"Display a simple greeting.\"\"\"\n",
    "    print(\"Hello!\")\n",
    "\n",
    "greet_user()"
   ]
  },
  {
   "cell_type": "markdown",
   "metadata": {},
   "source": [
    "This example shows the simplest structure of a function. The keyword **def** informs Python that you're defining a function. You tell Python the name of the function and, if applicable, what kind of information the function needs to do its job. The parenthesis holds that information.\n",
    "\n",
    "Here, the name of the function is **greet_user()** and it needs no information to do its job, so the parenthesis are empty. \n",
    "\n",
    "Any indented lines that follow the **def greet_user():** make up the *body* of the function. The first line of indented text is called a **docstring** which defines what the function does. They are enclosed in triple quotes, which Python looks for when it generates documentation for the functions in your programs.\n",
    "\n",
    "The function **greet_user()** only has one job: to print \"Hello!\" When you want to use this function, you call it. A *function call* tells Python to execute the code in the function. To *call* a function, you write the name of the function, followed by any necessary information in parenthesis. Here, no extra information is necessary."
   ]
  },
  {
   "cell_type": "markdown",
   "metadata": {},
   "source": [
    "## Passing information to a function"
   ]
  },
  {
   "cell_type": "code",
   "execution_count": 2,
   "metadata": {},
   "outputs": [
    {
     "name": "stdout",
     "output_type": "stream",
     "text": [
      "Hello, Jesse!\n"
     ]
    }
   ],
   "source": [
    "def greet_user(username):\n",
    "    \"\"\"Display a simple greeting.\"\"\"\n",
    "    print(\"Hello, \" + username.title() + \"!\")\n",
    "\n",
    "greet_user('jesse')"
   ]
  },
  {
   "cell_type": "markdown",
   "metadata": {},
   "source": [
    "Here, you can enter **username** into the parenthesis of the function's definition at **greet_user()**. By adding **username** here, you allow the function to accept any value of **username** you specify. The function now expects you to provide a value for **username** each time you call it. When you call **greet_user()**, you can pass it a name, such as 'jesse', inside the parenthesis."
   ]
  },
  {
   "cell_type": "markdown",
   "metadata": {},
   "source": [
    "## Arguments and parameters"
   ]
  },
  {
   "cell_type": "markdown",
   "metadata": {},
   "source": [
    "In the previous example, the variable **username** in the definition of **greet_user()** is an example of a *parameter* - a piece of information the function needs to do its job. The value 'jesse' in **greet_user('jesse')** is an example of an *argument* - a piece of information that is passed from a function call to a function.\n",
    "\n",
    "When we call a function, we place the value we want the function to work with in the parenthesis. In this case, the argument 'jesse' was passed to the function **greet_user()**, and the value was stored in the paremeter **username**. "
   ]
  },
  {
   "cell_type": "markdown",
   "metadata": {},
   "source": [
    "# Try It Yourself!"
   ]
  },
  {
   "cell_type": "markdown",
   "metadata": {},
   "source": [
    "## 8-1: Message"
   ]
  },
  {
   "cell_type": "code",
   "execution_count": 3,
   "metadata": {},
   "outputs": [
    {
     "name": "stdout",
     "output_type": "stream",
     "text": [
      "So far I've learned what a function, argument, and parameter is.\n"
     ]
    }
   ],
   "source": [
    "def chapter_summary():\n",
    "    \"\"\"Prints a summary of what I've learned in Chapter 8.\"\"\"\n",
    "    print(\"So far I've learned what a function, argument,\" + \n",
    "          \" and parameter is.\")\n",
    "\n",
    "chapter_summary()"
   ]
  },
  {
   "cell_type": "markdown",
   "metadata": {},
   "source": [
    "## 8-2: Favorite Book"
   ]
  },
  {
   "cell_type": "code",
   "execution_count": 4,
   "metadata": {},
   "outputs": [
    {
     "name": "stdout",
     "output_type": "stream",
     "text": [
      "One of my favorite games is Undertale.\n"
     ]
    }
   ],
   "source": [
    "def favorite_game(title):\n",
    "    \"\"\"Displays my favorite game.\"\"\"\n",
    "    print(\"One of my favorite games is \"+ \n",
    "         title.title() + \".\")\n",
    "\n",
    "favorite_game('undertale')"
   ]
  },
  {
   "cell_type": "markdown",
   "metadata": {},
   "source": [
    "# Passing Arguments"
   ]
  },
  {
   "cell_type": "markdown",
   "metadata": {},
   "source": [
    "A function call may need multiple arguments. There are a number of ways which you can pass arguments to a function:\n",
    "\n",
    "**positional arguments** - these need to be in the same order the parameters were written\n",
    "\n",
    "**keyword arguments** - the argument is a variable name and a value\n",
    "\n",
    "**lists and dictionaries of values**"
   ]
  },
  {
   "cell_type": "markdown",
   "metadata": {},
   "source": [
    "## Positional arguments"
   ]
  },
  {
   "cell_type": "code",
   "execution_count": 5,
   "metadata": {},
   "outputs": [
    {
     "name": "stdout",
     "output_type": "stream",
     "text": [
      "\n",
      "I have a hamster.\n",
      "My hamster's name is Harry.\n",
      "\n",
      "I have a dog.\n",
      "My dog's name is Willie.\n"
     ]
    }
   ],
   "source": [
    "def describe_pet(pet_name, animal_type):\n",
    "    \"\"\"Display information about a pet.\"\"\"\n",
    "    print(\"\\nI have a \" + animal_type + \".\")\n",
    "    print(\"My \" + animal_type + \"'s name is \" + pet_name.title() + \".\")\n",
    "    \n",
    "describe_pet('harry', 'hamster')\n",
    "describe_pet('willie', 'dog')"
   ]
  },
  {
   "cell_type": "markdown",
   "metadata": {},
   "source": [
    "When calling a function, Python must match each argument in the function with a parameter in the function definition. The easiest way to do this is based on the order of the arguments provided. Values that are matched up in this way are called *positional arguments*. \n",
    "\n",
    "This example shows how position matters. If you mix up the order of arguments, for instance **describe_pet('hamster', 'harry')**, you will get very strange results."
   ]
  },
  {
   "cell_type": "markdown",
   "metadata": {},
   "source": [
    "## Keyword arguments"
   ]
  },
  {
   "cell_type": "code",
   "execution_count": 6,
   "metadata": {},
   "outputs": [
    {
     "name": "stdout",
     "output_type": "stream",
     "text": [
      "\n",
      "I have a hamster.\n",
      "My hamster's name is Harry.\n",
      "\n",
      "I have a hamster.\n",
      "My hamster's name is Harry.\n"
     ]
    }
   ],
   "source": [
    "def describe_pet(animal_type, pet_name):\n",
    "    \"\"\"Describe information about a pet.\"\"\"\n",
    "    print(\"\\nI have a \" + animal_type + \".\")\n",
    "    print(\"My \" + animal_type + \"'s name is \" + pet_name.title() + \".\")\n",
    "\n",
    "describe_pet(animal_type = 'hamster', pet_name='harry')\n",
    "describe_pet(pet_name='harry', animal_type='hamster')"
   ]
  },
  {
   "cell_type": "markdown",
   "metadata": {},
   "source": [
    "A *keyword argument* is a name-value pair that you pass to a function. You directly associate the name and the value within the argument, so there is no confusion when you pass it to the function. Now, you don't have to worry about mixing up your arguments in the function call. "
   ]
  },
  {
   "cell_type": "markdown",
   "metadata": {},
   "source": [
    "## Default values"
   ]
  },
  {
   "cell_type": "code",
   "execution_count": 7,
   "metadata": {},
   "outputs": [
    {
     "name": "stdout",
     "output_type": "stream",
     "text": [
      "\n",
      "I have a hamster.\n",
      "My hamster's name is Harry.\n",
      "\n",
      "I have a dog.\n",
      "My dog's name is Willie.\n"
     ]
    }
   ],
   "source": [
    "def describe_pet(pet_name, animal_type='dog'):\n",
    "    \"\"\"Describe information about a pet.\"\"\"\n",
    "    print(\"\\nI have a \" + animal_type + \".\")\n",
    "    print(\"My \" + animal_type + \"'s name is \" + pet_name.title() + \".\")\n",
    "\n",
    "describe_pet(animal_type='hamster', pet_name='harry')\n",
    "describe_pet(pet_name='willie')"
   ]
  },
  {
   "cell_type": "markdown",
   "metadata": {},
   "source": [
    "You can define a *default value* for each parameter. That way, if an argument for a parameter is provided in the function call, Python will use that argument value, such as in the 'Harry' example. However, if it is not, the default value will be used, such as in the 'Willie' example.\n",
    "\n",
    "Note, when you use the default value, the default value must go after the non-default value. So, here, you cannot have **animal_type='dog'** before **pet_name**)."
   ]
  },
  {
   "cell_type": "markdown",
   "metadata": {},
   "source": [
    "## Equivalent function calls"
   ]
  },
  {
   "cell_type": "code",
   "execution_count": 8,
   "metadata": {},
   "outputs": [
    {
     "name": "stdout",
     "output_type": "stream",
     "text": [
      "\n",
      "I have a dog.\n",
      "My dog's name is Willie.\n",
      "\n",
      "I have a dog.\n",
      "My dog's name is Willie.\n",
      "\n",
      "I have a hamster.\n",
      "My hamster's name is Harry.\n",
      "\n",
      "I have a hamster.\n",
      "My hamster's name is Harry.\n",
      "\n",
      "I have a hamster.\n",
      "My hamster's name is Harry.\n"
     ]
    }
   ],
   "source": [
    "def describe_pet(pet_name, animal_type='dog'):\n",
    "    \"\"\"Describe information about a pet.\"\"\"\n",
    "    print(\"\\nI have a \" + animal_type + \".\")\n",
    "    print(\"My \" + animal_type + \"'s name is \" + pet_name.title() + \".\")\n",
    "\n",
    "#A dog named Willie.\n",
    "describe_pet('willie')\n",
    "describe_pet(pet_name='willie')\n",
    "\n",
    "#A hamster named Harry.\n",
    "describe_pet('harry', 'hamster')\n",
    "describe_pet(pet_name='harry', animal_type='hamster')\n",
    "describe_pet(animal_type='hamster', pet_name='harry')"
   ]
  },
  {
   "cell_type": "markdown",
   "metadata": {},
   "source": [
    "This shows that you can have several equivalent ways of calling a function. Positional arguments, keyword arguments, and default values can be used together. "
   ]
  },
  {
   "cell_type": "markdown",
   "metadata": {},
   "source": [
    "# Try It Yourself!"
   ]
  },
  {
   "cell_type": "markdown",
   "metadata": {},
   "source": [
    "## 8-3: T-Shirt"
   ]
  },
  {
   "cell_type": "code",
   "execution_count": 5,
   "metadata": {},
   "outputs": [
    {
     "name": "stdout",
     "output_type": "stream",
     "text": [
      "\n",
      "Thank you. Creating an S-size shirt with the message 'My name is Amanda.' on it now.\n"
     ]
    }
   ],
   "source": [
    "def make_shirt(size, message):\n",
    "    print(\"\\nThank you. Creating an \" + size + \"-size shirt with the \" +\n",
    "         \"message '\" + message + \"' on it now.\")\n",
    "\n",
    "make_shirt('S','My name is Amanda.')"
   ]
  },
  {
   "cell_type": "code",
   "execution_count": 6,
   "metadata": {},
   "outputs": [
    {
     "name": "stdout",
     "output_type": "stream",
     "text": [
      "\n",
      "Thank you. Creating an S-size shirt with the message 'My name is Amanda.' on it now.\n"
     ]
    }
   ],
   "source": [
    "def make_shirt(size, message):\n",
    "    print(\"\\nThank you. Creating an \" + size + \"-size shirt with the \" +\n",
    "         \"message '\" + message + \"' on it now.\")\n",
    "\n",
    "make_shirt(message='My name is Amanda.', size='S')"
   ]
  },
  {
   "cell_type": "markdown",
   "metadata": {},
   "source": [
    "## 8-4: Large Shirts"
   ]
  },
  {
   "cell_type": "code",
   "execution_count": 7,
   "metadata": {},
   "outputs": [
    {
     "name": "stdout",
     "output_type": "stream",
     "text": [
      "\n",
      "Thank you. Creating an L-size shirt with the message 'I love Python.' on it now.\n",
      "\n",
      "Thank you. Creating an M-size shirt with the message 'I love Python.' on it now.\n",
      "\n",
      "Thank you. Creating an S-size shirt with the message 'My name is Amanda.' on it now.\n"
     ]
    }
   ],
   "source": [
    "def make_shirt(message='I love Python.', size='L'):\n",
    "    print(\"\\nThank you. Creating an \" + size + \"-size shirt with the \" +\n",
    "         \"message '\" + message + \"' on it now.\")\n",
    "\n",
    "make_shirt()\n",
    "make_shirt(size='M')\n",
    "make_shirt(message='My name is Amanda.', size='S')"
   ]
  },
  {
   "cell_type": "markdown",
   "metadata": {},
   "source": [
    "## 8-5: Cities"
   ]
  },
  {
   "cell_type": "code",
   "execution_count": 8,
   "metadata": {},
   "outputs": [
    {
     "name": "stdout",
     "output_type": "stream",
     "text": [
      "Seattle is in America.\n",
      "Los Angeles is in America.\n",
      "Tokyo is in Japan.\n"
     ]
    }
   ],
   "source": [
    "def describe_city(city_name, country='america'):\n",
    "    print(city_name.title() + \" is in \" + country.title() + \".\")\n",
    "\n",
    "describe_city('seattle')\n",
    "describe_city(city_name='los angeles')\n",
    "describe_city('tokyo', country='japan')"
   ]
  },
  {
   "cell_type": "markdown",
   "metadata": {},
   "source": [
    "# Return Values"
   ]
  },
  {
   "cell_type": "markdown",
   "metadata": {},
   "source": [
    "A function doesn't have to display its output directly. It can also process some data and return a value or set of values. The value that the function returns is called a *return value*. "
   ]
  },
  {
   "cell_type": "markdown",
   "metadata": {},
   "source": [
    "## Returning a simple value"
   ]
  },
  {
   "cell_type": "code",
   "execution_count": 9,
   "metadata": {},
   "outputs": [
    {
     "name": "stdout",
     "output_type": "stream",
     "text": [
      "Jimi Hendrix\n"
     ]
    }
   ],
   "source": [
    "def get_formatted_name(first_name, last_name):\n",
    "    \"\"\"Return a full name, neatly formatted.\"\"\"\n",
    "    full_name = first_name + ' ' + last_name\n",
    "    return full_name.title()\n",
    "\n",
    "musician = get_formatted_name('jimi', 'hendrix')\n",
    "print(musician)"
   ]
  },
  {
   "cell_type": "markdown",
   "metadata": {},
   "source": [
    "Here, the **get_formatted_name** function takes the parameters **first_name** and **last_name** and combines them with a space in the middle. It then returns the **full_name** as a title. \n",
    "\n",
    "When you call a function that returns a value, you need to store that return value in a variable. Here, the variable is **musician**. \n",
    "\n",
    "This seems like a lot of effort for just printing a name, but it works well for large programs that stores lots of first and last names independently. "
   ]
  },
  {
   "cell_type": "markdown",
   "metadata": {},
   "source": [
    "## Making an argument optional"
   ]
  },
  {
   "cell_type": "code",
   "execution_count": 10,
   "metadata": {},
   "outputs": [
    {
     "name": "stdout",
     "output_type": "stream",
     "text": [
      "John Lee Hooker\n"
     ]
    }
   ],
   "source": [
    "def get_formatted_name(first_name, middle_name, last_name):\n",
    "    \"\"\"Return a full name, neatly formatted.\"\"\"\n",
    "    full_name = first_name + ' ' + middle_name + ' ' + last_name\n",
    "    return full_name.title()\n",
    "\n",
    "musician = get_formatted_name('john', 'lee', 'hooker')\n",
    "print(musician)"
   ]
  },
  {
   "cell_type": "code",
   "execution_count": 11,
   "metadata": {},
   "outputs": [
    {
     "name": "stdout",
     "output_type": "stream",
     "text": [
      "Jimi Hendrix\n",
      "John Lee Hooker\n"
     ]
    }
   ],
   "source": [
    "def get_formatted_name(first_name, last_name, middle_name=''):\n",
    "    \"\"\"Return a full name, neatly formatted.\"\"\"\n",
    "    if middle_name:\n",
    "        full_name = first_name + ' ' + middle_name + ' ' + last_name\n",
    "    else:\n",
    "        full_name = first_name + ' ' + last_name\n",
    "    return full_name.title()\n",
    "\n",
    "musician = get_formatted_name('jimi', 'hendrix')\n",
    "print(musician)\n",
    "\n",
    "musician = get_formatted_name('john', 'hooker', 'lee')\n",
    "print(musician)"
   ]
  },
  {
   "cell_type": "markdown",
   "metadata": {},
   "source": [
    "This shows that you can have an optional argument by setting a default value that is empty. For instance, some people input their middle names, and others don't. So, set the **middle_name** to have a default value that is empty. When Python runs the function, the **if conditional** test returns **True** if the value is not empty. However, if the value is empty (as in the default), then the test returns false. \n",
    "\n",
    "Be careful! Remember positional arguments...since **middle_name** now has a default value, and is the last parameter listed, it needs to be the last argument listed as well. So, 'lee' comes after 'hooker' when calling the function."
   ]
  },
  {
   "cell_type": "markdown",
   "metadata": {},
   "source": [
    "## Returning a dictionary"
   ]
  },
  {
   "cell_type": "code",
   "execution_count": 12,
   "metadata": {},
   "outputs": [
    {
     "name": "stdout",
     "output_type": "stream",
     "text": [
      "{'first': 'jimi', 'last': 'hendrix'}\n"
     ]
    }
   ],
   "source": [
    "def build_person(first_name, last_name):\n",
    "    \"\"\"Return a dictionary of information about a person.\"\"\"\n",
    "    person = {'first': first_name, 'last': last_name}\n",
    "    return person\n",
    "\n",
    "musician = build_person('jimi', 'hendrix')\n",
    "print(musician)"
   ]
  },
  {
   "cell_type": "code",
   "execution_count": 13,
   "metadata": {},
   "outputs": [
    {
     "name": "stdout",
     "output_type": "stream",
     "text": [
      "{'first': 'jimi', 'last': 'hendrix', 'age': 27}\n"
     ]
    }
   ],
   "source": [
    "def build_person(first_name, last_name, age=''):\n",
    "    \"\"\"Return a dictionary of information about a person.\"\"\"\n",
    "    person = {'first': first_name, 'last': last_name}\n",
    "    if age:\n",
    "        person['age'] = age\n",
    "    return person\n",
    "\n",
    "musician = build_person('jimi', 'hendrix', age=27)\n",
    "print(musician)"
   ]
  },
  {
   "cell_type": "markdown",
   "metadata": {},
   "source": [
    "A function can return any kind of value...including complex data structures such as lists or dictionaries. Here, you can store the values of **first_name** and **last_name** into a dictionary called. The dictionary is a value called **person**, and that value is stored in the variable **musician**. Now, you have a more meaningful data structure (a dictionary) that you can work with, rather than simply printing information. The string 'jimi' and 'hendrix' are now stored as **first_name** and **last_name**. \n",
    "\n",
    "You can also add optional values, such as the **age** example here."
   ]
  },
  {
   "cell_type": "markdown",
   "metadata": {},
   "source": [
    "## Using a function with a while loop"
   ]
  },
  {
   "cell_type": "code",
   "execution_count": 1,
   "metadata": {},
   "outputs": [
    {
     "name": "stdout",
     "output_type": "stream",
     "text": [
      "\n",
      "Please tell me your name:\n",
      "(enter 'q' at any time to quit)\n",
      "First name: Amanda\n",
      "Last name: Chin\n",
      "\n",
      "Hello, Amanda Chin!\n",
      "\n",
      "Please tell me your name:\n",
      "(enter 'q' at any time to quit)\n",
      "First name: Kayla\n",
      "Last name: Kuchta\n",
      "\n",
      "Hello, Kayla Kuchta!\n",
      "\n",
      "Please tell me your name:\n",
      "(enter 'q' at any time to quit)\n",
      "First name: Kimberly\n",
      "Last name: q\n"
     ]
    }
   ],
   "source": [
    "def get_formatted_name(first_name, last_name, middle_name=''):\n",
    "    \"\"\"Return a full name, neatly formatted.\"\"\"\n",
    "    full_name = first_name + ' ' + last_name\n",
    "    return full_name.title()\n",
    "\n",
    "#This is an infinite loop!\n",
    "while True:\n",
    "    print(\"\\nPlease tell me your name:\")\n",
    "    print(\"(enter 'q' at any time to quit)\")\n",
    "    \n",
    "    f_name = input(\"First name: \")\n",
    "    if f_name == 'q':\n",
    "        break\n",
    "    \n",
    "    l_name = input(\"Last name: \")\n",
    "    if l_name == 'q':\n",
    "        break\n",
    "    \n",
    "    formatted_name = get_formatted_name(f_name, l_name)\n",
    "    print(\"\\nHello, \" + formatted_name + \"!\")"
   ]
  },
  {
   "cell_type": "markdown",
   "metadata": {},
   "source": [
    "Here is an example of how you can use a function with a **while loop**, including a **break condition**. Make sure to include the **break condition** at each prompt, so the user can quit at any time."
   ]
  },
  {
   "cell_type": "markdown",
   "metadata": {},
   "source": [
    "# Try It Yourself!"
   ]
  },
  {
   "cell_type": "markdown",
   "metadata": {},
   "source": [
    "## 8-6: City Names"
   ]
  },
  {
   "cell_type": "code",
   "execution_count": 7,
   "metadata": {},
   "outputs": [
    {
     "name": "stdout",
     "output_type": "stream",
     "text": [
      "\"Seattle, America\"\n",
      "\"Tokyo, Japan\"\n",
      "\"Shanghai, China\"\n"
     ]
    }
   ],
   "source": [
    "def city_country(city_name, country_name):\n",
    "    \"\"\"Return a city and country, neatly formatted.\"\"\" \n",
    "    return('\"' + city_name.title() + \", \" + country_name.title() + '\"')\n",
    "\n",
    "city_info = city_country('seattle', 'america')\n",
    "print(city_info)\n",
    "\n",
    "city_info = city_country('tokyo', 'japan')\n",
    "print(city_info)\n",
    "\n",
    "city_info = city_country('shanghai', 'china')\n",
    "print(city_info)"
   ]
  },
  {
   "cell_type": "markdown",
   "metadata": {},
   "source": [
    "## 8-7: Album"
   ]
  },
  {
   "cell_type": "code",
   "execution_count": 1,
   "metadata": {},
   "outputs": [
    {
     "name": "stdout",
     "output_type": "stream",
     "text": [
      "{'album artist': 'Fall Out Boy', 'album title': 'From Under The Cork Tree'}\n",
      "{'album artist': 'Maroon5', 'album title': 'Songs About Jane'}\n",
      "{'album artist': 'Twenty One Pilots', 'album title': 'Vessel', 'tracks': 12}\n"
     ]
    }
   ],
   "source": [
    "def make_album(artist, title, tracks=''):\n",
    "    \"\"\"Return a dictionary of album information.\"\"\"\n",
    "    album_dict = {\n",
    "        'album artist': artist.title(), \n",
    "        'album title': title.title(), \n",
    "        }\n",
    "    if tracks:\n",
    "        album_dict['tracks'] = tracks\n",
    "    return album_dict\n",
    "\n",
    "album = make_album('fall out boy', 'from under the cork tree')\n",
    "print(album)\n",
    "\n",
    "album = make_album(title='songs about jane', artist='maroon5')\n",
    "print(album)\n",
    "\n",
    "album = make_album('twenty one pilots', 'vessel', 12)\n",
    "print(album)"
   ]
  },
  {
   "cell_type": "markdown",
   "metadata": {},
   "source": [
    "## 8-8: User Albums"
   ]
  },
  {
   "cell_type": "code",
   "execution_count": 1,
   "metadata": {},
   "outputs": [
    {
     "name": "stdout",
     "output_type": "stream",
     "text": [
      "\n",
      "Please tell me about an album:\n",
      "(enter 'q' to quit)\n",
      "What is the album artist? maroon 5\n",
      "What is the album title? songs about jane\n",
      "\n",
      "\n",
      "{'album artist': 'Maroon 5', 'album title': 'Songs About Jane'}\n",
      "\n",
      "Please tell me about an album:\n",
      "(enter 'q' to quit)\n",
      "What is the album artist? twenty one pilots\n",
      "What is the album title? vessel\n",
      "\n",
      "\n",
      "{'album artist': 'Twenty One Pilots', 'album title': 'Vessel'}\n",
      "\n",
      "Please tell me about an album:\n",
      "(enter 'q' to quit)\n",
      "What is the album artist? q\n",
      "\n",
      "Thanks for responding!\n"
     ]
    }
   ],
   "source": [
    "def make_album(artist, title):\n",
    "    \"\"\"Return a dictionary of album information.\"\"\"\n",
    "    album_dict = {\n",
    "        'album artist': artist.title(), \n",
    "        'album title': title.title(), \n",
    "        }\n",
    "    return album_dict\n",
    "\n",
    "while True:\n",
    "    print(\"\\nPlease tell me about an album:\")\n",
    "    print(\"(enter 'q' to quit)\")\n",
    "    \n",
    "    a_artist = input(\"What is the album artist? \")\n",
    "    if a_artist == 'q':\n",
    "        break\n",
    "    \n",
    "    a_title = input(\"What is the album title? \")\n",
    "    if a_title == 'q':\n",
    "        break\n",
    "    \n",
    "    album = make_album(a_artist, a_title)\n",
    "    print(\"\\n\")\n",
    "    print(album)\n",
    "\n",
    "print(\"\\nThanks for responding!\")"
   ]
  },
  {
   "cell_type": "markdown",
   "metadata": {},
   "source": [
    "# Passing a List"
   ]
  },
  {
   "cell_type": "code",
   "execution_count": 2,
   "metadata": {},
   "outputs": [
    {
     "name": "stdout",
     "output_type": "stream",
     "text": [
      "Hello, Hannah!\n",
      "Hello, Ty!\n",
      "Hello, Margot!\n"
     ]
    }
   ],
   "source": [
    "def greet_users(names):\n",
    "    \"\"\"Print a simple greeting to each user in the list.\"\"\"\n",
    "    for name in names:\n",
    "        msg = \"Hello, \" + name.title() + \"!\"\n",
    "        print(msg)\n",
    "\n",
    "usernames = ['hannah', 'ty', 'margot']\n",
    "greet_users(usernames)"
   ]
  },
  {
   "cell_type": "markdown",
   "metadata": {},
   "source": [
    "You can pass a list to a function, and the function ges direct access to the contents of the list. It makes working with lists more efficient.\n",
    "\n",
    "For instance, we have a list of **usernames** here. We can use a function called **greet_users** to print a greeting to each name. "
   ]
  },
  {
   "cell_type": "markdown",
   "metadata": {},
   "source": [
    "## Modifying a list in a function"
   ]
  },
  {
   "cell_type": "code",
   "execution_count": 4,
   "metadata": {},
   "outputs": [
    {
     "name": "stdout",
     "output_type": "stream",
     "text": [
      "Printing model: dodecahedron\n",
      "Printing model: robot pendant\n",
      "Printing model: iphone case\n",
      "\n",
      "The following models have been printed:\n",
      "dodecahedron\n",
      "robot pendant\n",
      "iphone case\n"
     ]
    }
   ],
   "source": [
    "# Example 1 - showing 3D designs that are printed without functions\n",
    "\n",
    "# Start with some designs that need to be printed.\n",
    "unprinted_designs = ['iphone case', 'robot pendant', 'dodecahedron']\n",
    "completed_models = []\n",
    "\n",
    "# Simulate printing each design, until none are left.\n",
    "#  Move each design to completed_models after printing.\n",
    "while unprinted_designs:\n",
    "    current_design = unprinted_designs.pop()\n",
    "    \n",
    "    # Simulate creating a 3D print from the design.\n",
    "    print(\"Printing model: \" + current_design)\n",
    "    completed_models.append(current_design)\n",
    "\n",
    "# Display all completed models.\n",
    "print(\"\\nThe following models have been printed:\")\n",
    "for completed_model in completed_models:\n",
    "    print(completed_model)"
   ]
  },
  {
   "cell_type": "code",
   "execution_count": 5,
   "metadata": {},
   "outputs": [
    {
     "name": "stdout",
     "output_type": "stream",
     "text": [
      "Printing model: dodecahedron\n",
      "Printing model: robot pendant\n",
      "Printing model: iphone case\n",
      "\n",
      "The following models have been printed:\n",
      "dodecahedron\n",
      "robot pendant\n",
      "iphone case\n"
     ]
    }
   ],
   "source": [
    "# Example 2 - same output, but with functions\n",
    "\n",
    "def print_models(unprinted_designs, completed_models):\n",
    "    \"\"\"\n",
    "    Simulate printing each design, until none are left.\n",
    "    Move each design to completed_models after printing.\n",
    "    \"\"\"\n",
    "    while unprinted_designs:\n",
    "        current_design = unprinted_designs.pop()\n",
    "        \n",
    "        # Simulate creating a 3D print from the design.\n",
    "        print(\"Printing model: \" + current_design)\n",
    "        completed_models.append(current_design)\n",
    "\n",
    "def show_completed_models(completed_models):\n",
    "    \"\"\"Show all the models that were printed.\"\"\"\n",
    "    print(\"\\nThe following models have been printed:\")\n",
    "    for completed_model in completed_models:\n",
    "        print(completed_model)\n",
    "\n",
    "unprinted_designs = ['iphone case', 'robot pendant', 'dodecahedron']\n",
    "completed_models = []\n",
    "\n",
    "print_models(unprinted_designs, completed_models)\n",
    "show_completed_models(completed_models)"
   ]
  },
  {
   "cell_type": "markdown",
   "metadata": {},
   "source": [
    "Here we have two examples which shows how you can use functions for a 3D printing company that wants to show the designs they are printing, and the designs that are finished. \n",
    "\n",
    "**Example 1** is the code without any functions. Designs that need to be printed are stored in a list, and after they are printed they are stored in a different list.\n",
    "\n",
    "**Example 2** is the code with functions. The tasks of simulating creating the 3D print and then moving the design from the unfinished list to the completed list are defined in one function (**print_models**) and the task of printing the completed models is defined in another function (**show_completed_models**). \n",
    "\n",
    "Putting the code into functions makes the main body of the code much easier to understand. It also makes this program easier to extend and maintain then the version without functions. If we need to print more designs later, we just call up the function again. If we want to modify our printing code, we can change the code once and the changes take place everywhere the function is called. This is more efficient than having to update the code separately in several places.\n",
    "\n",
    "This example also demonstrates the benefits of having every function do one specific task. "
   ]
  },
  {
   "cell_type": "markdown",
   "metadata": {},
   "source": [
    "## Preventing a function from modifying a list"
   ]
  },
  {
   "cell_type": "code",
   "execution_count": 6,
   "metadata": {},
   "outputs": [
    {
     "name": "stdout",
     "output_type": "stream",
     "text": [
      "Printing model: dodecahedron\n",
      "Printing model: robot pendant\n",
      "Printing model: iphone case\n",
      "\n",
      "The following models have been printed:\n",
      "dodecahedron\n",
      "robot pendant\n",
      "iphone case\n"
     ]
    }
   ],
   "source": [
    "def print_models(unprinted_designs, completed_models):\n",
    "    \"\"\"\n",
    "    Simulate printing each design, until none are left.\n",
    "    Move each design to completed_models after printing.\n",
    "    \"\"\"\n",
    "    while unprinted_designs:\n",
    "        current_design = unprinted_designs.pop()\n",
    "        \n",
    "        # Simulate creating a 3D print from the design.\n",
    "        print(\"Printing model: \" + current_design)\n",
    "        completed_models.append(current_design)\n",
    "\n",
    "def show_completed_models(completed_models):\n",
    "    \"\"\"Show all the models that were printed.\"\"\"\n",
    "    print(\"\\nThe following models have been printed:\")\n",
    "    for completed_model in completed_models:\n",
    "        print(completed_model)\n",
    "\n",
    "unprinted_designs = ['iphone case', 'robot pendant', 'dodecahedron']\n",
    "completed_models = []\n",
    "\n",
    "print_models(unprinted_designs[:], completed_models)\n",
    "show_completed_models(completed_models)"
   ]
  },
  {
   "cell_type": "markdown",
   "metadata": {},
   "source": [
    "You may decide, after printing all the designs, that you want to keep the original list of unprinted designs for your records. To do this, make a copy of the list to pass to the function, don't pass the original list. You do this with **function_name(list_name[:])**. The slice notation **[:]** makes a copy of the list to send to the function.\n",
    "\n",
    "However, you should typically pass on the original list to functions unless you have a specific reason to pass a copy. Making a copy takes time and memory - something you want to avoid when working with large lists."
   ]
  },
  {
   "cell_type": "markdown",
   "metadata": {},
   "source": [
    "# Try It Yourself!"
   ]
  },
  {
   "cell_type": "markdown",
   "metadata": {},
   "source": [
    "## 8-9: Magicians"
   ]
  },
  {
   "cell_type": "code",
   "execution_count": 7,
   "metadata": {},
   "outputs": [
    {
     "name": "stdout",
     "output_type": "stream",
     "text": [
      "Hoodini\n",
      "David Copperfield\n",
      "Penn And Teller\n"
     ]
    }
   ],
   "source": [
    "def show_magicians(magicians):\n",
    "    \"\"\"Print a list of magicians.\"\"\"\n",
    "    for magician in magicians:\n",
    "        print(magician.title())\n",
    "\n",
    "magicians_list = ['hoodini', 'david copperfield', 'penn and teller']\n",
    "show_magicians(magicians_list)"
   ]
  },
  {
   "cell_type": "markdown",
   "metadata": {},
   "source": [
    "## 8-10: Great Magicians"
   ]
  },
  {
   "cell_type": "code",
   "execution_count": 20,
   "metadata": {},
   "outputs": [
    {
     "name": "stdout",
     "output_type": "stream",
     "text": [
      "Hoodini\n",
      "David Copperfield\n",
      "Penn And Teller\n",
      "\n",
      "\n",
      "The Great Penn And Teller\n",
      "The Great David Copperfield\n",
      "The Great Hoodini\n"
     ]
    }
   ],
   "source": [
    "def show_magicians(magicians):\n",
    "    \"\"\"Print a list of magicians.\"\"\"\n",
    "    for magician in magicians:\n",
    "        print(magician.title())\n",
    "\n",
    "def make_great(magicians):\n",
    "    \"\"\"Modify magician names to add 'the Great'.\"\"\"\n",
    "    great_magicians = []\n",
    "    \n",
    "    while magicians:\n",
    "        great_magician = \"The Great \" + magicians.pop()\n",
    "        great_magicians.append(great_magician)\n",
    "    \n",
    "    for great_magician in great_magicians:\n",
    "        magicians.append(great_magician)\n",
    "\n",
    "magicians = ['hoodini', 'david copperfield', 'penn and teller']\n",
    "\n",
    "show_magicians(magicians)\n",
    "print(\"\\n\")\n",
    "make_great(magicians)\n",
    "show_magicians(magicians)"
   ]
  },
  {
   "cell_type": "markdown",
   "metadata": {},
   "source": [
    "## 8-11: Unchanged Magicians"
   ]
  },
  {
   "cell_type": "code",
   "execution_count": 26,
   "metadata": {},
   "outputs": [
    {
     "name": "stdout",
     "output_type": "stream",
     "text": [
      "Hoodini\n",
      "David Copperfield\n",
      "Penn And Teller\n",
      "\n",
      "The Great Magicians are:\n",
      "The Great Penn And Teller\n",
      "The Great David Copperfield\n",
      "The Great Hoodini\n",
      "\n",
      "The Original Magicians are:\n",
      "Hoodini\n",
      "David Copperfield\n",
      "Penn And Teller\n"
     ]
    }
   ],
   "source": [
    "def show_magicians(magicians):\n",
    "    \"\"\"Print a list of magicians.\"\"\"\n",
    "    for magician in magicians:\n",
    "        print(magician.title())\n",
    "\n",
    "def make_great(magicians):\n",
    "    \"\"\"Modify magician names to add 'the Great'.\"\"\"\n",
    "    great_magicians = []\n",
    "    \n",
    "    while magicians:\n",
    "        great_magician = \"The Great \" + magicians.pop()\n",
    "        great_magicians.append(great_magician)\n",
    "    \n",
    "    for great_magician in great_magicians:\n",
    "        magicians.append(great_magician)\n",
    "    \n",
    "    return magicians\n",
    "\n",
    "magicians = ['hoodini', 'david copperfield', 'penn and teller']\n",
    "show_magicians(magicians)\n",
    "\n",
    "print(\"\\nThe Great Magicians are:\")\n",
    "great_magicians = make_great(magicians[:])\n",
    "show_magicians(great_magicians)\n",
    "\n",
    "print(\"\\nThe Original Magicians are:\")\n",
    "show_magicians(magicians)"
   ]
  },
  {
   "cell_type": "markdown",
   "metadata": {},
   "source": [
    "# Passing an Arbitrary Number of Arguments"
   ]
  },
  {
   "cell_type": "code",
   "execution_count": 27,
   "metadata": {},
   "outputs": [
    {
     "name": "stdout",
     "output_type": "stream",
     "text": [
      "('pepperoni',)\n",
      "('mushrooms', 'green peppers', 'extra cheese')\n"
     ]
    }
   ],
   "source": [
    "def make_pizza(*toppings):\n",
    "    \"\"\"Print the list of toppings that have been requested.\"\"\"\n",
    "    print(toppings)\n",
    "\n",
    "make_pizza('pepperoni')\n",
    "make_pizza('mushrooms', 'green peppers', 'extra cheese')"
   ]
  },
  {
   "cell_type": "code",
   "execution_count": 28,
   "metadata": {},
   "outputs": [
    {
     "name": "stdout",
     "output_type": "stream",
     "text": [
      "\n",
      "Making a pizza with the following toppings:\n",
      "- pepperoni\n",
      "\n",
      "Making a pizza with the following toppings:\n",
      "- mushrooms\n",
      "- green peppers\n",
      "- extra cheese\n"
     ]
    }
   ],
   "source": [
    "def make_pizza(*toppings):\n",
    "    \"\"\"Summarize the pizza we are about to make.\"\"\"\n",
    "    print(\"\\nMaking a pizza with the following toppings:\")\n",
    "    for topping in toppings:\n",
    "        print(\"- \" + topping)\n",
    "\n",
    "make_pizza('pepperoni')\n",
    "make_pizza('mushrooms', 'green peppers', 'extra cheese')"
   ]
  },
  {
   "cell_type": "markdown",
   "metadata": {},
   "source": [
    "Sometimes you won't know ahead of time how many arguments a function needs to accept. Python allows a function to collect an arbitrary number of arguments from the calling statement. \n",
    "\n",
    "Here, this function builds a pizza, but you can't know ahead of time how many toppings a person will want. The function only has one parameter, **toppings** (with an asterisk), but ths parameter collects as many arguments as the calling statement provides. The asterisk tells Python to make an empty tuple called *toppings* and pack whatever values it receives into the tuple. "
   ]
  },
  {
   "cell_type": "markdown",
   "metadata": {},
   "source": [
    "## Mixing positional and arbitrary arguments"
   ]
  },
  {
   "cell_type": "code",
   "execution_count": 36,
   "metadata": {},
   "outputs": [
    {
     "name": "stdout",
     "output_type": "stream",
     "text": [
      "\n",
      "Making a 16-inch pizza with the following toppings:\n",
      "- pepperoni\n",
      "\n",
      "Making a 12-inch pizza with the following toppings:\n",
      "- mushrooms\n",
      "- green peppers\n",
      "- extra cheese\n"
     ]
    }
   ],
   "source": [
    "def make_pizza(size, *toppings):\n",
    "    \"\"\"Summarize the pizza we are about to make.\"\"\"\n",
    "    print(\"\\nMaking a \" + str(size) +\n",
    "        \"-inch pizza with the following toppings:\")\n",
    "    for topping in toppings:\n",
    "        print(\"- \" + topping)\n",
    "        \n",
    "make_pizza(16, 'pepperoni')\n",
    "make_pizza(12, 'mushrooms', 'green peppers', 'extra cheese')"
   ]
  },
  {
   "cell_type": "markdown",
   "metadata": {},
   "source": [
    "The parameter that accepts the arbitrary number of arguments must come last in the function definition. That way, Python will match the positional and keyword arguments first, then all the rest will go with the final parameter. "
   ]
  },
  {
   "cell_type": "markdown",
   "metadata": {},
   "source": [
    "## Using arbitrary keyword arguments"
   ]
  },
  {
   "cell_type": "code",
   "execution_count": 41,
   "metadata": {},
   "outputs": [
    {
     "name": "stdout",
     "output_type": "stream",
     "text": [
      "{'first_name': 'albert', 'last_name': 'einstein', 'location': 'princeton', 'field': 'physics'}\n"
     ]
    }
   ],
   "source": [
    "def build_profile(first, last, **user_info):\n",
    "    \"\"\"Build a dictionary containing everything we know about a user.\"\"\"\n",
    "    profile = {}\n",
    "    profile['first_name'] = first\n",
    "    profile['last_name'] = last\n",
    "    for key, value in user_info.items():\n",
    "        profile[key] = value\n",
    "    return profile\n",
    "\n",
    "user_profile = build_profile('albert', 'einstein', \n",
    "                             location='princeton', \n",
    "                             field='physics')\n",
    "\n",
    "print(user_profile)"
   ]
  },
  {
   "cell_type": "markdown",
   "metadata": {},
   "source": [
    "Sometimes you'll want to accept an arbitrary number of arguments, but you won't know ahead of time what kind of information will be passed on. You can write functions that will accept as many key-value pairs as the calling statement provides. "
   ]
  },
  {
   "cell_type": "markdown",
   "metadata": {},
   "source": [
    "# Try It Yourself!"
   ]
  },
  {
   "cell_type": "markdown",
   "metadata": {},
   "source": [
    "## 8-12: Sandwiches"
   ]
  },
  {
   "cell_type": "code",
   "execution_count": 42,
   "metadata": {},
   "outputs": [
    {
     "name": "stdout",
     "output_type": "stream",
     "text": [
      "\n",
      "Making a sandwich with:\n",
      "- cheese\n",
      "- mayo\n",
      "\n",
      "Making a sandwich with:\n",
      "- bacon\n",
      "- lettuce\n",
      "- tomato\n",
      "\n",
      "Making a sandwich with:\n",
      "- peanut butter\n",
      "- grape jelly\n"
     ]
    }
   ],
   "source": [
    "def make_sandwich(*ingredients):\n",
    "    \"\"\"Summarize making a sandwich with various ingredients.\"\"\"\n",
    "    print(\"\\nMaking a sandwich with:\")\n",
    "    for ingredient in ingredients:\n",
    "        print(\"- \" + ingredient)\n",
    "\n",
    "make_sandwich('cheese', 'mayo')\n",
    "make_sandwich('bacon', 'lettuce', 'tomato')\n",
    "make_sandwich('peanut butter', 'grape jelly')"
   ]
  },
  {
   "cell_type": "markdown",
   "metadata": {},
   "source": [
    "## 8-13: User Profile"
   ]
  },
  {
   "cell_type": "code",
   "execution_count": 43,
   "metadata": {},
   "outputs": [
    {
     "name": "stdout",
     "output_type": "stream",
     "text": [
      "{'first_name': 'amanda', 'last_name': 'chin', 'location': 'seattle', 'field': 'library science', 'hobby': 'sleeping'}\n"
     ]
    }
   ],
   "source": [
    "def build_profile(first, last, **user_info):\n",
    "    \"\"\"Build a dictionary containing everything we know about a user.\"\"\"\n",
    "    profile = {}\n",
    "    profile['first_name'] = first\n",
    "    profile['last_name'] = last\n",
    "    for key, value in user_info.items():\n",
    "        profile[key] = value\n",
    "    return profile\n",
    "\n",
    "user_profile = build_profile('amanda', 'chin', \n",
    "                             location='seattle', \n",
    "                             field='library science',\n",
    "                             hobby='sleeping')\n",
    "\n",
    "print(user_profile)"
   ]
  },
  {
   "cell_type": "markdown",
   "metadata": {},
   "source": [
    "## 8-14: Cars"
   ]
  },
  {
   "cell_type": "code",
   "execution_count": 44,
   "metadata": {},
   "outputs": [
    {
     "name": "stdout",
     "output_type": "stream",
     "text": [
      "{'manufacturer': 'subaru', 'model': 'outback', 'color': 'blue', 'tow_package': True}\n"
     ]
    }
   ],
   "source": [
    "def build_car(manufacturer, model, **other_info):\n",
    "    \"\"\"Build a dictionary containing everything about a car.\"\"\"\n",
    "    car = {}\n",
    "    car['manufacturer'] = manufacturer\n",
    "    car['model'] = model\n",
    "    for key, value in other_info.items():\n",
    "        car[key] = value\n",
    "    return car\n",
    "\n",
    "car_profile = build_car('subaru', 'outback', color='blue', tow_package=True)\n",
    "\n",
    "print(car_profile)"
   ]
  },
  {
   "cell_type": "markdown",
   "metadata": {},
   "source": [
    "# Storing Your Functions in Modules"
   ]
  },
  {
   "cell_type": "markdown",
   "metadata": {},
   "source": [
    "You can store your function in a separate file called a *module* and then *import* the module into your main program. An **import statement** tells Python to make the code in a module available in the currently running program file.\n",
    "\n",
    "This allows you to hide the details of your program's code so you can focus on the higher-level logic. It also allows you to reuse functions in many different programs. You can share those files with other programmers, rather than your whole program. You can also import functions created by other programmers. "
   ]
  },
  {
   "cell_type": "markdown",
   "metadata": {},
   "source": [
    "## Importing an entire module"
   ]
  },
  {
   "cell_type": "code",
   "execution_count": 1,
   "metadata": {
    "scrolled": true
   },
   "outputs": [
    {
     "name": "stdout",
     "output_type": "stream",
     "text": [
      "\n",
      "Making a 16-inch pizza with the following toppings:\n",
      "- pepperoni\n",
      "\n",
      "Making a 12-inch pizza with the following toppings:\n",
      "- mushrooms\n",
      "- green peppers\n",
      "- extra cheese\n"
     ]
    }
   ],
   "source": [
    "import pizza\n",
    "\n",
    "pizza.make_pizza(16, 'pepperoni')\n",
    "pizza.make_pizza(12, 'mushrooms', 'green peppers', 'extra cheese')"
   ]
  },
  {
   "cell_type": "markdown",
   "metadata": {},
   "source": [
    "One way is to create a module. We create a module by saving the function as a *.py* file (do this in text editor). Then you can **import** the code from that module into your program. The .py file has to be in the same jupyter pathway in order to be imported properly.\n",
    "\n",
    "To call a function from an imported module, enter the name of the module you imported (**pizza**), followed by the name of the function (**make_pizza()**). \n",
    "\n",
    "This way imports the entire module, and makes every function from that module available in your program. Your syntax to call a function from an entire imported module is: **module_name.function_name()**. "
   ]
  },
  {
   "cell_type": "markdown",
   "metadata": {},
   "source": [
    "## Importing specific functions"
   ]
  },
  {
   "cell_type": "code",
   "execution_count": 2,
   "metadata": {},
   "outputs": [
    {
     "name": "stdout",
     "output_type": "stream",
     "text": [
      "\n",
      "Making a 16-inch pizza with the following toppings:\n",
      "- pepperoni\n",
      "\n",
      "Making a 12-inch pizza with the following toppings:\n",
      "- mushrooms\n",
      "- green peppers\n",
      "- extra cheese\n"
     ]
    }
   ],
   "source": [
    "from pizza import make_pizza\n",
    "\n",
    "make_pizza(16, 'pepperoni')\n",
    "make_pizza(12, 'mushrooms', 'green peppers', 'extra cheese')"
   ]
  },
  {
   "cell_type": "markdown",
   "metadata": {},
   "source": [
    "You can important specific functions from a module through this approach: **from module_name import function_name**."
   ]
  },
  {
   "cell_type": "markdown",
   "metadata": {},
   "source": [
    "## Using as to give a function an alias"
   ]
  },
  {
   "cell_type": "code",
   "execution_count": 3,
   "metadata": {},
   "outputs": [
    {
     "name": "stdout",
     "output_type": "stream",
     "text": [
      "\n",
      "Making a 16-inch pizza with the following toppings:\n",
      "- pepperoni\n",
      "\n",
      "Making a 12-inch pizza with the following toppings:\n",
      "- mushrooms\n",
      "- green peppers\n",
      "- extra cheese\n"
     ]
    }
   ],
   "source": [
    "from pizza import make_pizza as mp\n",
    "\n",
    "mp(16, 'pepperoni')\n",
    "mp(12, 'mushrooms', 'green peppers', 'extra cheese')"
   ]
  },
  {
   "cell_type": "markdown",
   "metadata": {},
   "source": [
    "If the name of a function you're importing might conflict with an exisiting name in your program, or if the function name is long, you can use a short and unique *alias*. The syntax is: **from module_name import function_name as fn**. "
   ]
  },
  {
   "cell_type": "markdown",
   "metadata": {},
   "source": [
    "## Using as to give a module an alias"
   ]
  },
  {
   "cell_type": "code",
   "execution_count": 4,
   "metadata": {},
   "outputs": [
    {
     "name": "stdout",
     "output_type": "stream",
     "text": [
      "\n",
      "Making a 16-inch pizza with the following toppings:\n",
      "- pepperoni\n",
      "\n",
      "Making a 12-inch pizza with the following toppings:\n",
      "- mushrooms\n",
      "- green peppers\n",
      "- extra cheese\n"
     ]
    }
   ],
   "source": [
    "import pizza as p\n",
    "\n",
    "p.make_pizza(16, 'pepperoni')\n",
    "p.make_pizza(12, 'mushrooms', 'green peppers', 'extra cheese')"
   ]
  },
  {
   "cell_type": "markdown",
   "metadata": {},
   "source": [
    "You can also provide an alias for a module name. This allows you to call a module's functions more quickly. When you give a module an alias, the function retains its original name. So, by writing **p.make_pizza** it redirects your attention from the module name and has you focus on the descriptive names of the functions. The syntax is: **import module_name as mn**."
   ]
  },
  {
   "cell_type": "markdown",
   "metadata": {},
   "source": [
    "## Importing all functions in a module"
   ]
  },
  {
   "cell_type": "code",
   "execution_count": 5,
   "metadata": {},
   "outputs": [
    {
     "name": "stdout",
     "output_type": "stream",
     "text": [
      "\n",
      "Making a 16-inch pizza with the following toppings:\n",
      "- pepperoni\n",
      "\n",
      "Making a 12-inch pizza with the following toppings:\n",
      "- mushrooms\n",
      "- green peppers\n",
      "- extra cheese\n"
     ]
    }
   ],
   "source": [
    "from pizza import *\n",
    "\n",
    "make_pizza(16, 'pepperoni')\n",
    "make_pizza(12, 'mushrooms', 'green peppers', 'extra cheese')"
   ]
  },
  {
   "cell_type": "markdown",
   "metadata": {},
   "source": [
    "You can tell Python to import every function in a module with the asterisk operator. However, this approach isn't the best when working with large modules that you didn't write. If a module has a function name that matches an existing name in your program, you may get strange results. \n",
    "\n",
    "It's usually best to import the function or functions that you want, or import the entire module and use the dot notation."
   ]
  },
  {
   "cell_type": "markdown",
   "metadata": {},
   "source": [
    "# Try It Yourself!"
   ]
  },
  {
   "cell_type": "markdown",
   "metadata": {},
   "source": [
    "## 8-15: Printing Models"
   ]
  },
  {
   "cell_type": "code",
   "execution_count": 7,
   "metadata": {},
   "outputs": [
    {
     "name": "stdout",
     "output_type": "stream",
     "text": [
      "Printing model: dodecahedron\n",
      "Printing model: robot pendant\n",
      "Printing model: iphone case\n",
      "\n",
      "The following models have been printed:\n",
      "dodecahedron\n",
      "robot pendant\n",
      "iphone case\n"
     ]
    }
   ],
   "source": [
    "import printing_functions as pf\n",
    "\n",
    "unprinted_designs = ['iphone case', 'robot pendant', 'dodecahedron']\n",
    "completed_models = []\n",
    "\n",
    "pf.print_models(unprinted_designs, completed_models)\n",
    "pf.show_completed_models(completed_models)"
   ]
  },
  {
   "cell_type": "markdown",
   "metadata": {},
   "source": [
    "## 8-16: Imports"
   ]
  },
  {
   "cell_type": "code",
   "execution_count": 8,
   "metadata": {},
   "outputs": [
    {
     "name": "stdout",
     "output_type": "stream",
     "text": [
      "Hoodini\n",
      "David Copperfield\n",
      "Penn And Teller\n",
      "\n",
      "The Great Magicians are:\n",
      "The Great Penn And Teller\n",
      "The Great David Copperfield\n",
      "The Great Hoodini\n",
      "\n",
      "The Original Magicians are:\n",
      "Hoodini\n",
      "David Copperfield\n",
      "Penn And Teller\n"
     ]
    }
   ],
   "source": [
    "import magician_functions\n",
    "\n",
    "magicians = ['hoodini', 'david copperfield', 'penn and teller']\n",
    "\n",
    "magician_functions.show_magicians(magicians)\n",
    "\n",
    "print(\"\\nThe Great Magicians are:\")\n",
    "great_magicians = magician_functions.make_great(magicians[:])\n",
    "magician_functions.show_magicians(great_magicians)\n",
    "\n",
    "print(\"\\nThe Original Magicians are:\")\n",
    "magician_functions.show_magicians(magicians)"
   ]
  },
  {
   "cell_type": "code",
   "execution_count": 9,
   "metadata": {},
   "outputs": [
    {
     "name": "stdout",
     "output_type": "stream",
     "text": [
      "Hoodini\n",
      "David Copperfield\n",
      "Penn And Teller\n",
      "\n",
      "The Great Magicians are:\n",
      "The Great Penn And Teller\n",
      "The Great David Copperfield\n",
      "The Great Hoodini\n",
      "\n",
      "The Original Magicians are:\n",
      "Hoodini\n",
      "David Copperfield\n",
      "Penn And Teller\n"
     ]
    }
   ],
   "source": [
    "from magician_functions import show_magicians\n",
    "from magician_functions import make_great\n",
    "\n",
    "magicians = ['hoodini', 'david copperfield', 'penn and teller']\n",
    "\n",
    "show_magicians(magicians)\n",
    "\n",
    "print(\"\\nThe Great Magicians are:\")\n",
    "great_magicians = make_great(magicians[:])\n",
    "show_magicians(great_magicians)\n",
    "\n",
    "print(\"\\nThe Original Magicians are:\")\n",
    "show_magicians(magicians)"
   ]
  },
  {
   "cell_type": "code",
   "execution_count": 10,
   "metadata": {},
   "outputs": [
    {
     "name": "stdout",
     "output_type": "stream",
     "text": [
      "Hoodini\n",
      "David Copperfield\n",
      "Penn And Teller\n",
      "\n",
      "The Great Magicians are:\n",
      "The Great Penn And Teller\n",
      "The Great David Copperfield\n",
      "The Great Hoodini\n",
      "\n",
      "The Original Magicians are:\n",
      "Hoodini\n",
      "David Copperfield\n",
      "Penn And Teller\n"
     ]
    }
   ],
   "source": [
    "from magician_functions import show_magicians as sm\n",
    "from magician_functions import make_great as mg\n",
    "\n",
    "magicians = ['hoodini', 'david copperfield', 'penn and teller']\n",
    "\n",
    "sm(magicians)\n",
    "\n",
    "print(\"\\nThe Great Magicians are:\")\n",
    "great_magicians = mg(magicians[:])\n",
    "sm(great_magicians)\n",
    "\n",
    "print(\"\\nThe Original Magicians are:\")\n",
    "sm(magicians)"
   ]
  },
  {
   "cell_type": "code",
   "execution_count": 11,
   "metadata": {},
   "outputs": [
    {
     "name": "stdout",
     "output_type": "stream",
     "text": [
      "Hoodini\n",
      "David Copperfield\n",
      "Penn And Teller\n",
      "\n",
      "The Great Magicians are:\n",
      "The Great Penn And Teller\n",
      "The Great David Copperfield\n",
      "The Great Hoodini\n",
      "\n",
      "The Original Magicians are:\n",
      "Hoodini\n",
      "David Copperfield\n",
      "Penn And Teller\n"
     ]
    }
   ],
   "source": [
    "import magician_functions as mf\n",
    "\n",
    "magicians = ['hoodini', 'david copperfield', 'penn and teller']\n",
    "\n",
    "mf.show_magicians(magicians)\n",
    "\n",
    "print(\"\\nThe Great Magicians are:\")\n",
    "great_magicians = mf.make_great(magicians[:])\n",
    "mf.show_magicians(great_magicians)\n",
    "\n",
    "print(\"\\nThe Original Magicians are:\")\n",
    "mf.show_magicians(magicians)"
   ]
  },
  {
   "cell_type": "code",
   "execution_count": 13,
   "metadata": {},
   "outputs": [
    {
     "name": "stdout",
     "output_type": "stream",
     "text": [
      "Hoodini\n",
      "David Copperfield\n",
      "Penn And Teller\n",
      "\n",
      "The Great Magicians are:\n",
      "The Great Penn And Teller\n",
      "The Great David Copperfield\n",
      "The Great Hoodini\n",
      "\n",
      "The Original Magicians are:\n",
      "Hoodini\n",
      "David Copperfield\n",
      "Penn And Teller\n"
     ]
    }
   ],
   "source": [
    "from magician_functions import *\n",
    "\n",
    "magicians = ['hoodini', 'david copperfield', 'penn and teller']\n",
    "\n",
    "show_magicians(magicians)\n",
    "\n",
    "print(\"\\nThe Great Magicians are:\")\n",
    "great_magicians = make_great(magicians[:])\n",
    "show_magicians(great_magicians)\n",
    "\n",
    "print(\"\\nThe Original Magicians are:\")\n",
    "show_magicians(magicians)"
   ]
  },
  {
   "cell_type": "markdown",
   "metadata": {},
   "source": [
    "## 8-17: Styling Functions"
   ]
  },
  {
   "cell_type": "code",
   "execution_count": 14,
   "metadata": {},
   "outputs": [
    {
     "name": "stdout",
     "output_type": "stream",
     "text": [
      "\n",
      "Please tell me your name:\n",
      "(enter 'q' at any time to quit)\n",
      "First name: Amanda\n",
      "Last name: Chin\n",
      "\n",
      "Hello, Amanda Chin!\n",
      "\n",
      "Please tell me your name:\n",
      "(enter 'q' at any time to quit)\n",
      "First name: q\n"
     ]
    }
   ],
   "source": [
    "def get_formatted_name(\n",
    "        first_name, last_name, \n",
    "        middle_name=''):\n",
    "    \"\"\"Return a full name, neatly formatted.\"\"\"\n",
    "    full_name = first_name + ' ' + last_name\n",
    "    return full_name.title()\n",
    "\n",
    "#This is an infinite loop!\n",
    "while True:\n",
    "    print(\"\\nPlease tell me your name:\")\n",
    "    print(\"(enter 'q' at any time to quit)\")\n",
    "    \n",
    "    f_name = input(\"First name: \")\n",
    "    if f_name == 'q':\n",
    "        break\n",
    "    \n",
    "    l_name = input(\"Last name: \")\n",
    "    if l_name == 'q':\n",
    "        break\n",
    "    \n",
    "    formatted_name = get_formatted_name(f_name, l_name)\n",
    "    print(\"\\nHello, \" + formatted_name + \"!\")"
   ]
  },
  {
   "cell_type": "code",
   "execution_count": null,
   "metadata": {},
   "outputs": [],
   "source": []
  }
 ],
 "metadata": {
  "kernelspec": {
   "display_name": "Python 3",
   "language": "python",
   "name": "python3"
  },
  "language_info": {
   "codemirror_mode": {
    "name": "ipython",
    "version": 3
   },
   "file_extension": ".py",
   "mimetype": "text/x-python",
   "name": "python",
   "nbconvert_exporter": "python",
   "pygments_lexer": "ipython3",
   "version": "3.7.0"
  }
 },
 "nbformat": 4,
 "nbformat_minor": 2
}
