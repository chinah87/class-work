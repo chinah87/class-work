{
 "cells": [
  {
   "cell_type": "markdown",
   "metadata": {},
   "source": [
    "# User Input (The input function)"
   ]
  },
  {
   "cell_type": "code",
   "execution_count": 1,
   "metadata": {},
   "outputs": [
    {
     "name": "stdout",
     "output_type": "stream",
     "text": [
      "Tell me something, and I will repeat it back to you: Good evening!\n",
      "Good evening!\n"
     ]
    }
   ],
   "source": [
    "message = input(\"Tell me something, and I will repeat it back to you: \")\n",
    "print(message)"
   ]
  },
  {
   "cell_type": "markdown",
   "metadata": {},
   "source": [
    "The **input()** function pauses your program and waits for the user to enter some text. Then, once Python receives that input, it stores it in a variable to make it convenient for you to work with. \n",
    "\n",
    "Here, the **input()** function takes one argument (the prompt or instructions) and displays it to the user so they know what to do. Once the user enters information and presses ENTER, the response is stored in the variable, and **print(message)** displays the input back to the user."
   ]
  },
  {
   "cell_type": "markdown",
   "metadata": {},
   "source": [
    "## Writing clear prompts"
   ]
  },
  {
   "cell_type": "code",
   "execution_count": 2,
   "metadata": {},
   "outputs": [
    {
     "name": "stdout",
     "output_type": "stream",
     "text": [
      "What is your first name? Amanda\n",
      "Hello, Amanda!\n"
     ]
    }
   ],
   "source": [
    "name = input(\"What is your first name? \")\n",
    "print(\"Hello, \" + name + \"!\")"
   ]
  },
  {
   "cell_type": "markdown",
   "metadata": {},
   "source": [
    "It is important to write clear and easy-to-follow prompts for users. Add a space at the end of your prompts to separate the prompt from the user's response and to make it clear to your user where to enter their text."
   ]
  },
  {
   "cell_type": "code",
   "execution_count": 3,
   "metadata": {},
   "outputs": [
    {
     "name": "stdout",
     "output_type": "stream",
     "text": [
      "If you tell us who you are, we can personalize the messages you see.\n",
      "What is your first name? Amanda\n",
      "\n",
      "Hello, Amanda!\n"
     ]
    }
   ],
   "source": [
    "prompt = \"If you tell us who you are, we can personalize the messages you see.\"\n",
    "prompt += \"\\nWhat is your first name? \"\n",
    "\n",
    "name = input(prompt)\n",
    "print(\"\\nHello, \" + name + \"!\")"
   ]
  },
  {
   "cell_type": "markdown",
   "metadata": {},
   "source": [
    "If your prompt is longer than one line, you can store your prompt in a variable and pass that variable to the **input()** function. \n",
    "\n",
    "Here is one example of how to write a multi-line string. The first line stores the first part of the message in the variable *prompt*. In the second line, the operator *+=* takes the string that was stored in *prompt* and adds the new string to the end."
   ]
  },
  {
   "cell_type": "markdown",
   "metadata": {},
   "source": [
    "# Using int() to accept numerical input"
   ]
  },
  {
   "cell_type": "code",
   "execution_count": null,
   "metadata": {},
   "outputs": [],
   "source": [
    "age = input(\"How old are you? \")\n",
    "age"
   ]
  },
  {
   "cell_type": "code",
   "execution_count": null,
   "metadata": {},
   "outputs": [],
   "source": [
    "age = input(\"How old are you? \")\n",
    "age = int(age)\n",
    "age >= 18"
   ]
  },
  {
   "cell_type": "markdown",
   "metadata": {},
   "source": [
    "When using **input()**, Python interprets everything the user inputs as a string. In **Example 1**, the ouput is not an integer, but a string (you can tell because it is framed by single quotes). \n",
    "\n",
    "This is okay if you only want to print the input. However, if you want to work with the input as an integer, you need to use the **int()** function. In **Example 2**, if you did not have the **age = int(age)** line, Python would be trying to compare the integer **18** to the string **'31'**, which doesn't work. **int()** tells Python to treat the input as a numerical value."
   ]
  },
  {
   "cell_type": "code",
   "execution_count": null,
   "metadata": {},
   "outputs": [],
   "source": [
    "height = input(\"How tall are you in inches? \")\n",
    "height = int(height)\n",
    "\n",
    "if height >= 36:\n",
    "    print(\"\\nYou're tall enough to ride!\")\n",
    "else:\n",
    "    print(\"\\nYou'll be able to ride when you're a little older.\")"
   ]
  },
  {
   "cell_type": "markdown",
   "metadata": {},
   "source": [
    "Here is an example of how the **int()** function can be used in a real program, to determine if you are tall enough to ride something.\n",
    "\n",
    "When you use numerical input to do calculations or comparisons, make sure to convert the input value to a numerical representation first."
   ]
  },
  {
   "cell_type": "markdown",
   "metadata": {},
   "source": [
    "## The modulo operator"
   ]
  },
  {
   "cell_type": "code",
   "execution_count": null,
   "metadata": {},
   "outputs": [],
   "source": [
    "4 % 3"
   ]
  },
  {
   "cell_type": "code",
   "execution_count": null,
   "metadata": {},
   "outputs": [],
   "source": [
    "5 % 3"
   ]
  },
  {
   "cell_type": "code",
   "execution_count": null,
   "metadata": {},
   "outputs": [],
   "source": [
    "6 % 3"
   ]
  },
  {
   "cell_type": "code",
   "execution_count": null,
   "metadata": {},
   "outputs": [],
   "source": [
    "7 % 3"
   ]
  },
  {
   "cell_type": "markdown",
   "metadata": {},
   "source": [
    "The *modulo operator* **(%)** divides one number by another number and returns the remainder. It doesn't tell you how many times one number fits into another. It just tells you want the remainder is.\n",
    "\n",
    "When one number is divisible by another number, the remainder is 0. You can use this to determine if a number is even or odd."
   ]
  },
  {
   "cell_type": "code",
   "execution_count": null,
   "metadata": {},
   "outputs": [],
   "source": [
    "number = input(\"Enter a number, and I'll tell you if it's even or odd: \")\n",
    "number = int(number)\n",
    "\n",
    "if number % 2 == 0:\n",
    "    print(\"\\nThe number \" + str(number) + \" is even.\")\n",
    "else: \n",
    "    print(\"\\nThe number \" + str(number) + \" is odd.\")"
   ]
  },
  {
   "cell_type": "markdown",
   "metadata": {},
   "source": [
    "# Try It Yourself!"
   ]
  },
  {
   "cell_type": "markdown",
   "metadata": {},
   "source": [
    "## 7-1: Rental Car"
   ]
  },
  {
   "cell_type": "code",
   "execution_count": 4,
   "metadata": {},
   "outputs": [
    {
     "name": "stdout",
     "output_type": "stream",
     "text": [
      "What car would you like to rent? jetta\n",
      "Let me see if I can find you a jetta.\n"
     ]
    }
   ],
   "source": [
    "car = input(\"What car would you like to rent? \")\n",
    "\n",
    "print(\"Let me see if I can find you a \" + car + \".\")"
   ]
  },
  {
   "cell_type": "markdown",
   "metadata": {},
   "source": [
    "## 7-2: Restaurant Seating"
   ]
  },
  {
   "cell_type": "code",
   "execution_count": 6,
   "metadata": {},
   "outputs": [
    {
     "name": "stdout",
     "output_type": "stream",
     "text": [
      "How many people are in your party tonight? 12\n",
      "Please wait a moment while we prepare a table.\n"
     ]
    }
   ],
   "source": [
    "diners = input(\"How many people are in your party tonight? \")\n",
    "diners = int(diners)\n",
    "\n",
    "if diners >= 8:\n",
    "    print(\"Please wait a moment while we prepare a table.\")\n",
    "else:\n",
    "    print(\"Excellent. Your table is ready!\")"
   ]
  },
  {
   "cell_type": "markdown",
   "metadata": {},
   "source": [
    "## 7-3: Multiples of Ten"
   ]
  },
  {
   "cell_type": "code",
   "execution_count": 7,
   "metadata": {},
   "outputs": [
    {
     "name": "stdout",
     "output_type": "stream",
     "text": [
      "Give me a number, any number: 42\n",
      "Bummer, you can't split this number into 10 even parts.\n"
     ]
    }
   ],
   "source": [
    "number = input(\"Give me a number, any number: \")\n",
    "number = int(number)\n",
    "\n",
    "if number % 10 == 0:\n",
    "    print(\"Congrats, your number is divisible by 10!\")\n",
    "else:\n",
    "    print(\"Bummer, you can't split this number into 10 even parts.\")"
   ]
  },
  {
   "cell_type": "markdown",
   "metadata": {},
   "source": [
    "# While Loops"
   ]
  },
  {
   "cell_type": "markdown",
   "metadata": {},
   "source": [
    "A **for loop** takes a collection of items and executes a block of code once for each item, a **while loop** runs as long as, or *while*, a certain condition is true."
   ]
  },
  {
   "cell_type": "markdown",
   "metadata": {},
   "source": [
    "## The while loop in action"
   ]
  },
  {
   "cell_type": "code",
   "execution_count": null,
   "metadata": {},
   "outputs": [],
   "source": [
    "current_number = 1\n",
    "while current_number <= 5:\n",
    "    print(current_number)\n",
    "    current_number += 1"
   ]
  },
  {
   "cell_type": "markdown",
   "metadata": {},
   "source": [
    "First, we set the value of current_number to 1. The **while loop** is set to run until the current_number value is less than or equal to 5. The **+-** operator in **current_number += 1** means **current_number = current_number + 1**.\n",
    "\n",
    "**while loops** are useful in gaming because it allows a game to keep running as long as you keep playing, and it can stop running as soon as you ask it to quit. "
   ]
  },
  {
   "cell_type": "markdown",
   "metadata": {},
   "source": [
    "## Letting the user choose when to quit"
   ]
  },
  {
   "cell_type": "code",
   "execution_count": 1,
   "metadata": {},
   "outputs": [
    {
     "name": "stdout",
     "output_type": "stream",
     "text": [
      "\n",
      "Tell me something, and I will repeat it back to you:\n",
      "Enter 'quit' to end the program. Hi Amanda!\n",
      "Hi Amanda!\n",
      "\n",
      "Tell me something, and I will repeat it back to you:\n",
      "Enter 'quit' to end the program. What's your name?\n",
      "What's your name?\n",
      "\n",
      "Tell me something, and I will repeat it back to you:\n",
      "Enter 'quit' to end the program. I know what you are, but what am I?\n",
      "I know what you are, but what am I?\n",
      "\n",
      "Tell me something, and I will repeat it back to you:\n",
      "Enter 'quit' to end the program. Quit\n",
      "Quit\n",
      "\n",
      "Tell me something, and I will repeat it back to you:\n",
      "Enter 'quit' to end the program. quit\n",
      "quit\n"
     ]
    }
   ],
   "source": [
    "prompt = \"\\nTell me something, and I will repeat it back to you:\"\n",
    "prompt += \"\\nEnter 'quit' to end the program. \"\n",
    "message = \"\"\n",
    "while message != 'quit':\n",
    "    message = input(prompt)\n",
    "    print(message)"
   ]
  },
  {
   "cell_type": "markdown",
   "metadata": {},
   "source": [
    "Here we define a *quit value* and then keep the programming running until the user enters that quit value. We set up the variable **message** to store whatever value the user enters. Then we define it as an empty string (no text within the quotations) so that Python has something to check the first time it reaches the **while loop**. The first time the program runs, it needs to compare the value of **message** to **'quit'**, but if it has nothing to compare, it can't continue running. To solve this problem, we need to give **message** an initial value (the empty string). Although it's empty, it will make sense to Python, and the program will continue to run. \n",
    "\n",
    "The program works well, except for the fact that it prints the word **'quit'** while it is quitting. To fix this:"
   ]
  },
  {
   "cell_type": "code",
   "execution_count": 3,
   "metadata": {},
   "outputs": [
    {
     "name": "stdout",
     "output_type": "stream",
     "text": [
      "\n",
      "Tell me something, and I will repeat it back to you:\n",
      "Enter 'quit' to end the program. Hello there!\n",
      "Hello there!\n",
      "\n",
      "Tell me something, and I will repeat it back to you:\n",
      "Enter 'quit' to end the program. Hello again\n",
      "Hello again\n",
      "\n",
      "Tell me something, and I will repeat it back to you:\n",
      "Enter 'quit' to end the program. Uhhh...hello?\n",
      "Uhhh...hello?\n",
      "\n",
      "Tell me something, and I will repeat it back to you:\n",
      "Enter 'quit' to end the program. quit\n"
     ]
    }
   ],
   "source": [
    "prompt = \"\\nTell me something, and I will repeat it back to you:\"\n",
    "prompt += \"\\nEnter 'quit' to end the program. \"\n",
    "message = \"\"\n",
    "while message != 'quit':\n",
    "    message = input(prompt)\n",
    "    \n",
    "    if message != 'quit':\n",
    "        print(message)"
   ]
  },
  {
   "cell_type": "markdown",
   "metadata": {},
   "source": [
    "## Using a flag"
   ]
  },
  {
   "cell_type": "code",
   "execution_count": 4,
   "metadata": {},
   "outputs": [
    {
     "name": "stdout",
     "output_type": "stream",
     "text": [
      "\n",
      "Tell me something, and I will repeat it back to you:\n",
      "Enter 'quit' to end the program. Good evening!\n",
      "Good evening!\n",
      "\n",
      "Tell me something, and I will repeat it back to you:\n",
      "Enter 'quit' to end the program. Are you there?\n",
      "Are you there?\n",
      "\n",
      "Tell me something, and I will repeat it back to you:\n",
      "Enter 'quit' to end the program. Can you hear me?\n",
      "Can you hear me?\n",
      "\n",
      "Tell me something, and I will repeat it back to you:\n",
      "Enter 'quit' to end the program. Hellooooooooo\n",
      "Hellooooooooo\n",
      "\n",
      "Tell me something, and I will repeat it back to you:\n",
      "Enter 'quit' to end the program. quit\n"
     ]
    }
   ],
   "source": [
    "prompt = \"\\nTell me something, and I will repeat it back to you:\"\n",
    "prompt += \"\\nEnter 'quit' to end the program. \"\n",
    "\n",
    "active = True\n",
    "\n",
    "while active:\n",
    "    message = input(prompt)\n",
    "    \n",
    "    if message == 'quit':\n",
    "        active = False\n",
    "    else:\n",
    "        print(message)"
   ]
  },
  {
   "cell_type": "markdown",
   "metadata": {},
   "source": [
    "How do you write a more complicated program in which multiple conditions can cause the program to stop running? For example, in a game, several different events could cause the end of the game: running out of ships, time running out, or even cities being destroyed. If any of these events happen, the game ends. If many possible events might occur to stop the program, trying to test all these conditions in one **while loop** becomes too complicated.\n",
    "\n",
    "Instead, you can define one variable that determines whether or not the entire program is active. This variable is called a *flag*, and it acts as a signal to the program. We can write our programs so they run while the flag is set to *True*, and stop running when any of the several events sets the value of the flag to *False*. Then the **while loop** only needs to check one condition - whether the flag is set to *True*. All of our tests to see if an event has occurred that should set the flag to *False* can be neatly organized in the rest of the program.\n",
    "\n",
    "In this example, the flag is called **active**. We set the variable **active** to *True* so that the program starts in active state. If the user enters **'quit'**, **active** is set to *False*, and the **while loop** stops. \n",
    "\n",
    "This example has the same output as the previous example, but now it's easier to add more tests with **elif** statements for other events that will cause **active** to become *False*. "
   ]
  },
  {
   "cell_type": "markdown",
   "metadata": {},
   "source": [
    "## Using break to exit a loop"
   ]
  },
  {
   "cell_type": "code",
   "execution_count": 5,
   "metadata": {},
   "outputs": [
    {
     "name": "stdout",
     "output_type": "stream",
     "text": [
      "\n",
      "Please enter the name of a city you have visited:\n",
      "(Enter 'quit' when you are finished.) Rome\n",
      "I'd love to go to Rome!\n",
      "\n",
      "Please enter the name of a city you have visited:\n",
      "(Enter 'quit' when you are finished.) Venice\n",
      "I'd love to go to Venice!\n",
      "\n",
      "Please enter the name of a city you have visited:\n",
      "(Enter 'quit' when you are finished.) Sapporo\n",
      "I'd love to go to Sapporo!\n",
      "\n",
      "Please enter the name of a city you have visited:\n",
      "(Enter 'quit' when you are finished.) Bangkok\n",
      "I'd love to go to Bangkok!\n",
      "\n",
      "Please enter the name of a city you have visited:\n",
      "(Enter 'quit' when you are finished.) quit\n"
     ]
    }
   ],
   "source": [
    "prompt = \"\\nPlease enter the name of a city you have visited:\"\n",
    "prompt += \"\\n(Enter 'quit' when you are finished.) \"\n",
    "\n",
    "while True:\n",
    "    city = input(prompt)\n",
    "    \n",
    "    if city == 'quit':\n",
    "        break\n",
    "    else: \n",
    "        print(\"I'd love to go to \" + city.title() + \"!\")"
   ]
  },
  {
   "cell_type": "markdown",
   "metadata": {},
   "source": [
    "Use a **break** statement to exit a **while loop** immediately without running any remaining code in the loop. The **break** statement directs the flow of your pgoram. You can use it to control which lines of code are executed, and which aren't. \n",
    "\n",
    "Here, a loop that starts with **while True** will run forever until it reaches the **break** statement. "
   ]
  },
  {
   "cell_type": "markdown",
   "metadata": {},
   "source": [
    "## Using continue in a loop"
   ]
  },
  {
   "cell_type": "code",
   "execution_count": 6,
   "metadata": {},
   "outputs": [
    {
     "name": "stdout",
     "output_type": "stream",
     "text": [
      "1\n",
      "3\n",
      "5\n",
      "7\n",
      "9\n"
     ]
    }
   ],
   "source": [
    "current_number = 0\n",
    "while current_number < 10:\n",
    "    current_number += 1\n",
    "    if current_number % 2 == 0:\n",
    "        continue\n",
    "    print(current_number)"
   ]
  },
  {
   "cell_type": "markdown",
   "metadata": {},
   "source": [
    "Instead of breaking out of a loop entirely without executing the rest of the code, you can use a **continue** statement to return to the beginning of the loop based on the result of the condition test. \n",
    "\n",
    "Here, we set the **current_number** to 0, and enter the **while loop**. The **if** statement checkes the **modulo** of **current_number** and 2. If the **modulo** is 0, the **continue** statement tells Python to ignore the rest of the loop and return to the beginning. "
   ]
  },
  {
   "cell_type": "markdown",
   "metadata": {},
   "source": [
    "## Avoiding infinite loops"
   ]
  },
  {
   "cell_type": "markdown",
   "metadata": {},
   "source": [
    "Sometimes coders make mistakes and write a **while loop** that has no **break** statement, or other exit condition. If your program gets stuck in an infinite loop, and won't stop running, use **CTRL-C** to exit the program."
   ]
  },
  {
   "cell_type": "markdown",
   "metadata": {},
   "source": [
    "# Try It Yourself!"
   ]
  },
  {
   "cell_type": "markdown",
   "metadata": {},
   "source": [
    "## 7-4: Pizza Toppings"
   ]
  },
  {
   "cell_type": "code",
   "execution_count": 3,
   "metadata": {},
   "outputs": [
    {
     "name": "stdout",
     "output_type": "stream",
     "text": [
      "\n",
      "What toppings would you like on your pizza?\n",
      "Enter 'quit' to move pizza to the oven. pepperoni\n",
      "\n",
      "Adding pepperoni to your pizza!\n",
      "\n",
      "What toppings would you like on your pizza?\n",
      "Enter 'quit' to move pizza to the oven. black olives\n",
      "\n",
      "Adding black olives to your pizza!\n",
      "\n",
      "What toppings would you like on your pizza?\n",
      "Enter 'quit' to move pizza to the oven. green peppers\n",
      "\n",
      "Adding green peppers to your pizza!\n",
      "\n",
      "What toppings would you like on your pizza?\n",
      "Enter 'quit' to move pizza to the oven. quit\n",
      "\n",
      "Putting your pizza in the oven now!\n"
     ]
    }
   ],
   "source": [
    "prompt = \"\\nWhat toppings would you like on your pizza?\"\n",
    "prompt += \"\\nEnter 'quit' to move pizza to the oven. \"\n",
    "\n",
    "active = True\n",
    "while active:\n",
    "    topping = input(prompt)\n",
    "    \n",
    "    if topping == 'quit':\n",
    "        active = False\n",
    "        print(\"\\nPutting your pizza in the oven now!\")\n",
    "   \n",
    "    else:\n",
    "        print(\"\\nAdding \" + topping + \" to your pizza!\")"
   ]
  },
  {
   "cell_type": "markdown",
   "metadata": {},
   "source": [
    "## 7-5: Movie Tickets"
   ]
  },
  {
   "cell_type": "code",
   "execution_count": 9,
   "metadata": {},
   "outputs": [
    {
     "name": "stdout",
     "output_type": "stream",
     "text": [
      "WHat is your age? 42\n",
      "Your ticket is $15.\n"
     ]
    }
   ],
   "source": [
    "prompt = input(\"WHat is your age? \")\n",
    "age = int(prompt)\n",
    "\n",
    "if age < 3:\n",
    "    print(\"Your ticket is free!\")\n",
    "elif age <= 12:\n",
    "    print(\"Your ticket is $10.\")\n",
    "else:\n",
    "    print(\"Your ticket is $15.\")"
   ]
  },
  {
   "cell_type": "markdown",
   "metadata": {},
   "source": [
    "## 7-5: Movie Tickets (with a while loop and break statement)"
   ]
  },
  {
   "cell_type": "code",
   "execution_count": 17,
   "metadata": {},
   "outputs": [
    {
     "name": "stdout",
     "output_type": "stream",
     "text": [
      "\n",
      "What is your age?\n",
      "Enter 'quit' when you are finished. 3\n",
      "Your ticket is $10.\n",
      "\n",
      "What is your age?\n",
      "Enter 'quit' when you are finished. 1\n",
      "Your ticket is free!\n",
      "\n",
      "What is your age?\n",
      "Enter 'quit' when you are finished. 6\n",
      "Your ticket is $10.\n",
      "\n",
      "What is your age?\n",
      "Enter 'quit' when you are finished. 72\n",
      "Your ticket is $15.\n",
      "\n",
      "What is your age?\n",
      "Enter 'quit' when you are finished. quit\n"
     ]
    }
   ],
   "source": [
    "prompt = \"\\nWhat is your age?\"\n",
    "prompt += \"\\nEnter 'quit' when you are finished. \"\n",
    "\n",
    "while True:\n",
    "    age = input(prompt)\n",
    "    if age == 'quit':\n",
    "        break\n",
    "    \n",
    "    age = int(age)\n",
    "    if age < 3:\n",
    "        print(\"Your ticket is free!\")\n",
    "    elif age <= 12:\n",
    "        print(\"Your ticket is $10.\")\n",
    "    elif age > 12:\n",
    "        print(\"Your ticket is $15.\")"
   ]
  },
  {
   "cell_type": "markdown",
   "metadata": {},
   "source": [
    "##  7-5: Movie Tickets (conditional test in the while statement)"
   ]
  },
  {
   "cell_type": "code",
   "execution_count": 9,
   "metadata": {},
   "outputs": [
    {
     "name": "stdout",
     "output_type": "stream",
     "text": [
      "\n",
      "What is your age?\n",
      "Enter 'quit' when you are finished. 1\n",
      "Your ticket is free!\n",
      "\n",
      "What is your age?\n",
      "Enter 'quit' when you are finished. 15\n",
      "Your ticket is $15.\n",
      "\n",
      "What is your age?\n",
      "Enter 'quit' when you are finished. quit\n"
     ]
    }
   ],
   "source": [
    "prompt = \"\\nWhat is your age?\"\n",
    "prompt += \"\\nEnter 'quit' when you are finished. \"\n",
    "age = \"\"\n",
    "\n",
    "while age != 'quit':\n",
    "    age = input(prompt)\n",
    "    if age != 'quit':\n",
    "        if int(age) < 3:\n",
    "            print(\"Your ticket is free!\")\n",
    "        elif int(age) <= 12:\n",
    "            print(\"Your ticket is $10.\")\n",
    "        elif int(age) > 12:\n",
    "            print(\"Your ticket is $15.\")"
   ]
  },
  {
   "cell_type": "markdown",
   "metadata": {},
   "source": [
    "## 7-5: Movie Tickets (while loop and flag)"
   ]
  },
  {
   "cell_type": "code",
   "execution_count": 4,
   "metadata": {},
   "outputs": [
    {
     "name": "stdout",
     "output_type": "stream",
     "text": [
      "\n",
      "What is your age?\n",
      "Enter 'quit' when you are finished. 12\n",
      "Your ticket is $10.\n",
      "\n",
      "What is your age?\n",
      "Enter 'quit' when you are finished. 15\n",
      "Your ticket is $15.\n",
      "\n",
      "What is your age?\n",
      "Enter 'quit' when you are finished. 6\n",
      "Your ticket is $10.\n",
      "\n",
      "What is your age?\n",
      "Enter 'quit' when you are finished. 2\n",
      "Your ticket is free!\n",
      "\n",
      "What is your age?\n",
      "Enter 'quit' when you are finished. quit\n"
     ]
    }
   ],
   "source": [
    "prompt = \"\\nWhat is your age?\"\n",
    "prompt += \"\\nEnter 'quit' when you are finished. \"\n",
    "\n",
    "active = True\n",
    "\n",
    "while active:\n",
    "    age = input(prompt)\n",
    "    if age == 'quit':\n",
    "        active = False\n",
    "    elif int(age) < 3:\n",
    "        print(\"Your ticket is free!\")\n",
    "    elif int(age) <= 12:\n",
    "        print(\"Your ticket is $10.\")\n",
    "    elif int(age) > 12:\n",
    "        print(\"Your ticket is $15.\")\n",
    "    "
   ]
  },
  {
   "cell_type": "markdown",
   "metadata": {},
   "source": [
    "# Using a While Loop with Lists and Dictionaries"
   ]
  },
  {
   "cell_type": "markdown",
   "metadata": {},
   "source": [
    "You shouldn't modify a list within a **for loop** because Python will have trouble keeping track of the items in the list. To modify a list as you work through it, use a **while loop**."
   ]
  },
  {
   "cell_type": "markdown",
   "metadata": {},
   "source": [
    "## Moving items from one list to another"
   ]
  },
  {
   "cell_type": "code",
   "execution_count": 10,
   "metadata": {},
   "outputs": [
    {
     "name": "stdout",
     "output_type": "stream",
     "text": [
      "Verifying user: Candace\n",
      "Verifying user: Brian\n",
      "Verifying user: Alice\n",
      "\n",
      "The following users have been confirmed:\n",
      "Candace\n",
      "Brian\n",
      "Alice\n"
     ]
    }
   ],
   "source": [
    "# Start with users that need to be verified,\n",
    "# and an empty list to hold confirmed users.\n",
    "\n",
    "unconfirmed_users = ['alice', 'brian', 'candace']\n",
    "confirmed_users = []\n",
    "\n",
    "# Verify each user until there are no more unconfirmed users.\n",
    "# Move each verified user into the list of confirmed users.\n",
    "\n",
    "while unconfirmed_users:\n",
    "    current_user = unconfirmed_users.pop()\n",
    "    \n",
    "    print(\"Verifying user: \" + current_user.title())\n",
    "    confirmed_users.append(current_user)\n",
    "\n",
    "# Display all confirmed users.\n",
    "\n",
    "print(\"\\nThe following users have been confirmed:\")\n",
    "for confirmed_user in confirmed_users:\n",
    "    print(confirmed_user.title())"
   ]
  },
  {
   "cell_type": "markdown",
   "metadata": {},
   "source": [
    "Here, we have a list of newly registered but unverified users of a website. We want to verify these users, and move them to a list of confirmed users. \n",
    "\n",
    "We begin with a list of unconfirmed users, and an empty list to hold the confirmed users. The **while loop** will run as long as the unconfirmed users list is not empty. In the loop, the **pop()** function removes unverified users one at a time from the end of the list (that's why Candace was pulled first). \n",
    "\n",
    "We confirm each user by printing a verification message and then adding them to the list of confirmed users. As the list of unconfirmed users shrinks, the list of confirmed users grows. When the list of unconfirmed users is empty, the loop stops and the list of confirmed users is printed."
   ]
  },
  {
   "cell_type": "markdown",
   "metadata": {},
   "source": [
    "## Removing all instances of specific values from a list"
   ]
  },
  {
   "cell_type": "code",
   "execution_count": 11,
   "metadata": {},
   "outputs": [
    {
     "name": "stdout",
     "output_type": "stream",
     "text": [
      "['dog', 'cat', 'dog', 'goldfish', 'cat', 'rabbit', 'cat']\n",
      "['dog', 'dog', 'goldfish', 'rabbit']\n"
     ]
    }
   ],
   "source": [
    "pets = ['dog', 'cat', 'dog', 'goldfish', 'cat', 'rabbit', 'cat']\n",
    "print(pets)\n",
    "\n",
    "while 'cat' in pets:\n",
    "    pets.remove('cat')\n",
    "    \n",
    "print(pets)"
   ]
  },
  {
   "cell_type": "markdown",
   "metadata": {},
   "source": [
    "You can remove all instances of a specific value from a list with a **while loop** and **remove()** function. Here, Python keeps looping through the list, removing an instance of 'cat', and looping through again until the value is no longer in the list. Then Python will exit the loop and print the list again."
   ]
  },
  {
   "cell_type": "markdown",
   "metadata": {},
   "source": [
    "## Filling a dictionary with user input"
   ]
  },
  {
   "cell_type": "code",
   "execution_count": 12,
   "metadata": {},
   "outputs": [
    {
     "name": "stdout",
     "output_type": "stream",
     "text": [
      "\n",
      "What is your name? Amanda\n",
      "Which mountain would you like to climb someday? Nikko\n",
      "Would you like to let another person respond? (yes/ no) yes\n",
      "\n",
      "What is your name? Pete\n",
      "Which mountain would you like to climb someday? Mt. Everest\n",
      "Would you like to let another person respond? (yes/ no) yes\n",
      "\n",
      "What is your name? Tom\n",
      "Which mountain would you like to climb someday? Fuji\n",
      "Would you like to let another person respond? (yes/ no) no\n",
      "\n",
      "--- Poll Results ---\n",
      "Amanda would like to climb Nikko.\n",
      "Pete would like to climb Mt. Everest.\n",
      "Tom would like to climb Fuji.\n"
     ]
    }
   ],
   "source": [
    "responses = {}\n",
    "\n",
    "# Set a flag to indicate that polling is active.\n",
    "\n",
    "polling_active = True\n",
    "\n",
    "while polling_active:\n",
    "    # Prompt for the person's name and response.\n",
    "    name = input(\"\\nWhat is your name? \")\n",
    "    response = input(\"Which mountain would you like to climb someday? \")\n",
    "    \n",
    "    # Store the response in the dictionary.\n",
    "    responses[name] = response\n",
    "    \n",
    "    # Find out if anyone else is going to take the poll.\n",
    "    repeat = input(\"Would you like to let another person respond? (yes/ no) \")\n",
    "    if repeat == 'no':\n",
    "        polling_active = False\n",
    "        \n",
    "# Polling is complete. Show the results.\n",
    "print(\"\\n--- Poll Results ---\")\n",
    "for name, response in responses.items():\n",
    "    print(name + \" would like to climb \" + response + \".\")"
   ]
  },
  {
   "cell_type": "markdown",
   "metadata": {},
   "source": [
    "Here you can prompt for as much as input as you need in each pass through a **while loop**. This is a polling program where each pass through the **while loop** prompts for the participant's name and response. This data is stored in a dictionary, because we want to connect each response with a particular user.\n",
    "\n",
    "We first define an empty dictionary, **responses**, and set a flag, **polling_active** to indicate that the polling is active. Within the **while loop**, the user is prompted to ender their name and mountain they'd like to climb. That data is stored in the **responses** dictionary, and the user is asked whether to keep the poll running. If they enter 'yes', Python will run the loop again. If they enter 'no', the **polling_active** flag will be set to *False*, and the loop will stop running. Then the final code will display the poll results."
   ]
  },
  {
   "cell_type": "markdown",
   "metadata": {},
   "source": [
    "# Try It Yourself!"
   ]
  },
  {
   "cell_type": "markdown",
   "metadata": {},
   "source": [
    "## 7-8: Deli"
   ]
  },
  {
   "cell_type": "code",
   "execution_count": 23,
   "metadata": {},
   "outputs": [
    {
     "name": "stdout",
     "output_type": "stream",
     "text": [
      "Making the chicken salad.\n",
      "Making the ham and cheese.\n",
      "Making the BLT.\n",
      "Making the turkey club.\n",
      "Making the meatball sub.\n",
      "\n",
      "The following sandwiches have been made:\n",
      "**chicken salad\n",
      "**ham and cheese\n",
      "**BLT\n",
      "**turkey club\n",
      "**meatball sub\n"
     ]
    }
   ],
   "source": [
    "sandwich_orders = ['meatball sub', 'turkey club', 'blt', 'ham and cheese', 'chicken salad']\n",
    "finished_sandwiches = []\n",
    "\n",
    "while sandwich_orders:\n",
    "    made_sandwich = sandwich_orders.pop()\n",
    "    \n",
    "    if made_sandwich == 'blt':\n",
    "        print(\"Making the \" + made_sandwich.upper() + \".\")\n",
    "    else:\n",
    "        print(\"Making the \" + made_sandwich + \".\")\n",
    "    \n",
    "    finished_sandwiches.append(made_sandwich)\n",
    "    \n",
    "print(\"\\nThe following sandwiches have been made:\")\n",
    "for sandwich in finished_sandwiches:\n",
    "    if sandwich == 'blt':\n",
    "        print(\"**\" + sandwich.upper())\n",
    "    else:\n",
    "        print(\"**\" + sandwich)"
   ]
  },
  {
   "cell_type": "markdown",
   "metadata": {},
   "source": [
    "## 7-9: No Pastrami"
   ]
  },
  {
   "cell_type": "code",
   "execution_count": 24,
   "metadata": {},
   "outputs": [
    {
     "name": "stdout",
     "output_type": "stream",
     "text": [
      "We're sorry, we have run out of pastrami for the day!\n",
      "\n",
      "\n",
      "Making the chicken salad.\n",
      "Making the ham and cheese.\n",
      "Making the BLT.\n",
      "Making the turkey club.\n",
      "Making the meatball sub.\n",
      "\n",
      "The following sandwiches have been made:\n",
      "**chicken salad\n",
      "**ham and cheese\n",
      "**BLT\n",
      "**turkey club\n",
      "**meatball sub\n"
     ]
    }
   ],
   "source": [
    "sandwich_orders = ['meatball sub', 'pastrami', 'turkey club', 'pastrami', 'blt', \n",
    "                   'pastrami', 'ham and cheese', 'pastrami', 'chicken salad']\n",
    "finished_sandwiches = []\n",
    "\n",
    "print(\"We're sorry, we have run out of pastrami for the day!\")\n",
    "print(\"\\n\")\n",
    "\n",
    "while 'pastrami' in sandwich_orders:\n",
    "    sandwich_orders.remove('pastrami')\n",
    "\n",
    "while sandwich_orders:\n",
    "    made_sandwich = sandwich_orders.pop()\n",
    "    \n",
    "    if made_sandwich == 'blt':\n",
    "        print(\"Making the \" + made_sandwich.upper() + \".\")\n",
    "    else:\n",
    "        print(\"Making the \" + made_sandwich + \".\")\n",
    "    \n",
    "    finished_sandwiches.append(made_sandwich)\n",
    "    \n",
    "print(\"\\nThe following sandwiches have been made:\")\n",
    "for sandwich in finished_sandwiches:\n",
    "    if sandwich == 'blt':\n",
    "        print(\"**\" + sandwich.upper())\n",
    "    else:\n",
    "        print(\"**\" + sandwich)"
   ]
  },
  {
   "cell_type": "markdown",
   "metadata": {},
   "source": [
    "## 7-10: Dream Vacation"
   ]
  },
  {
   "cell_type": "code",
   "execution_count": 28,
   "metadata": {},
   "outputs": [
    {
     "name": "stdout",
     "output_type": "stream",
     "text": [
      "What is your name? Amanda\n",
      "If you had all the money and time in the world, where would you go for a vacation? Japan\n",
      "Continue polling? Answer 'yes' or 'no': yes\n",
      "What is your name? Kimchi\n",
      "If you had all the money and time in the world, where would you go for a vacation? Vietnam\n",
      "Continue polling? Answer 'yes' or 'no': Tom\n",
      "What is your name? Tom\n",
      "If you had all the money and time in the world, where would you go for a vacation? Greece\n",
      "Continue polling? Answer 'yes' or 'no': yes\n",
      "What is your name? Kayla\n",
      "If you had all the money and time in the world, where would you go for a vacation? Italy\n",
      "Continue polling? Answer 'yes' or 'no': no\n",
      "\n",
      "Here are the results of the vacation poll:\n",
      "\n",
      "Amanda would love to go to Japan!\n",
      "\n",
      "Kimchi would love to go to Vietnam!\n",
      "\n",
      "Tom would love to go to Greece!\n",
      "\n",
      "Kayla would love to go to Italy!\n"
     ]
    }
   ],
   "source": [
    "results = {}\n",
    "\n",
    "polling_active = True\n",
    "\n",
    "while polling_active:\n",
    "    name = input(\"What is your name? \")\n",
    "    vacation = input(\"If you had all the money and time\" + \n",
    "                     \" in the world, where would you go\" + \n",
    "                     \" for a vacation? \")\n",
    "    \n",
    "    results[name] = vacation\n",
    "    \n",
    "    restart = input(\"Continue polling? Answer 'yes' or 'no': \")\n",
    "    if restart == 'no':\n",
    "        polling_active = False\n",
    "\n",
    "print(\"\\nHere are the results of the vacation poll:\")\n",
    "\n",
    "for name, vacation in results.items():\n",
    "    print(\"\\n\" + name.title() + \" would love to go to \" + vacation.title() + \"!\")"
   ]
  },
  {
   "cell_type": "code",
   "execution_count": null,
   "metadata": {},
   "outputs": [],
   "source": []
  }
 ],
 "metadata": {
  "kernelspec": {
   "display_name": "Python 3",
   "language": "python",
   "name": "python3"
  },
  "language_info": {
   "codemirror_mode": {
    "name": "ipython",
    "version": 3
   },
   "file_extension": ".py",
   "mimetype": "text/x-python",
   "name": "python",
   "nbconvert_exporter": "python",
   "pygments_lexer": "ipython3",
   "version": "3.7.0"
  }
 },
 "nbformat": 4,
 "nbformat_minor": 2
}
